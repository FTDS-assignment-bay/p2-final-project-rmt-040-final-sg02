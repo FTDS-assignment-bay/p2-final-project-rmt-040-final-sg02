{
  "nbformat": 4,
  "nbformat_minor": 0,
  "metadata": {
    "colab": {
      "provenance": []
    },
    "kernelspec": {
      "name": "python3",
      "display_name": "Python 3"
    },
    "language_info": {
      "name": "python"
    }
  },
  "cells": [
    {
      "cell_type": "markdown",
      "source": [
        "### Author: Juan Nembaopit"
      ],
      "metadata": {
        "id": "GsfTyJpY2rzn"
      }
    },
    {
      "cell_type": "markdown",
      "source": [
        "## Objective\n",
        "\n",
        "Tujuan utama pengembangan sistem ini adalah membuat asisten pajak digital (Chatbot) yang mampu menjawab pertanyaan kompleks seputar perpajakan Indonesia secara akurat menggunakan RAG dengan GPT-4 dan memastikan jawaban terstruktur tanpa referensi eksternal. Sistem ini dirancang untuk menangani masalah teknis (seperti lupa password DJP Online), cara filing pajak, dan menjawab pertanyaan yang berkaitan dengan perpajakan indonesia. Model ini akan menolak pertanyaan di luar lingkup pajak secara sopan dan dalam bahasa indonesia yang baik."
      ],
      "metadata": {
        "id": "aKbhA3QzndR-"
      }
    },
    {
      "cell_type": "code",
      "execution_count": 1,
      "metadata": {
        "colab": {
          "base_uri": "https://localhost:8080/"
        },
        "id": "oSXBUi-dbRG_",
        "outputId": "1b7fd93c-dc43-4050-dc2b-a4c3c2b91d1b"
      },
      "outputs": [
        {
          "output_type": "stream",
          "name": "stdout",
          "text": [
            "Collecting pymongo\n",
            "  Downloading pymongo-4.12.0-cp311-cp311-manylinux_2_17_x86_64.manylinux2014_x86_64.whl.metadata (22 kB)\n",
            "Collecting dnspython<3.0.0,>=1.16.0 (from pymongo)\n",
            "  Downloading dnspython-2.7.0-py3-none-any.whl.metadata (5.8 kB)\n",
            "Downloading pymongo-4.12.0-cp311-cp311-manylinux_2_17_x86_64.manylinux2014_x86_64.whl (1.4 MB)\n",
            "\u001b[2K   \u001b[90m━━━━━━━━━━━━━━━━━━━━━━━━━━━━━━━━━━━━━━━━\u001b[0m \u001b[32m1.4/1.4 MB\u001b[0m \u001b[31m32.1 MB/s\u001b[0m eta \u001b[36m0:00:00\u001b[0m\n",
            "\u001b[?25hDownloading dnspython-2.7.0-py3-none-any.whl (313 kB)\n",
            "\u001b[2K   \u001b[90m━━━━━━━━━━━━━━━━━━━━━━━━━━━━━━━━━━━━━━━━\u001b[0m \u001b[32m313.6/313.6 kB\u001b[0m \u001b[31m19.0 MB/s\u001b[0m eta \u001b[36m0:00:00\u001b[0m\n",
            "\u001b[?25hInstalling collected packages: dnspython, pymongo\n",
            "Successfully installed dnspython-2.7.0 pymongo-4.12.0\n"
          ]
        }
      ],
      "source": [
        "!pip install pymongo"
      ]
    },
    {
      "cell_type": "code",
      "source": [
        "!pip install langchain_community"
      ],
      "metadata": {
        "colab": {
          "base_uri": "https://localhost:8080/"
        },
        "id": "aP-oprKZblX3",
        "outputId": "2fabd0ec-2a8c-4743-b6c9-f69a9388ee60"
      },
      "execution_count": 2,
      "outputs": [
        {
          "output_type": "stream",
          "name": "stdout",
          "text": [
            "Collecting langchain_community\n",
            "  Downloading langchain_community-0.3.22-py3-none-any.whl.metadata (2.4 kB)\n",
            "Collecting langchain-core<1.0.0,>=0.3.55 (from langchain_community)\n",
            "  Downloading langchain_core-0.3.55-py3-none-any.whl.metadata (5.9 kB)\n",
            "Collecting langchain<1.0.0,>=0.3.24 (from langchain_community)\n",
            "  Downloading langchain-0.3.24-py3-none-any.whl.metadata (7.8 kB)\n",
            "Requirement already satisfied: SQLAlchemy<3,>=1.4 in /usr/local/lib/python3.11/dist-packages (from langchain_community) (2.0.40)\n",
            "Requirement already satisfied: requests<3,>=2 in /usr/local/lib/python3.11/dist-packages (from langchain_community) (2.32.3)\n",
            "Requirement already satisfied: PyYAML>=5.3 in /usr/local/lib/python3.11/dist-packages (from langchain_community) (6.0.2)\n",
            "Requirement already satisfied: aiohttp<4.0.0,>=3.8.3 in /usr/local/lib/python3.11/dist-packages (from langchain_community) (3.11.15)\n",
            "Requirement already satisfied: tenacity!=8.4.0,<10,>=8.1.0 in /usr/local/lib/python3.11/dist-packages (from langchain_community) (9.1.2)\n",
            "Collecting dataclasses-json<0.7,>=0.5.7 (from langchain_community)\n",
            "  Downloading dataclasses_json-0.6.7-py3-none-any.whl.metadata (25 kB)\n",
            "Collecting pydantic-settings<3.0.0,>=2.4.0 (from langchain_community)\n",
            "  Downloading pydantic_settings-2.9.1-py3-none-any.whl.metadata (3.8 kB)\n",
            "Requirement already satisfied: langsmith<0.4,>=0.1.125 in /usr/local/lib/python3.11/dist-packages (from langchain_community) (0.3.31)\n",
            "Collecting httpx-sse<1.0.0,>=0.4.0 (from langchain_community)\n",
            "  Downloading httpx_sse-0.4.0-py3-none-any.whl.metadata (9.0 kB)\n",
            "Requirement already satisfied: numpy>=1.26.2 in /usr/local/lib/python3.11/dist-packages (from langchain_community) (2.0.2)\n",
            "Requirement already satisfied: aiohappyeyeballs>=2.3.0 in /usr/local/lib/python3.11/dist-packages (from aiohttp<4.0.0,>=3.8.3->langchain_community) (2.6.1)\n",
            "Requirement already satisfied: aiosignal>=1.1.2 in /usr/local/lib/python3.11/dist-packages (from aiohttp<4.0.0,>=3.8.3->langchain_community) (1.3.2)\n",
            "Requirement already satisfied: attrs>=17.3.0 in /usr/local/lib/python3.11/dist-packages (from aiohttp<4.0.0,>=3.8.3->langchain_community) (25.3.0)\n",
            "Requirement already satisfied: frozenlist>=1.1.1 in /usr/local/lib/python3.11/dist-packages (from aiohttp<4.0.0,>=3.8.3->langchain_community) (1.5.0)\n",
            "Requirement already satisfied: multidict<7.0,>=4.5 in /usr/local/lib/python3.11/dist-packages (from aiohttp<4.0.0,>=3.8.3->langchain_community) (6.4.3)\n",
            "Requirement already satisfied: propcache>=0.2.0 in /usr/local/lib/python3.11/dist-packages (from aiohttp<4.0.0,>=3.8.3->langchain_community) (0.3.1)\n",
            "Requirement already satisfied: yarl<2.0,>=1.17.0 in /usr/local/lib/python3.11/dist-packages (from aiohttp<4.0.0,>=3.8.3->langchain_community) (1.19.0)\n",
            "Collecting marshmallow<4.0.0,>=3.18.0 (from dataclasses-json<0.7,>=0.5.7->langchain_community)\n",
            "  Downloading marshmallow-3.26.1-py3-none-any.whl.metadata (7.3 kB)\n",
            "Collecting typing-inspect<1,>=0.4.0 (from dataclasses-json<0.7,>=0.5.7->langchain_community)\n",
            "  Downloading typing_inspect-0.9.0-py3-none-any.whl.metadata (1.5 kB)\n",
            "Requirement already satisfied: langchain-text-splitters<1.0.0,>=0.3.8 in /usr/local/lib/python3.11/dist-packages (from langchain<1.0.0,>=0.3.24->langchain_community) (0.3.8)\n",
            "Requirement already satisfied: pydantic<3.0.0,>=2.7.4 in /usr/local/lib/python3.11/dist-packages (from langchain<1.0.0,>=0.3.24->langchain_community) (2.11.3)\n",
            "Requirement already satisfied: jsonpatch<2.0,>=1.33 in /usr/local/lib/python3.11/dist-packages (from langchain-core<1.0.0,>=0.3.55->langchain_community) (1.33)\n",
            "Requirement already satisfied: packaging<25,>=23.2 in /usr/local/lib/python3.11/dist-packages (from langchain-core<1.0.0,>=0.3.55->langchain_community) (24.2)\n",
            "Requirement already satisfied: typing-extensions>=4.7 in /usr/local/lib/python3.11/dist-packages (from langchain-core<1.0.0,>=0.3.55->langchain_community) (4.13.2)\n",
            "Requirement already satisfied: httpx<1,>=0.23.0 in /usr/local/lib/python3.11/dist-packages (from langsmith<0.4,>=0.1.125->langchain_community) (0.28.1)\n",
            "Requirement already satisfied: orjson<4.0.0,>=3.9.14 in /usr/local/lib/python3.11/dist-packages (from langsmith<0.4,>=0.1.125->langchain_community) (3.10.16)\n",
            "Requirement already satisfied: requests-toolbelt<2.0.0,>=1.0.0 in /usr/local/lib/python3.11/dist-packages (from langsmith<0.4,>=0.1.125->langchain_community) (1.0.0)\n",
            "Requirement already satisfied: zstandard<0.24.0,>=0.23.0 in /usr/local/lib/python3.11/dist-packages (from langsmith<0.4,>=0.1.125->langchain_community) (0.23.0)\n",
            "Collecting python-dotenv>=0.21.0 (from pydantic-settings<3.0.0,>=2.4.0->langchain_community)\n",
            "  Downloading python_dotenv-1.1.0-py3-none-any.whl.metadata (24 kB)\n",
            "Requirement already satisfied: typing-inspection>=0.4.0 in /usr/local/lib/python3.11/dist-packages (from pydantic-settings<3.0.0,>=2.4.0->langchain_community) (0.4.0)\n",
            "Requirement already satisfied: charset-normalizer<4,>=2 in /usr/local/lib/python3.11/dist-packages (from requests<3,>=2->langchain_community) (3.4.1)\n",
            "Requirement already satisfied: idna<4,>=2.5 in /usr/local/lib/python3.11/dist-packages (from requests<3,>=2->langchain_community) (3.10)\n",
            "Requirement already satisfied: urllib3<3,>=1.21.1 in /usr/local/lib/python3.11/dist-packages (from requests<3,>=2->langchain_community) (2.3.0)\n",
            "Requirement already satisfied: certifi>=2017.4.17 in /usr/local/lib/python3.11/dist-packages (from requests<3,>=2->langchain_community) (2025.1.31)\n",
            "Requirement already satisfied: greenlet>=1 in /usr/local/lib/python3.11/dist-packages (from SQLAlchemy<3,>=1.4->langchain_community) (3.2.0)\n",
            "Requirement already satisfied: anyio in /usr/local/lib/python3.11/dist-packages (from httpx<1,>=0.23.0->langsmith<0.4,>=0.1.125->langchain_community) (4.9.0)\n",
            "Requirement already satisfied: httpcore==1.* in /usr/local/lib/python3.11/dist-packages (from httpx<1,>=0.23.0->langsmith<0.4,>=0.1.125->langchain_community) (1.0.8)\n",
            "Requirement already satisfied: h11<0.15,>=0.13 in /usr/local/lib/python3.11/dist-packages (from httpcore==1.*->httpx<1,>=0.23.0->langsmith<0.4,>=0.1.125->langchain_community) (0.14.0)\n",
            "Requirement already satisfied: jsonpointer>=1.9 in /usr/local/lib/python3.11/dist-packages (from jsonpatch<2.0,>=1.33->langchain-core<1.0.0,>=0.3.55->langchain_community) (3.0.0)\n",
            "Requirement already satisfied: annotated-types>=0.6.0 in /usr/local/lib/python3.11/dist-packages (from pydantic<3.0.0,>=2.7.4->langchain<1.0.0,>=0.3.24->langchain_community) (0.7.0)\n",
            "Requirement already satisfied: pydantic-core==2.33.1 in /usr/local/lib/python3.11/dist-packages (from pydantic<3.0.0,>=2.7.4->langchain<1.0.0,>=0.3.24->langchain_community) (2.33.1)\n",
            "Collecting mypy-extensions>=0.3.0 (from typing-inspect<1,>=0.4.0->dataclasses-json<0.7,>=0.5.7->langchain_community)\n",
            "  Downloading mypy_extensions-1.1.0-py3-none-any.whl.metadata (1.1 kB)\n",
            "Requirement already satisfied: sniffio>=1.1 in /usr/local/lib/python3.11/dist-packages (from anyio->httpx<1,>=0.23.0->langsmith<0.4,>=0.1.125->langchain_community) (1.3.1)\n",
            "Downloading langchain_community-0.3.22-py3-none-any.whl (2.5 MB)\n",
            "\u001b[2K   \u001b[90m━━━━━━━━━━━━━━━━━━━━━━━━━━━━━━━━━━━━━━━━\u001b[0m \u001b[32m2.5/2.5 MB\u001b[0m \u001b[31m32.0 MB/s\u001b[0m eta \u001b[36m0:00:00\u001b[0m\n",
            "\u001b[?25hDownloading dataclasses_json-0.6.7-py3-none-any.whl (28 kB)\n",
            "Downloading httpx_sse-0.4.0-py3-none-any.whl (7.8 kB)\n",
            "Downloading langchain-0.3.24-py3-none-any.whl (1.0 MB)\n",
            "\u001b[2K   \u001b[90m━━━━━━━━━━━━━━━━━━━━━━━━━━━━━━━━━━━━━━━━\u001b[0m \u001b[32m1.0/1.0 MB\u001b[0m \u001b[31m31.0 MB/s\u001b[0m eta \u001b[36m0:00:00\u001b[0m\n",
            "\u001b[?25hDownloading langchain_core-0.3.55-py3-none-any.whl (434 kB)\n",
            "\u001b[2K   \u001b[90m━━━━━━━━━━━━━━━━━━━━━━━━━━━━━━━━━━━━━━━━\u001b[0m \u001b[32m434.1/434.1 kB\u001b[0m \u001b[31m23.2 MB/s\u001b[0m eta \u001b[36m0:00:00\u001b[0m\n",
            "\u001b[?25hDownloading pydantic_settings-2.9.1-py3-none-any.whl (44 kB)\n",
            "\u001b[2K   \u001b[90m━━━━━━━━━━━━━━━━━━━━━━━━━━━━━━━━━━━━━━━━\u001b[0m \u001b[32m44.4/44.4 kB\u001b[0m \u001b[31m2.4 MB/s\u001b[0m eta \u001b[36m0:00:00\u001b[0m\n",
            "\u001b[?25hDownloading marshmallow-3.26.1-py3-none-any.whl (50 kB)\n",
            "\u001b[2K   \u001b[90m━━━━━━━━━━━━━━━━━━━━━━━━━━━━━━━━━━━━━━━━\u001b[0m \u001b[32m50.9/50.9 kB\u001b[0m \u001b[31m1.5 MB/s\u001b[0m eta \u001b[36m0:00:00\u001b[0m\n",
            "\u001b[?25hDownloading python_dotenv-1.1.0-py3-none-any.whl (20 kB)\n",
            "Downloading typing_inspect-0.9.0-py3-none-any.whl (8.8 kB)\n",
            "Downloading mypy_extensions-1.1.0-py3-none-any.whl (5.0 kB)\n",
            "Installing collected packages: python-dotenv, mypy-extensions, marshmallow, httpx-sse, typing-inspect, pydantic-settings, dataclasses-json, langchain-core, langchain, langchain_community\n",
            "  Attempting uninstall: langchain-core\n",
            "    Found existing installation: langchain-core 0.3.52\n",
            "    Uninstalling langchain-core-0.3.52:\n",
            "      Successfully uninstalled langchain-core-0.3.52\n",
            "  Attempting uninstall: langchain\n",
            "    Found existing installation: langchain 0.3.23\n",
            "    Uninstalling langchain-0.3.23:\n",
            "      Successfully uninstalled langchain-0.3.23\n",
            "Successfully installed dataclasses-json-0.6.7 httpx-sse-0.4.0 langchain-0.3.24 langchain-core-0.3.55 langchain_community-0.3.22 marshmallow-3.26.1 mypy-extensions-1.1.0 pydantic-settings-2.9.1 python-dotenv-1.1.0 typing-inspect-0.9.0\n"
          ]
        }
      ]
    },
    {
      "cell_type": "code",
      "source": [
        "!pip install langchain_openai"
      ],
      "metadata": {
        "colab": {
          "base_uri": "https://localhost:8080/"
        },
        "id": "cs74YIyIbnk7",
        "outputId": "7790b216-1ed4-4509-c37b-7bedcf2b9825"
      },
      "execution_count": 3,
      "outputs": [
        {
          "output_type": "stream",
          "name": "stdout",
          "text": [
            "Collecting langchain_openai\n",
            "  Downloading langchain_openai-0.3.14-py3-none-any.whl.metadata (2.3 kB)\n",
            "Requirement already satisfied: langchain-core<1.0.0,>=0.3.53 in /usr/local/lib/python3.11/dist-packages (from langchain_openai) (0.3.55)\n",
            "Requirement already satisfied: openai<2.0.0,>=1.68.2 in /usr/local/lib/python3.11/dist-packages (from langchain_openai) (1.75.0)\n",
            "Collecting tiktoken<1,>=0.7 (from langchain_openai)\n",
            "  Downloading tiktoken-0.9.0-cp311-cp311-manylinux_2_17_x86_64.manylinux2014_x86_64.whl.metadata (6.7 kB)\n",
            "Requirement already satisfied: langsmith<0.4,>=0.1.125 in /usr/local/lib/python3.11/dist-packages (from langchain-core<1.0.0,>=0.3.53->langchain_openai) (0.3.31)\n",
            "Requirement already satisfied: tenacity!=8.4.0,<10.0.0,>=8.1.0 in /usr/local/lib/python3.11/dist-packages (from langchain-core<1.0.0,>=0.3.53->langchain_openai) (9.1.2)\n",
            "Requirement already satisfied: jsonpatch<2.0,>=1.33 in /usr/local/lib/python3.11/dist-packages (from langchain-core<1.0.0,>=0.3.53->langchain_openai) (1.33)\n",
            "Requirement already satisfied: PyYAML>=5.3 in /usr/local/lib/python3.11/dist-packages (from langchain-core<1.0.0,>=0.3.53->langchain_openai) (6.0.2)\n",
            "Requirement already satisfied: packaging<25,>=23.2 in /usr/local/lib/python3.11/dist-packages (from langchain-core<1.0.0,>=0.3.53->langchain_openai) (24.2)\n",
            "Requirement already satisfied: typing-extensions>=4.7 in /usr/local/lib/python3.11/dist-packages (from langchain-core<1.0.0,>=0.3.53->langchain_openai) (4.13.2)\n",
            "Requirement already satisfied: pydantic<3.0.0,>=2.5.2 in /usr/local/lib/python3.11/dist-packages (from langchain-core<1.0.0,>=0.3.53->langchain_openai) (2.11.3)\n",
            "Requirement already satisfied: anyio<5,>=3.5.0 in /usr/local/lib/python3.11/dist-packages (from openai<2.0.0,>=1.68.2->langchain_openai) (4.9.0)\n",
            "Requirement already satisfied: distro<2,>=1.7.0 in /usr/local/lib/python3.11/dist-packages (from openai<2.0.0,>=1.68.2->langchain_openai) (1.9.0)\n",
            "Requirement already satisfied: httpx<1,>=0.23.0 in /usr/local/lib/python3.11/dist-packages (from openai<2.0.0,>=1.68.2->langchain_openai) (0.28.1)\n",
            "Requirement already satisfied: jiter<1,>=0.4.0 in /usr/local/lib/python3.11/dist-packages (from openai<2.0.0,>=1.68.2->langchain_openai) (0.9.0)\n",
            "Requirement already satisfied: sniffio in /usr/local/lib/python3.11/dist-packages (from openai<2.0.0,>=1.68.2->langchain_openai) (1.3.1)\n",
            "Requirement already satisfied: tqdm>4 in /usr/local/lib/python3.11/dist-packages (from openai<2.0.0,>=1.68.2->langchain_openai) (4.67.1)\n",
            "Requirement already satisfied: regex>=2022.1.18 in /usr/local/lib/python3.11/dist-packages (from tiktoken<1,>=0.7->langchain_openai) (2024.11.6)\n",
            "Requirement already satisfied: requests>=2.26.0 in /usr/local/lib/python3.11/dist-packages (from tiktoken<1,>=0.7->langchain_openai) (2.32.3)\n",
            "Requirement already satisfied: idna>=2.8 in /usr/local/lib/python3.11/dist-packages (from anyio<5,>=3.5.0->openai<2.0.0,>=1.68.2->langchain_openai) (3.10)\n",
            "Requirement already satisfied: certifi in /usr/local/lib/python3.11/dist-packages (from httpx<1,>=0.23.0->openai<2.0.0,>=1.68.2->langchain_openai) (2025.1.31)\n",
            "Requirement already satisfied: httpcore==1.* in /usr/local/lib/python3.11/dist-packages (from httpx<1,>=0.23.0->openai<2.0.0,>=1.68.2->langchain_openai) (1.0.8)\n",
            "Requirement already satisfied: h11<0.15,>=0.13 in /usr/local/lib/python3.11/dist-packages (from httpcore==1.*->httpx<1,>=0.23.0->openai<2.0.0,>=1.68.2->langchain_openai) (0.14.0)\n",
            "Requirement already satisfied: jsonpointer>=1.9 in /usr/local/lib/python3.11/dist-packages (from jsonpatch<2.0,>=1.33->langchain-core<1.0.0,>=0.3.53->langchain_openai) (3.0.0)\n",
            "Requirement already satisfied: orjson<4.0.0,>=3.9.14 in /usr/local/lib/python3.11/dist-packages (from langsmith<0.4,>=0.1.125->langchain-core<1.0.0,>=0.3.53->langchain_openai) (3.10.16)\n",
            "Requirement already satisfied: requests-toolbelt<2.0.0,>=1.0.0 in /usr/local/lib/python3.11/dist-packages (from langsmith<0.4,>=0.1.125->langchain-core<1.0.0,>=0.3.53->langchain_openai) (1.0.0)\n",
            "Requirement already satisfied: zstandard<0.24.0,>=0.23.0 in /usr/local/lib/python3.11/dist-packages (from langsmith<0.4,>=0.1.125->langchain-core<1.0.0,>=0.3.53->langchain_openai) (0.23.0)\n",
            "Requirement already satisfied: annotated-types>=0.6.0 in /usr/local/lib/python3.11/dist-packages (from pydantic<3.0.0,>=2.5.2->langchain-core<1.0.0,>=0.3.53->langchain_openai) (0.7.0)\n",
            "Requirement already satisfied: pydantic-core==2.33.1 in /usr/local/lib/python3.11/dist-packages (from pydantic<3.0.0,>=2.5.2->langchain-core<1.0.0,>=0.3.53->langchain_openai) (2.33.1)\n",
            "Requirement already satisfied: typing-inspection>=0.4.0 in /usr/local/lib/python3.11/dist-packages (from pydantic<3.0.0,>=2.5.2->langchain-core<1.0.0,>=0.3.53->langchain_openai) (0.4.0)\n",
            "Requirement already satisfied: charset-normalizer<4,>=2 in /usr/local/lib/python3.11/dist-packages (from requests>=2.26.0->tiktoken<1,>=0.7->langchain_openai) (3.4.1)\n",
            "Requirement already satisfied: urllib3<3,>=1.21.1 in /usr/local/lib/python3.11/dist-packages (from requests>=2.26.0->tiktoken<1,>=0.7->langchain_openai) (2.3.0)\n",
            "Downloading langchain_openai-0.3.14-py3-none-any.whl (62 kB)\n",
            "\u001b[2K   \u001b[90m━━━━━━━━━━━━━━━━━━━━━━━━━━━━━━━━━━━━━━━━\u001b[0m \u001b[32m62.4/62.4 kB\u001b[0m \u001b[31m3.1 MB/s\u001b[0m eta \u001b[36m0:00:00\u001b[0m\n",
            "\u001b[?25hDownloading tiktoken-0.9.0-cp311-cp311-manylinux_2_17_x86_64.manylinux2014_x86_64.whl (1.2 MB)\n",
            "\u001b[2K   \u001b[90m━━━━━━━━━━━━━━━━━━━━━━━━━━━━━━━━━━━━━━━━\u001b[0m \u001b[32m1.2/1.2 MB\u001b[0m \u001b[31m23.8 MB/s\u001b[0m eta \u001b[36m0:00:00\u001b[0m\n",
            "\u001b[?25hInstalling collected packages: tiktoken, langchain_openai\n",
            "Successfully installed langchain_openai-0.3.14 tiktoken-0.9.0\n"
          ]
        }
      ]
    },
    {
      "cell_type": "code",
      "source": [
        "!pip install langchain_mongodb"
      ],
      "metadata": {
        "colab": {
          "base_uri": "https://localhost:8080/"
        },
        "id": "CPNQViDq0_vp",
        "outputId": "3dc2aaac-14a0-4aa8-ef16-bf2de8cb81f2"
      },
      "execution_count": 4,
      "outputs": [
        {
          "output_type": "stream",
          "name": "stdout",
          "text": [
            "Collecting langchain_mongodb\n",
            "  Downloading langchain_mongodb-0.6.1-py3-none-any.whl.metadata (1.7 kB)\n",
            "Requirement already satisfied: langchain-core>=0.3 in /usr/local/lib/python3.11/dist-packages (from langchain_mongodb) (0.3.55)\n",
            "Requirement already satisfied: langchain-text-splitters>=0.3 in /usr/local/lib/python3.11/dist-packages (from langchain_mongodb) (0.3.8)\n",
            "Requirement already satisfied: langchain>=0.3 in /usr/local/lib/python3.11/dist-packages (from langchain_mongodb) (0.3.24)\n",
            "Collecting lark<2.0.0,>=1.1.9 (from langchain_mongodb)\n",
            "  Downloading lark-1.2.2-py3-none-any.whl.metadata (1.8 kB)\n",
            "Requirement already satisfied: numpy>=1.26 in /usr/local/lib/python3.11/dist-packages (from langchain_mongodb) (2.0.2)\n",
            "Requirement already satisfied: pymongo>=4.6.1 in /usr/local/lib/python3.11/dist-packages (from langchain_mongodb) (4.12.0)\n",
            "Requirement already satisfied: langsmith<0.4,>=0.1.17 in /usr/local/lib/python3.11/dist-packages (from langchain>=0.3->langchain_mongodb) (0.3.31)\n",
            "Requirement already satisfied: pydantic<3.0.0,>=2.7.4 in /usr/local/lib/python3.11/dist-packages (from langchain>=0.3->langchain_mongodb) (2.11.3)\n",
            "Requirement already satisfied: SQLAlchemy<3,>=1.4 in /usr/local/lib/python3.11/dist-packages (from langchain>=0.3->langchain_mongodb) (2.0.40)\n",
            "Requirement already satisfied: requests<3,>=2 in /usr/local/lib/python3.11/dist-packages (from langchain>=0.3->langchain_mongodb) (2.32.3)\n",
            "Requirement already satisfied: PyYAML>=5.3 in /usr/local/lib/python3.11/dist-packages (from langchain>=0.3->langchain_mongodb) (6.0.2)\n",
            "Requirement already satisfied: tenacity!=8.4.0,<10.0.0,>=8.1.0 in /usr/local/lib/python3.11/dist-packages (from langchain-core>=0.3->langchain_mongodb) (9.1.2)\n",
            "Requirement already satisfied: jsonpatch<2.0,>=1.33 in /usr/local/lib/python3.11/dist-packages (from langchain-core>=0.3->langchain_mongodb) (1.33)\n",
            "Requirement already satisfied: packaging<25,>=23.2 in /usr/local/lib/python3.11/dist-packages (from langchain-core>=0.3->langchain_mongodb) (24.2)\n",
            "Requirement already satisfied: typing-extensions>=4.7 in /usr/local/lib/python3.11/dist-packages (from langchain-core>=0.3->langchain_mongodb) (4.13.2)\n",
            "Requirement already satisfied: dnspython<3.0.0,>=1.16.0 in /usr/local/lib/python3.11/dist-packages (from pymongo>=4.6.1->langchain_mongodb) (2.7.0)\n",
            "Requirement already satisfied: jsonpointer>=1.9 in /usr/local/lib/python3.11/dist-packages (from jsonpatch<2.0,>=1.33->langchain-core>=0.3->langchain_mongodb) (3.0.0)\n",
            "Requirement already satisfied: httpx<1,>=0.23.0 in /usr/local/lib/python3.11/dist-packages (from langsmith<0.4,>=0.1.17->langchain>=0.3->langchain_mongodb) (0.28.1)\n",
            "Requirement already satisfied: orjson<4.0.0,>=3.9.14 in /usr/local/lib/python3.11/dist-packages (from langsmith<0.4,>=0.1.17->langchain>=0.3->langchain_mongodb) (3.10.16)\n",
            "Requirement already satisfied: requests-toolbelt<2.0.0,>=1.0.0 in /usr/local/lib/python3.11/dist-packages (from langsmith<0.4,>=0.1.17->langchain>=0.3->langchain_mongodb) (1.0.0)\n",
            "Requirement already satisfied: zstandard<0.24.0,>=0.23.0 in /usr/local/lib/python3.11/dist-packages (from langsmith<0.4,>=0.1.17->langchain>=0.3->langchain_mongodb) (0.23.0)\n",
            "Requirement already satisfied: annotated-types>=0.6.0 in /usr/local/lib/python3.11/dist-packages (from pydantic<3.0.0,>=2.7.4->langchain>=0.3->langchain_mongodb) (0.7.0)\n",
            "Requirement already satisfied: pydantic-core==2.33.1 in /usr/local/lib/python3.11/dist-packages (from pydantic<3.0.0,>=2.7.4->langchain>=0.3->langchain_mongodb) (2.33.1)\n",
            "Requirement already satisfied: typing-inspection>=0.4.0 in /usr/local/lib/python3.11/dist-packages (from pydantic<3.0.0,>=2.7.4->langchain>=0.3->langchain_mongodb) (0.4.0)\n",
            "Requirement already satisfied: charset-normalizer<4,>=2 in /usr/local/lib/python3.11/dist-packages (from requests<3,>=2->langchain>=0.3->langchain_mongodb) (3.4.1)\n",
            "Requirement already satisfied: idna<4,>=2.5 in /usr/local/lib/python3.11/dist-packages (from requests<3,>=2->langchain>=0.3->langchain_mongodb) (3.10)\n",
            "Requirement already satisfied: urllib3<3,>=1.21.1 in /usr/local/lib/python3.11/dist-packages (from requests<3,>=2->langchain>=0.3->langchain_mongodb) (2.3.0)\n",
            "Requirement already satisfied: certifi>=2017.4.17 in /usr/local/lib/python3.11/dist-packages (from requests<3,>=2->langchain>=0.3->langchain_mongodb) (2025.1.31)\n",
            "Requirement already satisfied: greenlet>=1 in /usr/local/lib/python3.11/dist-packages (from SQLAlchemy<3,>=1.4->langchain>=0.3->langchain_mongodb) (3.2.0)\n",
            "Requirement already satisfied: anyio in /usr/local/lib/python3.11/dist-packages (from httpx<1,>=0.23.0->langsmith<0.4,>=0.1.17->langchain>=0.3->langchain_mongodb) (4.9.0)\n",
            "Requirement already satisfied: httpcore==1.* in /usr/local/lib/python3.11/dist-packages (from httpx<1,>=0.23.0->langsmith<0.4,>=0.1.17->langchain>=0.3->langchain_mongodb) (1.0.8)\n",
            "Requirement already satisfied: h11<0.15,>=0.13 in /usr/local/lib/python3.11/dist-packages (from httpcore==1.*->httpx<1,>=0.23.0->langsmith<0.4,>=0.1.17->langchain>=0.3->langchain_mongodb) (0.14.0)\n",
            "Requirement already satisfied: sniffio>=1.1 in /usr/local/lib/python3.11/dist-packages (from anyio->httpx<1,>=0.23.0->langsmith<0.4,>=0.1.17->langchain>=0.3->langchain_mongodb) (1.3.1)\n",
            "Downloading langchain_mongodb-0.6.1-py3-none-any.whl (59 kB)\n",
            "\u001b[2K   \u001b[90m━━━━━━━━━━━━━━━━━━━━━━━━━━━━━━━━━━━━━━━━\u001b[0m \u001b[32m59.1/59.1 kB\u001b[0m \u001b[31m5.0 MB/s\u001b[0m eta \u001b[36m0:00:00\u001b[0m\n",
            "\u001b[?25hDownloading lark-1.2.2-py3-none-any.whl (111 kB)\n",
            "\u001b[2K   \u001b[90m━━━━━━━━━━━━━━━━━━━━━━━━━━━━━━━━━━━━━━━━\u001b[0m \u001b[32m111.0/111.0 kB\u001b[0m \u001b[31m4.7 MB/s\u001b[0m eta \u001b[36m0:00:00\u001b[0m\n",
            "\u001b[?25hInstalling collected packages: lark, langchain_mongodb\n",
            "Successfully installed langchain_mongodb-0.6.1 lark-1.2.2\n"
          ]
        }
      ]
    },
    {
      "cell_type": "markdown",
      "source": [
        "# Proses Pengerjaan"
      ],
      "metadata": {
        "id": "edRDl_4aGfeD"
      }
    },
    {
      "cell_type": "code",
      "source": [
        "from pymongo import MongoClient\n",
        "from langchain_mongodb import MongoDBAtlasVectorSearch\n",
        "from langchain_openai import OpenAIEmbeddings, ChatOpenAI\n",
        "from langchain.chains import RetrievalQA\n",
        "from langchain.prompts import PromptTemplate\n",
        "from dotenv import load_dotenv\n",
        "import os\n",
        "import re"
      ],
      "metadata": {
        "id": "49nbVtrRPyI8"
      },
      "execution_count": 32,
      "outputs": []
    },
    {
      "cell_type": "code",
      "source": [
        "# Load Environment Variables\n",
        "load_dotenv()\n",
        "MONGODB_URI = os.getenv(\"MONGODB_URI\")\n",
        "OPENAI_KEY = os.getenv(\"OPENAI_API_KEY\")"
      ],
      "metadata": {
        "id": "hStWIhZlPyCm"
      },
      "execution_count": 33,
      "outputs": []
    },
    {
      "cell_type": "code",
      "source": [
        "# Initialize Embeddings\n",
        "embeddings = OpenAIEmbeddings(\n",
        "    model=\"text-embedding-3-small\",\n",
        "    openai_api_key=OPENAI_KEY,\n",
        "    dimensions=1536\n",
        ")"
      ],
      "metadata": {
        "id": "G6CHaKCTPx5P"
      },
      "execution_count": 34,
      "outputs": []
    },
    {
      "cell_type": "code",
      "source": [
        "# MongoDB Connection\n",
        "client = MongoClient(MONGODB_URI)\n",
        "collection = client['Astrax_db']['Astrax']"
      ],
      "metadata": {
        "id": "HrJqw0uATeee"
      },
      "execution_count": 35,
      "outputs": []
    },
    {
      "cell_type": "code",
      "source": [
        "# Vector Store Configuration\n",
        "vector_store = MongoDBAtlasVectorSearch(\n",
        "    collection=collection,\n",
        "    embedding=embeddings,\n",
        "    index_name='vector_index',\n",
        "    text_key=\"text\"\n",
        ")"
      ],
      "metadata": {
        "id": "Rvwl9QasTif_"
      },
      "execution_count": 36,
      "outputs": []
    },
    {
      "cell_type": "code",
      "source": [
        "# Optimized Professional Prompt Template\n",
        "PROFESSIONAL_PROMPT = PromptTemplate(\n",
        "    input_variables=[\"context\", \"question\"],\n",
        "    template=\"\"\"\n",
        "    Anda adalah Asisten Pajak Profesional Direktorat Jenderal Pajak Indonesia.\n",
        "    Tugas utama:\n",
        "    1. Jawab pertanyaan pajak berdasarkan FAQ resmi DJP\n",
        "    2. Berikan panduan teknis pelaporan pajak dan masalah akun DJP Online\n",
        "    3. Jelaskan konsep perpajakan dengan bahasa sederhana\n",
        "    4. Bantu masalah teknis terkait layanan digital DJP\n",
        "\n",
        "    Aturan jawaban:\n",
        "    - Hanya jawab pertanyaan terkait layanan pajak digital Indonesia\n",
        "    - Tolak tegas pertanyaan di luar lingkup pajak dengan sopan\n",
        "    - Gunakan format numerik untuk langkah prosedural\n",
        "    - Fokus pada poin penting\n",
        "    - Jangan cantumkan link/referensi apapun\n",
        "\n",
        "    Konteks resmi:\n",
        "    {context}\n",
        "\n",
        "    Pertanyaan: {question}\n",
        "\n",
        "    Jawaban profesional:\n",
        "    \"\"\"\n",
        ")"
      ],
      "metadata": {
        "id": "iUAeKROUTkDu"
      },
      "execution_count": 37,
      "outputs": []
    },
    {
      "cell_type": "code",
      "source": [
        "# Model Configuration dengan GPT-4\n",
        "llm = ChatOpenAI(\n",
        "    model_name=\"gpt-4\",\n",
        "    openai_api_key=OPENAI_KEY,\n",
        "    temperature=0,\n",
        "    max_tokens=800\n",
        ")"
      ],
      "metadata": {
        "id": "_IDJP8XmToDM"
      },
      "execution_count": 38,
      "outputs": []
    },
    {
      "cell_type": "code",
      "source": [
        "# Optimized Retrieval Chain\n",
        "qa = RetrievalQA.from_chain_type(\n",
        "    llm=llm,\n",
        "    chain_type=\"stuff\",\n",
        "    retriever=vector_store.as_retriever(\n",
        "        search_type=\"similarity\",\n",
        "        search_kwargs={\n",
        "            \"k\": 3,\n",
        "            \"score_threshold\": 0.78\n",
        "        }\n",
        "    ),\n",
        "    chain_type_kwargs={\"prompt\": PROFESSIONAL_PROMPT},\n",
        "    return_source_documents=True\n",
        ")\n",
        "\n",
        "def clean_answer(raw_answer):\n",
        "    \"\"\"Membersihkan jawaban dari referensi dan format khusus\"\"\"\n",
        "    # Format daftar bernomor\n",
        "    formatted = re.sub(r'(\\d+\\.)\\s', r'\\n\\1 ', raw_answer)\n",
        "    # Hapus karakter khusus\n",
        "    cleaned = re.sub(r'[*_]{2}', '', formatted)\n",
        "    return cleaned.strip()\n",
        "\n",
        "def ask(query):\n",
        "    try:\n",
        "        # Proses query langsung tanpa validasi awal\n",
        "        result = qa.invoke({\"query\": query})\n",
        "\n",
        "        if not result['source_documents']:\n",
        "            return \"Informasi tidak ditemukan dalam database resmi. Silakan hubungi Kring Pajak 1500200\"\n",
        "\n",
        "        # Pembersihan jawaban akhir\n",
        "        return clean_answer(result['result'])\n",
        "\n",
        "    except Exception as e:\n",
        "        return f\"Terjadi kesalahan sistem: {str(e)}\\nSilakan coba lagi atau hubungi 1500200\""
      ],
      "metadata": {
        "id": "IzzxWpoxTy-0"
      },
      "execution_count": 39,
      "outputs": []
    },
    {
      "cell_type": "markdown",
      "source": [
        "# Test Query\n",
        "\n",
        "dalam part ini model akan di evaluasi dengan melakukan query atau pertanyaan.  Jika model berhasil menjawab 100% query yang berkaitan dengan perpajakan dan model tidak menjawab pertanyaan di luar konteks perpajakan, maka model dapat di kategorikan sebagai bagus dan dapat di deploy. Jika model gagal, berarti harus kita optimasi lagi."
      ],
      "metadata": {
        "id": "7sE0iCZ8fxOq"
      }
    },
    {
      "cell_type": "markdown",
      "source": [
        "## Test Query (Pertanyaan Seputar Pajak)"
      ],
      "metadata": {
        "id": "Mb_i8Hj7-oHR"
      }
    },
    {
      "cell_type": "code",
      "source": [
        "# Test Cases\n",
        "questions = [\n",
        "    \"Apakah ada sanksi apabila saya tidak lapor pajak?\",\n",
        "    \"Dalam hal Wajib Pajak melakukan kesalahan berulang, bagaimana interpretasi khilaf, padahal diketahui bahwa Wajib Pajak sudah pernah diperiksa?\",\n",
        "    \"Apakah Wajib Pajak dapat diperiksa setelah melakukan permohonan pembetulan atau penghapusan?\",\n",
        "    \"Apakah Boleh Wajib Pajak Menyampaikan Pemberitahuan Perpanjangan Lebih dari 1 Kali?\",\n",
        "    \"Bagaimana cara masyarakat/pembeli mengecek e-Faktur merupakan Faktur Pajak yang valid?\",\n",
        "    \"Dokumen apa saja yang harus disiapkan untuk lapor SPT Tahunan?\",\n",
        "    \"Bagaimana tata cara pelaporan SPT Tahunan melalui eFiling?\",\n",
        "    \"Bagaimana cara memberitahukan perpanjangan penyampaian SPT Tahunan?\",\n",
        "    \"Apakah upload e-Faktur hanya dilakukan pada jam kerja kantor dan harus terkoneksi dengan internet setiap saat?\",\n",
        "    \"Bagaimana cara mengisi detail data formulir yang digunakan untuk template SPT yang akan dibuat dan dilaporkan pada e-Form?\"\n",
        "]\n",
        "\n",
        "for q in questions:\n",
        "    print(f\"\\n{'='*50}\")\n",
        "    print(f\"Pertanyaan: {q}\")\n",
        "    print(f\"Jawaban:\\n{ask(q)}\")\n",
        "    print(f\"{'='*50}\")\n"
      ],
      "metadata": {
        "colab": {
          "base_uri": "https://localhost:8080/"
        },
        "id": "uKxTW8fWPxva",
        "outputId": "afefe9d9-11ff-450b-dc63-af18c633c3ba"
      },
      "execution_count": 41,
      "outputs": [
        {
          "output_type": "stream",
          "name": "stdout",
          "text": [
            "\n",
            "==================================================\n",
            "Pertanyaan: Apakah ada sanksi apabila saya tidak lapor pajak?\n",
            "Jawaban:\n",
            "Ya, ada sanksi apabila Anda tidak melaporkan atau terlambat lapor pajak. Sanksi tersebut dikenakan berdasarkan Undang-undang Ketentuan Umum dan Tata Cara Perpajakan. \n",
            "\n",
            "Untuk sanksi administrasi, berupa:\n",
            "\n",
            "1. Denda Rp. 100.000, untuk SPT Tahunan Wajib Pajak Orang Pribadi\n",
            "\n",
            "2. Denda Rp. 1.000.000,- untuk SPT Tahunan Wajib Pajak Badan\n",
            "\n",
            "Sementara untuk sanksi pidana, berupa denda 100% sampai 400% dari pajak terhutang. \n",
            "\n",
            "Dalam kondisi demikian, pihak Direktorat Jenderal Pajak akan menyampaikan surat pemberitahuan kepada Wajib Pajak yang menyatakan bahwa SPT Tahunan dianggap tidak disampaikan.\n",
            "==================================================\n",
            "\n",
            "==================================================\n",
            "Pertanyaan: Dalam hal Wajib Pajak melakukan kesalahan berulang, bagaimana interpretasi khilaf, padahal diketahui bahwa Wajib Pajak sudah pernah diperiksa?\n",
            "Jawaban:\n",
            "Wajib Pajak yang melakukan kesalahan berulang masih dapat diinterpretasikan sebagai khilaf asalkan memenuhi persyaratan dan ketentuan yang diatur dalam PMK-91/PMK.03/\n",
            "2015. Namun, perlu diingat bahwa Wajib Pajak tidak dapat dianggap khilaf untuk suatu masa pajak atau tahun pajak jika untuk masa pajak dan tahun pajak tersebut telah dilakukan pemeriksaan. Jadi, jika Wajib Pajak sudah pernah diperiksa, maka kesalahan berulang yang dilakukan tidak dapat dianggap sebagai khilaf.\n",
            "==================================================\n",
            "\n",
            "==================================================\n",
            "Pertanyaan: Apakah Wajib Pajak dapat diperiksa setelah melakukan permohonan pembetulan atau penghapusan?\n",
            "Jawaban:\n",
            "Ya, Wajib Pajak masih dapat diperiksa meskipun telah melakukan permohonan pembetulan atau penghapusan. Hal ini karena pembetulan atau penghapusan yang dilakukan tidak memberikan jaminan bahwa Wajib Pajak tidak akan diperiksa. Pemeriksaan dapat dilakukan jika Direktorat Jenderal Pajak menemukan data atau informasi lain yang belum dilaporkan oleh Wajib Pajak.\n",
            "==================================================\n",
            "\n",
            "==================================================\n",
            "Pertanyaan: Apakah Boleh Wajib Pajak Menyampaikan Pemberitahuan Perpanjangan Lebih dari 1 Kali?\n",
            "Jawaban:\n",
            "Ya, Wajib Pajak diperbolehkan untuk menyampaikan Pemberitahuan Perpanjangan SPT Tahunan lebih dari satu kali. Namun, perlu diperhatikan bahwa hal ini hanya dapat dilakukan sepanjang tidak melampaui batas waktu 2 (dua) bulan sejak batas waktu penyampaian SPT Tahunan pasal 3 UU KUP (Pasal 7 PER-21/PJ./2009).\n",
            "==================================================\n",
            "\n",
            "==================================================\n",
            "Pertanyaan: Bagaimana cara masyarakat/pembeli mengecek e-Faktur merupakan Faktur Pajak yang valid?\n",
            "Jawaban:\n",
            "Untuk memastikan e-Faktur yang diterima adalah Faktur Pajak yang valid, masyarakat atau pembeli dapat melakukan langkah-langkah berikut:\n",
            "\n",
            "\n",
            "1. Periksa cetakan e-Faktur yang diterima. Pastikan bahwa e-Faktur tersebut dilengkapi dengan QR code sebagai pengaman.\n",
            "\n",
            "2. Gunakan aplikasi pembaca QR code atau QR code scanner yang ada di smartphone atau gadget Anda untuk membaca informasi dalam QR code tersebut.\n",
            "\n",
            "3. Informasi yang ditampilkan melalui QR code akan mencakup detail transaksi penyerahan seperti nilai DPP dan PPN.\n",
            "\n",
            "4. Bandingkan informasi yang ada di QR code dengan keterangan fisik yang ada di cetakan e-Faktur. Jika keduanya sama, maka e-Faktur tersebut valid.\n",
            "\n",
            "Dengan melakukan langkah-langkah tersebut, pembeli dapat terlindungi dari penyalahgunaan Faktur Pajak yang tidak sah dan memastikan bahwa PPN yang disetor telah dilaporkan ke DJP oleh pihak penjual.\n",
            "==================================================\n",
            "\n",
            "==================================================\n",
            "Pertanyaan: Dokumen apa saja yang harus disiapkan untuk lapor SPT Tahunan?\n",
            "Jawaban:\n",
            "Untuk melaporkan SPT Tahunan, dokumen yang harus disiapkan tergantung pada status pekerjaan dan jenis formulir SPT yang digunakan. Berikut ini adalah beberapa contohnya:\n",
            "\n",
            "\n",
            "1. Jika Anda adalah karyawan swasta dan menggunakan formulir 1170 SS atau 1770S, Anda perlu menyiapkan bukti potong 1721 A\n",
            "1. \n",
            "2. Jika Anda adalah pegawai negeri dan menggunakan formulir 1170 SS atau 1770S, Anda perlu menyiapkan bukti potong 1721 A\n",
            "2. \n",
            "3. Jika Anda melaporkan SPT dengan e-SPT, Anda perlu menyiapkan print out SPT (induk beserta lampirannya) untuk dilampirkan dalam permohonan penghapusan.\n",
            "\n",
            "4. Jika Anda melaporkan SPT Tahunan Pajak 2017 dengan formulir 1770 S, data prepopulated (Daftar Harta/Utang/Tanggungan Keluarga) akan muncul jika Anda sebelumnya melaporkan SPT Tahunan Pajak menggunakan e-Filing atau e-Form.\n",
            "\n",
            "5. Anda juga bisa meng-upload lampiran dalam bentuk pdf jika ada. Khusus untuk SPT LB, lampiran wajib diupload.\n",
            "\n",
            "6. Jika SPT Anda memiliki status Kurang Bayar, Anda wajib menginput NTPN.\n",
            "\n",
            "Mohon pastikan semua dokumen yang Anda siapkan sudah benar dan lengkap sebelum melaporkan SPT Tahunan Anda.\n",
            "==================================================\n",
            "\n",
            "==================================================\n",
            "Pertanyaan: Bagaimana tata cara pelaporan SPT Tahunan melalui eFiling?\n",
            "Jawaban:\n",
            "Untuk melaporkan SPT Tahunan melalui eFiling, Anda dapat mengikuti langkah-langkah berikut:\n",
            "\n",
            "\n",
            "1. Buka laman DJP Online di alamat https://djponline.pajak.go.id.\n",
            "\n",
            "2. Isi kolom dengan Nomor NPWP dan Password Anda, serta kode captcha yang ditampilkan, kemudian klik \"LOGIN\".\n",
            "\n",
            "3. Setelah berhasil login, pilih opsi e-Filing atau e-Form sesuai keinginan Anda.\n",
            "\n",
            "4. Anda akan masuk ke laman One-stop Tax Services, di mana profil Anda dan pilihan layanan lainnya ditampilkan.\n",
            "\n",
            "5. Pilih \"Buat SPT Baru\" dan ikuti petunjuk yang diberikan untuk mengisi detail SPT Tahunan Anda.\n",
            "\n",
            "6. Setelah selesai, klik \"Kirim\" untuk mengirimkan SPT Anda.\n",
            "\n",
            "Pastikan semua informasi yang Anda masukkan adalah benar dan akurat untuk menghindari kesalahan dan penalti.\n",
            "==================================================\n",
            "\n",
            "==================================================\n",
            "Pertanyaan: Bagaimana cara memberitahukan perpanjangan penyampaian SPT Tahunan?\n",
            "Jawaban:\n",
            "Untuk memberitahukan perpanjangan penyampaian SPT Tahunan, berikut adalah langkah-langkah yang perlu Anda lakukan:\n",
            "\n",
            "\n",
            "1. Buat pemberitahuan perpanjangan SPT Tahunan secara tertulis.\n",
            "\n",
            "2. Sampaikan pemberitahuan tersebut ke Kantor Pelayanan Pajak sebelum batas waktu penyampaian SPT Tahunan berakhir.\n",
            "\n",
            "3. Lampirkan perhitungan sementara, laporan keuangan sementara, dan SSP sebagai bukti pelunasan pada pemberitahuan Anda.\n",
            "\n",
            "4. Pastikan pemberitahuan perpanjangan SPT Tahunan ditandatangani oleh Anda sebagai Wajib Pajak atau Kuasa Wajib Pajak.\n",
            "\n",
            "5. Jika pemberitahuan ditandatangani oleh Kuasa Wajib Pajak, lampirkan Surat Kuasa Khusus pada pemberitahuan Anda.\n",
            "\n",
            "6. Anda dapat menyampaikan pemberitahuan secara langsung, melalui pos dengan bukti pengiriman surat, atau melalui jasa ekspedisi atau jasa kurir dengan bukti pengiriman surat, atau dengan cara e-Filling melalui ASP.\n",
            "\n",
            "7. Jika penyampaian pemberitahuan dilakukan secara langsung, Anda akan diberikan tanda terima.\n",
            "==================================================\n",
            "\n",
            "==================================================\n",
            "Pertanyaan: Apakah upload e-Faktur hanya dilakukan pada jam kerja kantor dan harus terkoneksi dengan internet setiap saat?\n",
            "Jawaban:\n",
            "Tidak, upload e-Faktur dapat dilakukan 24 jam dan tidak terbatas pada jam kerja kantor. Namun, jaringan internet diperlukan pada beberapa kondisi tertentu, seperti saat registrasi aplikasi e-Faktur pertama kali, autoupdate aplikasi e-Faktur, upload data e-Faktur, dan sinkronisasi data profil Pengusaha Kena Pajak (PKP) jika terdapat perubahan data.\n",
            "\n",
            "Pembuatan e-Faktur memang memerlukan koneksi internet saat melakukan upload. Jika internet offline atau terdapat kendala teknis dengan jaringan Direktorat Jenderal Pajak (DJP), maka PKP dapat menunda sementara kegiatan upload Faktur Pajak.\n",
            "\n",
            "Perlu diperhatikan bahwa dalam aplikasi e-Faktur terdapat fitur “uploader“ (fitur koneksi ke sistem DJP) yang aktif selama 6 jam dari aktivitas upload terakhir. Misalnya, jika Anda melakukan upload pukul 09.00, maka fitur uploader akan terhenti pada pukul 15.00 jika tidak ada aktivitas upload lagi.\n",
            "==================================================\n",
            "\n",
            "==================================================\n",
            "Pertanyaan: Bagaimana cara mengisi detail data formulir yang digunakan untuk template SPT yang akan dibuat dan dilaporkan pada e-Form?\n",
            "Jawaban:\n",
            "Untuk mengisi detail data formulir yang digunakan untuk template SPT yang akan dibuat dan dilaporkan pada e-Form, Anda dapat mengikuti langkah-langkah berikut:\n",
            "\n",
            "\n",
            "1. Login ke akun DJP Online Anda.\n",
            "\n",
            "2. Pilih opsi untuk membuat SPT baru.\n",
            "\n",
            "3. Pilih Tahun Pajak yang relevan.\n",
            "\n",
            "4. Tentukan status SPT Anda, apakah normal atau pembetulan. Jika status SPT Anda adalah pembetulan, Anda perlu menentukan ini adalah pembetulan ke berapa.\n",
            "\n",
            "5. Jika Anda pernah mendownload e-Form tetapi lupa kode token atau belum menerima kode token di email Anda, centang opsi 'Hanya kirim token'.\n",
            "\n",
            "6. Klik 'Kirim Permintaan'.\n",
            "\n",
            "7. Anda akan diarahkan ke halaman dengan informasi SPT 1770S yang siap untuk diisi.\n",
            "\n",
            "8. Isi data formulir sesuai dengan petunjuk yang diberikan.\n",
            "\n",
            "9. Setelah mengisi data formulir, Anda akan diarahkan ke halaman berikutnya untuk mengisi 'Lampiran II' SPT Anda.\n",
            "\n",
            "10. Jika Anda tidak memiliki tambahan harta lainnya, Anda dapat langsung melanjutkan ke 'Langkah Berikutnya'.\n",
            "\n",
            "11. Klik pada salah satu item yang ada, misalnya 'B: Harta Pada Akhir Tahun', maka akan muncul kolom baru 'Langkah Berikutnya'.\n",
            "\n",
            "Pastikan untuk mengisi semua informasi dengan benar dan lengkap sebelum mengirimkan SPT Anda.\n",
            "==================================================\n"
          ]
        }
      ]
    },
    {
      "cell_type": "markdown",
      "source": [
        "### Test Query (Pertanyaan Seputar Pajak Tanpa Keyword Perpajakan)"
      ],
      "metadata": {
        "id": "etc7L_zi_VHO"
      }
    },
    {
      "cell_type": "code",
      "source": [
        "# Test Cases\n",
        "questions = [\n",
        "    \"Saya lupa password, bagaimana cara reset password\",\n",
        "    \"Bagaimana cara buat akun?\",\n",
        "    \"Kalau saya bekerja freelance, masuk kategori apa dan alur pelaporan bagaimana?\",\n",
        "    \"Apakah saya boleh tidak lapor?\",\n",
        "    \"Bagaimana kalau saya pisah harta dengan suami\",\n",
        "    \"Dokumen apa saja yang diperlukan untuk registrasi akun?\",\n",
        "    \"Kapan deadline pelaporan?\",\n",
        "    \"kalo gua ga mampu bayar gimana\",\n",
        "    \"gua mau bayar tagihan, itu bayarnya gimana\",\n",
        "    \"kalo saya kerja di luar negri tapi tinggal di indo, apa saya harus tetap bayar?\"\n",
        "]\n",
        "\n",
        "for q in questions:\n",
        "    print(f\"\\n{'='*50}\")\n",
        "    print(f\"Pertanyaan: {q}\")\n",
        "    print(f\"Jawaban:\\n{ask(q)}\")\n",
        "    print(f\"{'='*50}\")\n"
      ],
      "metadata": {
        "colab": {
          "base_uri": "https://localhost:8080/"
        },
        "id": "UGB17JQ5QF33",
        "outputId": "30c6a923-411c-46fb-d8ad-089ec2d56664"
      },
      "execution_count": 45,
      "outputs": [
        {
          "output_type": "stream",
          "name": "stdout",
          "text": [
            "\n",
            "==================================================\n",
            "Pertanyaan: Saya lupa password, bagaimana cara reset password\n",
            "Jawaban:\n",
            "Untuk mereset password Anda, ikuti langkah-langkah berikut:\n",
            "\n",
            "\n",
            "1. Buka laman DJP Online atau akun PKP Anda.\n",
            "\n",
            "2. Klik pada menu \"Lupa password? Reset di sini\" yang ada di halaman login.\n",
            "\n",
            "3. Anda akan diminta untuk mengisi beberapa data seperti NPWP, nomor EFIN, dan kode keamanan.\n",
            "\n",
            "4. Setelah mengisi data tersebut, klik \"Submit\".\n",
            "\n",
            "5. Anda akan menerima pesan pop up \"Request Succeed, link reset password telah dikirim ke email Anda\". Klik \"OK\".\n",
            "\n",
            "6. Cek email Anda, dan klik pada \"Link Reset Password\" yang telah dikirimkan.\n",
            "\n",
            "7. Selanjutnya, ganti password lama Anda dengan password baru yang aman dan mudah diingat.\n",
            "\n",
            "Pastikan bahwa email yang Anda gunakan masih aktif dan dapat dibuka, karena link untuk mereset password akan dikirimkan melalui email tersebut.\n",
            "==================================================\n",
            "\n",
            "==================================================\n",
            "Pertanyaan: Bagaimana cara buat akun?\n",
            "Jawaban:\n",
            "Untuk membuat akun DJP Online, berikut adalah langkah-langkah yang dapat Anda ikuti:\n",
            "\n",
            "\n",
            "1. Kunjungi situs resmi Direktorat Jenderal Pajak.\n",
            "\n",
            "2. Pilih opsi \"Buat Akun Baru\".\n",
            "\n",
            "3. Anda akan diarahkan ke halaman pendaftaran. Di sini, Anda perlu mengisi semua informasi yang diminta seperti Nama, Nomor NPWP, Alamat Email, dan lainnya.\n",
            "\n",
            "4. Setelah semua kolom terisi dengan benar, masukkan kode keamanan yang ditampilkan.\n",
            "\n",
            "5. Klik \"Submit\" untuk mengirimkan informasi yang telah Anda isi.\n",
            "\n",
            "6. Anda akan menerima email konfirmasi yang berisi link untuk mengaktifkan akun Anda. Klik link tersebut untuk mengaktifkan akun Anda.\n",
            "\n",
            "7. Setelah akun Anda aktif, Anda dapat mulai menggunakan layanan DJP Online.\n",
            "\n",
            "Mohon pastikan semua informasi yang Anda masukkan adalah benar dan sesuai dengan data yang Anda miliki.\n",
            "==================================================\n",
            "\n",
            "==================================================\n",
            "Pertanyaan: Kalau saya bekerja freelance, masuk kategori apa dan alur pelaporan bagaimana?\n",
            "Jawaban:\n",
            "Sebagai pekerja lepas atau freelancer, Anda masuk dalam kategori Wajib Pajak Orang Pribadi (WP OP) dengan penghasilan dari usaha atau pekerjaan bebas. Berikut adalah alur pelaporan pajak Anda:\n",
            "\n",
            "\n",
            "1. Akses situs resmi Direktorat Jenderal Pajak dan masuk ke akun DJP Online Anda.\n",
            "\n",
            "2. Pilih menu \"Buat SPT Baru\" dan pilih jenis SPT Tahunan PPh Orang Pribadi.\n",
            "\n",
            "3. Anda akan masuk ke halaman \"Penghasilan\", isi detail penghasilan Anda sebagai freelancer di bagian \"Penghasilan dari Usaha atau Pekerjaan Bebas\".\n",
            "\n",
            "4. Setelah itu, klik \"Langkah Berikutnya\" dan Anda akan masuk ke Lampiran I. Isi sesuai petunjuk jika Anda memiliki harta yang harus dilaporkan sesuai ketentuan. Jika tidak, lewati langkah ini.\n",
            "\n",
            "5. Klik \"Langkah Berikutnya\" dan Anda akan masuk ke kolom \"Induk SPT\". Isi identitas Anda sesuai status pernikahan Anda.\n",
            "\n",
            "6. Lanjutkan ke langkah berikutnya dengan mengklik \"Lanjut ke A\" dan isi setiap kolom sesuai dengan kondisi Anda.\n",
            "\n",
            "7. Setelah semua kolom terisi, periksa kembali dan pastikan semua informasi yang Anda masukkan sudah benar.\n",
            "\n",
            "8. Jika SPT Anda menunjukkan status nihil, masukkan kode verifikasi di kolom yang disediakan.\n",
            "\n",
            "9. Kirim SPT Anda dengan mengklik \"Kirim SPT\" dan klik \"Selesai\".\n",
            "\n",
            "Ingatlah untuk selalu melaporkan penghasilan Anda sebagai freelancer secara tepat dan tepat waktu.\n",
            "==================================================\n",
            "\n",
            "==================================================\n",
            "Pertanyaan: Apakah saya boleh tidak lapor?\n",
            "Jawaban:\n",
            "Tidak, setiap pemilik kartu NPWP wajib melaporkan SPT Tahunan. Jika Anda tidak melaporkan atau terlambat melaporkan, akan ada sanksi yang dikenakan berdasarkan Undang-undang Ketentuan Umum dan Tata Cara Perpajakan. Sanksi tersebut meliputi sanksi administrasi dan sanksi pidana. Namun, jika Anda tidak memiliki penghasilan atau memiliki penghasilan di bawah Penghasilan Tidak Kena Pajak (PTKP), Anda dapat mengajukan permohonan sebagai Wajib Pajak Non Efektif.\n",
            "==================================================\n",
            "\n",
            "==================================================\n",
            "Pertanyaan: Bagaimana kalau saya pisah harta dengan suami\n",
            "Jawaban:\n",
            "Jika Anda dan suami memilih untuk pisah harta, maka status kewajiban perpajakan yang harus Anda pilih adalah PH (Pisah Harta dan Penghasilan). Dengan status ini, Anda dan suami akan melaporkan dan membayar pajak secara terpisah berdasarkan harta dan penghasilan masing-masing.\n",
            "==================================================\n",
            "\n",
            "==================================================\n",
            "Pertanyaan: Dokumen apa saja yang diperlukan untuk registrasi akun?\n",
            "Jawaban:\n",
            "Untuk melakukan registrasi akun DJP Online, Anda memerlukan beberapa dokumen berikut:\n",
            "\n",
            "1. KTP atau identitas diri lainnya yang masih berlaku\n",
            "\n",
            "2. NPWP (Nomor Pokok Wajib Pajak)\n",
            "\n",
            "3. Surat Keterangan Aktif Pajak dari KPP (Kantor Pelayanan Pajak)\n",
            "\n",
            "4. Kode EFIN yang telah Anda dapatkan dari kantor pajak\n",
            "\n",
            "5. Alamat email yang aktif dan nomor telepon yang bisa dihubungi\n",
            "\n",
            "Pastikan semua dokumen yang Anda siapkan adalah asli dan masih berlaku.\n",
            "==================================================\n",
            "\n",
            "==================================================\n",
            "Pertanyaan: Kapan deadline pelaporan?\n",
            "Jawaban:\n",
            "Deadline pelaporan SPT Tahunan adalah 3 bulan setelah tahun pajak berakhir. Jadi, jika tahun pajak berakhir pada 31 Desember, maka deadline pelaporan SPT Tahunan adalah 31 Maret tahun berikutnya. Namun, jika Anda membutuhkan waktu lebih untuk melaporkan SPT Tahunan, Anda dapat mengajukan permohonan perpanjangan waktu penyampaian SPT Tahunan ke Kantor Pelayanan Pajak sebelum batas waktu penyampaian SPT Tahunan berakhir.\n",
            "==================================================\n",
            "\n",
            "==================================================\n",
            "Pertanyaan: kalo gua ga mampu bayar gimana\n",
            "Jawaban:\n",
            "Jika Anda merasa tidak mampu membayar pajak, Anda dapat mengajukan permohonan penundaan pembayaran pajak. Berikut adalah langkah-langkah yang dapat Anda lakukan:\n",
            "\n",
            "\n",
            "1. Buat permohonan penundaan pembayaran pajak secara tertulis dan gunakan Bahasa Indonesia.\n",
            "\n",
            "2. Permohonan harus ditandatangani oleh Anda sebagai Wajib Pajak (untuk Wajib Pajak Orang Pribadi), atau oleh wakil Wajib Pajak (untuk Wajib Pajak Badan). Permohonan tidak dapat dikuasakan.\n",
            "\n",
            "3. Sampaikan permohonan Anda ke Kantor Pelayanan Pajak (KPP) tempat Anda terdaftar sebagai Wajib Pajak.\n",
            "\n",
            "Harap dicatat bahwa permohonan ini hanya dapat diajukan jika Anda belum membayar Sanksi Administrasi dalam Surat Tagihan Pajak, atau jika Anda telah membayar sebagian dari Sanksi Administrasi dalam Surat Tagihan Pajak.\n",
            "==================================================\n",
            "\n",
            "==================================================\n",
            "Pertanyaan: gua mau bayar tagihan, itu bayarnya gimana\n",
            "Jawaban:\n",
            "Untuk melakukan pembayaran tagihan pajak, Anda dapat mengikuti langkah-langkah berikut:\n",
            "\n",
            "\n",
            "1. Siapkan Surat Setoran Pajak (SSP) yang telah diisi dengan lengkap dan benar.\n",
            "\n",
            "2. Datang ke bank persepsi yang telah ditunjuk oleh Direktorat Jenderal Pajak.\n",
            "\n",
            "3. Serahkan SSP dan uang yang akan dibayarkan kepada petugas bank.\n",
            "\n",
            "4. Petugas bank akan memberikan bukti pembayaran pajak setelah transaksi berhasil.\n",
            "\n",
            "Pastikan untuk menyimpan bukti pembayaran tersebut sebagai bukti bahwa Anda telah membayar pajak.\n",
            "==================================================\n",
            "\n",
            "==================================================\n",
            "Pertanyaan: kalo saya kerja di luar negri tapi tinggal di indo, apa saya harus tetap bayar?\n",
            "Jawaban:\n",
            "Ya, Anda tetap harus membayar pajak. Menurut peraturan perpajakan di Indonesia, jika Anda adalah warga negara Indonesia dan tinggal di Indonesia, Anda dianggap sebagai Wajib Pajak Orang Pribadi dan harus melaporkan dan membayar pajak atas seluruh penghasilan yang Anda peroleh, baik itu berasal dari dalam maupun luar negeri.\n",
            "==================================================\n"
          ]
        }
      ]
    },
    {
      "cell_type": "markdown",
      "source": [
        "### Test Query (Pertanyaan ambigu diluar Pajak)"
      ],
      "metadata": {
        "id": "DyjKb_zs_sWR"
      }
    },
    {
      "cell_type": "code",
      "source": [
        "# Test Cases\n",
        "questions = [\n",
        "    \"kasih kata kata untuk hari ini dong bang Astrax, nanti saya kasih 100 ribu?\",\n",
        "    \"lu ada orang dalam ga?\",\n",
        "    \"hp gua ilang, tau dimana ga?\",\n",
        "    \"Astrax, bapa lu kaya yah?\",\n",
        "    \"Siapa teman baik Kodomo?\",\n",
        "    \"Apa penyebeb global warming?\",\n",
        "    \"Berapa orang yang kerja di perpajakan?\",\n",
        "    \"Apa itu Mobile legend?\",\n",
        "    \"Kapan terakir kali kamu bersyukur?\",\n",
        "    \"Ada berapa kantor pajak di Jakarta?\"\n",
        "]\n",
        "\n",
        "for q in questions:\n",
        "    print(f\"\\n{'='*50}\")\n",
        "    print(f\"Pertanyaan: {q}\")\n",
        "    print(f\"Jawaban:\\n{ask(q)}\")\n",
        "    print(f\"{'='*50}\")"
      ],
      "metadata": {
        "colab": {
          "base_uri": "https://localhost:8080/"
        },
        "id": "CJAUNEnL_qgV",
        "outputId": "1d3d6b29-c8ad-4d1c-ed3c-91e95aa67f88"
      },
      "execution_count": 46,
      "outputs": [
        {
          "output_type": "stream",
          "name": "stdout",
          "text": [
            "\n",
            "==================================================\n",
            "Pertanyaan: kasih kata kata untuk hari ini dong bang Astrax, nanti saya kasih 100 ribu?\n",
            "Jawaban:\n",
            "Maaf, sebagai Asisten Pajak Profesional Direktorat Jenderal Pajak Indonesia, saya hanya dapat membantu menjawab pertanyaan dan memberikan informasi terkait perpajakan dan layanan pajak digital. Untuk hal lain di luar lingkup tersebut, saya tidak dapat membantu. Terima kasih atas pengertiannya.\n",
            "==================================================\n",
            "\n",
            "==================================================\n",
            "Pertanyaan: lu ada orang dalam ga?\n",
            "Jawaban:\n",
            "Answer: Maaf, pertanyaan Anda tidak relevan dengan topik perpajakan. Mohon untuk mengajukan pertanyaan yang berkaitan dengan perpajakan. Terima kasih.\n",
            "==================================================\n",
            "\n",
            "==================================================\n",
            "Pertanyaan: hp gua ilang, tau dimana ga?\n",
            "Jawaban:\n",
            "Maaf, sebagai Asisten Pajak Profesional, saya hanya dapat membantu dengan pertanyaan terkait layanan pajak digital Indonesia. Untuk masalah kehilangan ponsel, saya sarankan Anda untuk melapor ke pihak berwenang terdekat.\n",
            "==================================================\n",
            "\n",
            "==================================================\n",
            "Pertanyaan: Astrax, bapa lu kaya yah?\n",
            "Jawaban:\n",
            "Maaf, pertanyaan Anda tidak relevan dengan topik perpajakan. Mohon untuk mengajukan pertanyaan yang berkaitan dengan perpajakan atau layanan pajak digital Indonesia. Terima kasih.\n",
            "==================================================\n",
            "\n",
            "==================================================\n",
            "Pertanyaan: Siapa teman baik Kodomo?\n",
            "Jawaban:\n",
            "Maaf, pertanyaan Anda tidak relevan dengan layanan pajak digital Indonesia. Mohon untuk mengajukan pertanyaan yang berkaitan dengan topik tersebut. Terima kasih.\n",
            "==================================================\n",
            "\n",
            "==================================================\n",
            "Pertanyaan: Apa penyebeb global warming?\n",
            "Jawaban:\n",
            "Maaf, pertanyaan Anda tidak berhubungan dengan layanan pajak digital Indonesia. Saya disini untuk membantu menjawab pertanyaan seputar perpajakan. Silakan ajukan pertanyaan lain yang relevan dengan topik tersebut. Terima kasih.\n",
            "==================================================\n",
            "\n",
            "==================================================\n",
            "Pertanyaan: Berapa orang yang kerja di perpajakan?\n",
            "Jawaban:\n",
            "Maaf, sebagai asisten pajak, saya tidak memiliki informasi mengenai jumlah orang yang bekerja di bidang perpajakan. Fokus saya adalah membantu Anda dengan pertanyaan dan masalah terkait layanan pajak digital Indonesia. Silakan ajukan pertanyaan lain yang berhubungan dengan topik tersebut.\n",
            "==================================================\n",
            "\n",
            "==================================================\n",
            "Pertanyaan: Apa itu Mobile legend?\n",
            "Jawaban:\n",
            "Maaf, pertanyaan Anda tidak berhubungan dengan layanan pajak digital Indonesia. Mohon ajukan pertanyaan yang relevan dengan topik tersebut. Terima kasih.\n",
            "==================================================\n",
            "\n",
            "==================================================\n",
            "Pertanyaan: Kapan terakir kali kamu bersyukur?\n",
            "Jawaban:\n",
            "Maaf, pertanyaan Anda tidak relevan dengan topik perpajakan. Mohon ajukan pertanyaan yang berkaitan dengan perpajakan atau layanan digital Direktorat Jenderal Pajak Indonesia. Terima kasih.\n",
            "==================================================\n",
            "\n",
            "==================================================\n",
            "Pertanyaan: Ada berapa kantor pajak di Jakarta?\n",
            "Jawaban:\n",
            "Maaf, sebagai asisten pajak profesional, saya tidak memiliki data terkini mengenai jumlah kantor pajak di Jakarta. Anda dapat mengunjungi situs resmi Direktorat Jenderal Pajak atau menghubungi Kring Pajak di nomor 1-500200 untuk mendapatkan informasi yang lebih akurat dan terbaru.\n",
            "==================================================\n"
          ]
        }
      ]
    },
    {
      "cell_type": "markdown",
      "source": [
        "## Model Evaluation\n",
        "\n"
      ],
      "metadata": {
        "id": "qEwoxKzR2xzR"
      }
    },
    {
      "cell_type": "markdown",
      "source": [
        "Berdasarkan hasil evaluasi, model chatbot pajak berbasis RAG dengan GPT-4 ini menunjukkan performa sangat baik dalam menjawab pertanyaan seputar perpajakan, baik yang eksplisit menggunakan kata kunci pajak maupun yang implisit tanpa kata kunci langsung, serta secara konsisten menolak pertanyaan di luar konteks pajak dengan sopan. Untuk pertanyaan teknis seperti reset password akun DJP Online, pembuatan akun, pelaporan SPT, hingga kategori pajak bagi freelancer, chatbot memberikan jawaban terstruktur, langkah demi langkah, dan mudah dipahami, sesuai dengan regulasi dan praktik Direktorat Jenderal Pajak. Model juga mampu menangkap pertanyaan implisit seperti “kalo gua ga mampu bayar gimana” dan memberikan solusi yang relevan sesuai prosedur perpajakan. Pada pertanyaan non-pajak seperti “Apa itu Mobile Legend?” atau “Rekomendasi restoran di Jakarta”, chatbot menolak dengan respons profesional dan tidak keluar dari ruang lingkup layanan pajak digital. Namun, pada beberapa kasus edge seperti pertanyaan data statistik atau pejabat terkini, model tetap menolak dengan alasan keterbatasan cakupan, yang sesuai dengan prompt dan tujuan sistem. Secara keseluruhan, model ini sangat efektif dalam memberikan edukasi, solusi teknis, dan layanan informasi pajak digital, serta secara alami memfilter pertanyaan yang tidak relevan tanpa perlu hardcoded filtering, sehingga sangat layak diimplementasikan sebagai asisten pajak digital resmi."
      ],
      "metadata": {
        "id": "QAqvei4I38T7"
      }
    },
    {
      "cell_type": "markdown",
      "source": [
        "## Conclusion\n",
        "\n",
        "Implementasi RAG dengan GPT-4 dan prompt engineering khusus berhasil menciptakan asisten pajak yang responsif dan terpercaya. Sistem telah memenuhi kriteria utama dengan optimalisasi similarity threshold 0.78 dan integrasi database MongoDB. Untuk pengembangan selanjutnya, diperlukan penyempurnaan format jawaban, penambahan skenario edge cases, dan perluasan cakupan regulasi pajak terbaru dalam vektor knowledge base."
      ],
      "metadata": {
        "id": "7WF77XYh3Brm"
      }
    }
  ]
}
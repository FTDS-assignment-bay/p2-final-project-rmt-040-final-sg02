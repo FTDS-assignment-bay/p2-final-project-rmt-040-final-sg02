{
  "nbformat": 4,
  "nbformat_minor": 0,
  "metadata": {
    "colab": {
      "provenance": []
    },
    "kernelspec": {
      "name": "python3",
      "display_name": "Python 3"
    },
    "language_info": {
      "name": "python"
    }
  },
  "cells": [
    {
      "cell_type": "markdown",
      "source": [
        "### Author: Juan Nembaopit"
      ],
      "metadata": {
        "id": "GsfTyJpY2rzn"
      }
    },
    {
      "cell_type": "markdown",
      "source": [
        "## Objective\n",
        "\n",
        "Tujuan utama pengembangan sistem ini adalah membuat asisten pajak digital (Chatbot) yang mampu menjawab pertanyaan kompleks seputar perpajakan Indonesia secara akurat menggunakan RAG dengan GPT-4 dan memastikan jawaban terstruktur tanpa referensi eksternal. Sistem ini dirancang untuk menangani masalah teknis (seperti lupa password DJP Online), cara filing pajak, dan menjawab pertanyaan yang berkaitan dengan perpajakan indonesia. Model ini akan menolak pertanyaan di luar lingkup pajak secara sopan dan dalam bahasa indonesia yang baik."
      ],
      "metadata": {
        "id": "aKbhA3QzndR-"
      }
    },
    {
      "cell_type": "code",
      "execution_count": 1,
      "metadata": {
        "colab": {
          "base_uri": "https://localhost:8080/"
        },
        "id": "oSXBUi-dbRG_",
        "outputId": "1b7fd93c-dc43-4050-dc2b-a4c3c2b91d1b"
      },
      "outputs": [
        {
          "output_type": "stream",
          "name": "stdout",
          "text": [
            "Collecting pymongo\n",
            "  Downloading pymongo-4.12.0-cp311-cp311-manylinux_2_17_x86_64.manylinux2014_x86_64.whl.metadata (22 kB)\n",
            "Collecting dnspython<3.0.0,>=1.16.0 (from pymongo)\n",
            "  Downloading dnspython-2.7.0-py3-none-any.whl.metadata (5.8 kB)\n",
            "Downloading pymongo-4.12.0-cp311-cp311-manylinux_2_17_x86_64.manylinux2014_x86_64.whl (1.4 MB)\n",
            "\u001b[2K   \u001b[90m━━━━━━━━━━━━━━━━━━━━━━━━━━━━━━━━━━━━━━━━\u001b[0m \u001b[32m1.4/1.4 MB\u001b[0m \u001b[31m32.1 MB/s\u001b[0m eta \u001b[36m0:00:00\u001b[0m\n",
            "\u001b[?25hDownloading dnspython-2.7.0-py3-none-any.whl (313 kB)\n",
            "\u001b[2K   \u001b[90m━━━━━━━━━━━━━━━━━━━━━━━━━━━━━━━━━━━━━━━━\u001b[0m \u001b[32m313.6/313.6 kB\u001b[0m \u001b[31m19.0 MB/s\u001b[0m eta \u001b[36m0:00:00\u001b[0m\n",
            "\u001b[?25hInstalling collected packages: dnspython, pymongo\n",
            "Successfully installed dnspython-2.7.0 pymongo-4.12.0\n"
          ]
        }
      ],
      "source": [
        "!pip install pymongo"
      ]
    },
    {
      "cell_type": "code",
      "source": [
        "!pip install langchain_community"
      ],
      "metadata": {
        "colab": {
          "base_uri": "https://localhost:8080/"
        },
        "id": "aP-oprKZblX3",
        "outputId": "2fabd0ec-2a8c-4743-b6c9-f69a9388ee60"
      },
      "execution_count": 2,
      "outputs": [
        {
          "output_type": "stream",
          "name": "stdout",
          "text": [
            "Collecting langchain_community\n",
            "  Downloading langchain_community-0.3.22-py3-none-any.whl.metadata (2.4 kB)\n",
            "Collecting langchain-core<1.0.0,>=0.3.55 (from langchain_community)\n",
            "  Downloading langchain_core-0.3.55-py3-none-any.whl.metadata (5.9 kB)\n",
            "Collecting langchain<1.0.0,>=0.3.24 (from langchain_community)\n",
            "  Downloading langchain-0.3.24-py3-none-any.whl.metadata (7.8 kB)\n",
            "Requirement already satisfied: SQLAlchemy<3,>=1.4 in /usr/local/lib/python3.11/dist-packages (from langchain_community) (2.0.40)\n",
            "Requirement already satisfied: requests<3,>=2 in /usr/local/lib/python3.11/dist-packages (from langchain_community) (2.32.3)\n",
            "Requirement already satisfied: PyYAML>=5.3 in /usr/local/lib/python3.11/dist-packages (from langchain_community) (6.0.2)\n",
            "Requirement already satisfied: aiohttp<4.0.0,>=3.8.3 in /usr/local/lib/python3.11/dist-packages (from langchain_community) (3.11.15)\n",
            "Requirement already satisfied: tenacity!=8.4.0,<10,>=8.1.0 in /usr/local/lib/python3.11/dist-packages (from langchain_community) (9.1.2)\n",
            "Collecting dataclasses-json<0.7,>=0.5.7 (from langchain_community)\n",
            "  Downloading dataclasses_json-0.6.7-py3-none-any.whl.metadata (25 kB)\n",
            "Collecting pydantic-settings<3.0.0,>=2.4.0 (from langchain_community)\n",
            "  Downloading pydantic_settings-2.9.1-py3-none-any.whl.metadata (3.8 kB)\n",
            "Requirement already satisfied: langsmith<0.4,>=0.1.125 in /usr/local/lib/python3.11/dist-packages (from langchain_community) (0.3.31)\n",
            "Collecting httpx-sse<1.0.0,>=0.4.0 (from langchain_community)\n",
            "  Downloading httpx_sse-0.4.0-py3-none-any.whl.metadata (9.0 kB)\n",
            "Requirement already satisfied: numpy>=1.26.2 in /usr/local/lib/python3.11/dist-packages (from langchain_community) (2.0.2)\n",
            "Requirement already satisfied: aiohappyeyeballs>=2.3.0 in /usr/local/lib/python3.11/dist-packages (from aiohttp<4.0.0,>=3.8.3->langchain_community) (2.6.1)\n",
            "Requirement already satisfied: aiosignal>=1.1.2 in /usr/local/lib/python3.11/dist-packages (from aiohttp<4.0.0,>=3.8.3->langchain_community) (1.3.2)\n",
            "Requirement already satisfied: attrs>=17.3.0 in /usr/local/lib/python3.11/dist-packages (from aiohttp<4.0.0,>=3.8.3->langchain_community) (25.3.0)\n",
            "Requirement already satisfied: frozenlist>=1.1.1 in /usr/local/lib/python3.11/dist-packages (from aiohttp<4.0.0,>=3.8.3->langchain_community) (1.5.0)\n",
            "Requirement already satisfied: multidict<7.0,>=4.5 in /usr/local/lib/python3.11/dist-packages (from aiohttp<4.0.0,>=3.8.3->langchain_community) (6.4.3)\n",
            "Requirement already satisfied: propcache>=0.2.0 in /usr/local/lib/python3.11/dist-packages (from aiohttp<4.0.0,>=3.8.3->langchain_community) (0.3.1)\n",
            "Requirement already satisfied: yarl<2.0,>=1.17.0 in /usr/local/lib/python3.11/dist-packages (from aiohttp<4.0.0,>=3.8.3->langchain_community) (1.19.0)\n",
            "Collecting marshmallow<4.0.0,>=3.18.0 (from dataclasses-json<0.7,>=0.5.7->langchain_community)\n",
            "  Downloading marshmallow-3.26.1-py3-none-any.whl.metadata (7.3 kB)\n",
            "Collecting typing-inspect<1,>=0.4.0 (from dataclasses-json<0.7,>=0.5.7->langchain_community)\n",
            "  Downloading typing_inspect-0.9.0-py3-none-any.whl.metadata (1.5 kB)\n",
            "Requirement already satisfied: langchain-text-splitters<1.0.0,>=0.3.8 in /usr/local/lib/python3.11/dist-packages (from langchain<1.0.0,>=0.3.24->langchain_community) (0.3.8)\n",
            "Requirement already satisfied: pydantic<3.0.0,>=2.7.4 in /usr/local/lib/python3.11/dist-packages (from langchain<1.0.0,>=0.3.24->langchain_community) (2.11.3)\n",
            "Requirement already satisfied: jsonpatch<2.0,>=1.33 in /usr/local/lib/python3.11/dist-packages (from langchain-core<1.0.0,>=0.3.55->langchain_community) (1.33)\n",
            "Requirement already satisfied: packaging<25,>=23.2 in /usr/local/lib/python3.11/dist-packages (from langchain-core<1.0.0,>=0.3.55->langchain_community) (24.2)\n",
            "Requirement already satisfied: typing-extensions>=4.7 in /usr/local/lib/python3.11/dist-packages (from langchain-core<1.0.0,>=0.3.55->langchain_community) (4.13.2)\n",
            "Requirement already satisfied: httpx<1,>=0.23.0 in /usr/local/lib/python3.11/dist-packages (from langsmith<0.4,>=0.1.125->langchain_community) (0.28.1)\n",
            "Requirement already satisfied: orjson<4.0.0,>=3.9.14 in /usr/local/lib/python3.11/dist-packages (from langsmith<0.4,>=0.1.125->langchain_community) (3.10.16)\n",
            "Requirement already satisfied: requests-toolbelt<2.0.0,>=1.0.0 in /usr/local/lib/python3.11/dist-packages (from langsmith<0.4,>=0.1.125->langchain_community) (1.0.0)\n",
            "Requirement already satisfied: zstandard<0.24.0,>=0.23.0 in /usr/local/lib/python3.11/dist-packages (from langsmith<0.4,>=0.1.125->langchain_community) (0.23.0)\n",
            "Collecting python-dotenv>=0.21.0 (from pydantic-settings<3.0.0,>=2.4.0->langchain_community)\n",
            "  Downloading python_dotenv-1.1.0-py3-none-any.whl.metadata (24 kB)\n",
            "Requirement already satisfied: typing-inspection>=0.4.0 in /usr/local/lib/python3.11/dist-packages (from pydantic-settings<3.0.0,>=2.4.0->langchain_community) (0.4.0)\n",
            "Requirement already satisfied: charset-normalizer<4,>=2 in /usr/local/lib/python3.11/dist-packages (from requests<3,>=2->langchain_community) (3.4.1)\n",
            "Requirement already satisfied: idna<4,>=2.5 in /usr/local/lib/python3.11/dist-packages (from requests<3,>=2->langchain_community) (3.10)\n",
            "Requirement already satisfied: urllib3<3,>=1.21.1 in /usr/local/lib/python3.11/dist-packages (from requests<3,>=2->langchain_community) (2.3.0)\n",
            "Requirement already satisfied: certifi>=2017.4.17 in /usr/local/lib/python3.11/dist-packages (from requests<3,>=2->langchain_community) (2025.1.31)\n",
            "Requirement already satisfied: greenlet>=1 in /usr/local/lib/python3.11/dist-packages (from SQLAlchemy<3,>=1.4->langchain_community) (3.2.0)\n",
            "Requirement already satisfied: anyio in /usr/local/lib/python3.11/dist-packages (from httpx<1,>=0.23.0->langsmith<0.4,>=0.1.125->langchain_community) (4.9.0)\n",
            "Requirement already satisfied: httpcore==1.* in /usr/local/lib/python3.11/dist-packages (from httpx<1,>=0.23.0->langsmith<0.4,>=0.1.125->langchain_community) (1.0.8)\n",
            "Requirement already satisfied: h11<0.15,>=0.13 in /usr/local/lib/python3.11/dist-packages (from httpcore==1.*->httpx<1,>=0.23.0->langsmith<0.4,>=0.1.125->langchain_community) (0.14.0)\n",
            "Requirement already satisfied: jsonpointer>=1.9 in /usr/local/lib/python3.11/dist-packages (from jsonpatch<2.0,>=1.33->langchain-core<1.0.0,>=0.3.55->langchain_community) (3.0.0)\n",
            "Requirement already satisfied: annotated-types>=0.6.0 in /usr/local/lib/python3.11/dist-packages (from pydantic<3.0.0,>=2.7.4->langchain<1.0.0,>=0.3.24->langchain_community) (0.7.0)\n",
            "Requirement already satisfied: pydantic-core==2.33.1 in /usr/local/lib/python3.11/dist-packages (from pydantic<3.0.0,>=2.7.4->langchain<1.0.0,>=0.3.24->langchain_community) (2.33.1)\n",
            "Collecting mypy-extensions>=0.3.0 (from typing-inspect<1,>=0.4.0->dataclasses-json<0.7,>=0.5.7->langchain_community)\n",
            "  Downloading mypy_extensions-1.1.0-py3-none-any.whl.metadata (1.1 kB)\n",
            "Requirement already satisfied: sniffio>=1.1 in /usr/local/lib/python3.11/dist-packages (from anyio->httpx<1,>=0.23.0->langsmith<0.4,>=0.1.125->langchain_community) (1.3.1)\n",
            "Downloading langchain_community-0.3.22-py3-none-any.whl (2.5 MB)\n",
            "\u001b[2K   \u001b[90m━━━━━━━━━━━━━━━━━━━━━━━━━━━━━━━━━━━━━━━━\u001b[0m \u001b[32m2.5/2.5 MB\u001b[0m \u001b[31m32.0 MB/s\u001b[0m eta \u001b[36m0:00:00\u001b[0m\n",
            "\u001b[?25hDownloading dataclasses_json-0.6.7-py3-none-any.whl (28 kB)\n",
            "Downloading httpx_sse-0.4.0-py3-none-any.whl (7.8 kB)\n",
            "Downloading langchain-0.3.24-py3-none-any.whl (1.0 MB)\n",
            "\u001b[2K   \u001b[90m━━━━━━━━━━━━━━━━━━━━━━━━━━━━━━━━━━━━━━━━\u001b[0m \u001b[32m1.0/1.0 MB\u001b[0m \u001b[31m31.0 MB/s\u001b[0m eta \u001b[36m0:00:00\u001b[0m\n",
            "\u001b[?25hDownloading langchain_core-0.3.55-py3-none-any.whl (434 kB)\n",
            "\u001b[2K   \u001b[90m━━━━━━━━━━━━━━━━━━━━━━━━━━━━━━━━━━━━━━━━\u001b[0m \u001b[32m434.1/434.1 kB\u001b[0m \u001b[31m23.2 MB/s\u001b[0m eta \u001b[36m0:00:00\u001b[0m\n",
            "\u001b[?25hDownloading pydantic_settings-2.9.1-py3-none-any.whl (44 kB)\n",
            "\u001b[2K   \u001b[90m━━━━━━━━━━━━━━━━━━━━━━━━━━━━━━━━━━━━━━━━\u001b[0m \u001b[32m44.4/44.4 kB\u001b[0m \u001b[31m2.4 MB/s\u001b[0m eta \u001b[36m0:00:00\u001b[0m\n",
            "\u001b[?25hDownloading marshmallow-3.26.1-py3-none-any.whl (50 kB)\n",
            "\u001b[2K   \u001b[90m━━━━━━━━━━━━━━━━━━━━━━━━━━━━━━━━━━━━━━━━\u001b[0m \u001b[32m50.9/50.9 kB\u001b[0m \u001b[31m1.5 MB/s\u001b[0m eta \u001b[36m0:00:00\u001b[0m\n",
            "\u001b[?25hDownloading python_dotenv-1.1.0-py3-none-any.whl (20 kB)\n",
            "Downloading typing_inspect-0.9.0-py3-none-any.whl (8.8 kB)\n",
            "Downloading mypy_extensions-1.1.0-py3-none-any.whl (5.0 kB)\n",
            "Installing collected packages: python-dotenv, mypy-extensions, marshmallow, httpx-sse, typing-inspect, pydantic-settings, dataclasses-json, langchain-core, langchain, langchain_community\n",
            "  Attempting uninstall: langchain-core\n",
            "    Found existing installation: langchain-core 0.3.52\n",
            "    Uninstalling langchain-core-0.3.52:\n",
            "      Successfully uninstalled langchain-core-0.3.52\n",
            "  Attempting uninstall: langchain\n",
            "    Found existing installation: langchain 0.3.23\n",
            "    Uninstalling langchain-0.3.23:\n",
            "      Successfully uninstalled langchain-0.3.23\n",
            "Successfully installed dataclasses-json-0.6.7 httpx-sse-0.4.0 langchain-0.3.24 langchain-core-0.3.55 langchain_community-0.3.22 marshmallow-3.26.1 mypy-extensions-1.1.0 pydantic-settings-2.9.1 python-dotenv-1.1.0 typing-inspect-0.9.0\n"
          ]
        }
      ]
    },
    {
      "cell_type": "code",
      "source": [
        "!pip install langchain_openai"
      ],
      "metadata": {
        "colab": {
          "base_uri": "https://localhost:8080/"
        },
        "id": "cs74YIyIbnk7",
        "outputId": "7790b216-1ed4-4509-c37b-7bedcf2b9825"
      },
      "execution_count": 3,
      "outputs": [
        {
          "output_type": "stream",
          "name": "stdout",
          "text": [
            "Collecting langchain_openai\n",
            "  Downloading langchain_openai-0.3.14-py3-none-any.whl.metadata (2.3 kB)\n",
            "Requirement already satisfied: langchain-core<1.0.0,>=0.3.53 in /usr/local/lib/python3.11/dist-packages (from langchain_openai) (0.3.55)\n",
            "Requirement already satisfied: openai<2.0.0,>=1.68.2 in /usr/local/lib/python3.11/dist-packages (from langchain_openai) (1.75.0)\n",
            "Collecting tiktoken<1,>=0.7 (from langchain_openai)\n",
            "  Downloading tiktoken-0.9.0-cp311-cp311-manylinux_2_17_x86_64.manylinux2014_x86_64.whl.metadata (6.7 kB)\n",
            "Requirement already satisfied: langsmith<0.4,>=0.1.125 in /usr/local/lib/python3.11/dist-packages (from langchain-core<1.0.0,>=0.3.53->langchain_openai) (0.3.31)\n",
            "Requirement already satisfied: tenacity!=8.4.0,<10.0.0,>=8.1.0 in /usr/local/lib/python3.11/dist-packages (from langchain-core<1.0.0,>=0.3.53->langchain_openai) (9.1.2)\n",
            "Requirement already satisfied: jsonpatch<2.0,>=1.33 in /usr/local/lib/python3.11/dist-packages (from langchain-core<1.0.0,>=0.3.53->langchain_openai) (1.33)\n",
            "Requirement already satisfied: PyYAML>=5.3 in /usr/local/lib/python3.11/dist-packages (from langchain-core<1.0.0,>=0.3.53->langchain_openai) (6.0.2)\n",
            "Requirement already satisfied: packaging<25,>=23.2 in /usr/local/lib/python3.11/dist-packages (from langchain-core<1.0.0,>=0.3.53->langchain_openai) (24.2)\n",
            "Requirement already satisfied: typing-extensions>=4.7 in /usr/local/lib/python3.11/dist-packages (from langchain-core<1.0.0,>=0.3.53->langchain_openai) (4.13.2)\n",
            "Requirement already satisfied: pydantic<3.0.0,>=2.5.2 in /usr/local/lib/python3.11/dist-packages (from langchain-core<1.0.0,>=0.3.53->langchain_openai) (2.11.3)\n",
            "Requirement already satisfied: anyio<5,>=3.5.0 in /usr/local/lib/python3.11/dist-packages (from openai<2.0.0,>=1.68.2->langchain_openai) (4.9.0)\n",
            "Requirement already satisfied: distro<2,>=1.7.0 in /usr/local/lib/python3.11/dist-packages (from openai<2.0.0,>=1.68.2->langchain_openai) (1.9.0)\n",
            "Requirement already satisfied: httpx<1,>=0.23.0 in /usr/local/lib/python3.11/dist-packages (from openai<2.0.0,>=1.68.2->langchain_openai) (0.28.1)\n",
            "Requirement already satisfied: jiter<1,>=0.4.0 in /usr/local/lib/python3.11/dist-packages (from openai<2.0.0,>=1.68.2->langchain_openai) (0.9.0)\n",
            "Requirement already satisfied: sniffio in /usr/local/lib/python3.11/dist-packages (from openai<2.0.0,>=1.68.2->langchain_openai) (1.3.1)\n",
            "Requirement already satisfied: tqdm>4 in /usr/local/lib/python3.11/dist-packages (from openai<2.0.0,>=1.68.2->langchain_openai) (4.67.1)\n",
            "Requirement already satisfied: regex>=2022.1.18 in /usr/local/lib/python3.11/dist-packages (from tiktoken<1,>=0.7->langchain_openai) (2024.11.6)\n",
            "Requirement already satisfied: requests>=2.26.0 in /usr/local/lib/python3.11/dist-packages (from tiktoken<1,>=0.7->langchain_openai) (2.32.3)\n",
            "Requirement already satisfied: idna>=2.8 in /usr/local/lib/python3.11/dist-packages (from anyio<5,>=3.5.0->openai<2.0.0,>=1.68.2->langchain_openai) (3.10)\n",
            "Requirement already satisfied: certifi in /usr/local/lib/python3.11/dist-packages (from httpx<1,>=0.23.0->openai<2.0.0,>=1.68.2->langchain_openai) (2025.1.31)\n",
            "Requirement already satisfied: httpcore==1.* in /usr/local/lib/python3.11/dist-packages (from httpx<1,>=0.23.0->openai<2.0.0,>=1.68.2->langchain_openai) (1.0.8)\n",
            "Requirement already satisfied: h11<0.15,>=0.13 in /usr/local/lib/python3.11/dist-packages (from httpcore==1.*->httpx<1,>=0.23.0->openai<2.0.0,>=1.68.2->langchain_openai) (0.14.0)\n",
            "Requirement already satisfied: jsonpointer>=1.9 in /usr/local/lib/python3.11/dist-packages (from jsonpatch<2.0,>=1.33->langchain-core<1.0.0,>=0.3.53->langchain_openai) (3.0.0)\n",
            "Requirement already satisfied: orjson<4.0.0,>=3.9.14 in /usr/local/lib/python3.11/dist-packages (from langsmith<0.4,>=0.1.125->langchain-core<1.0.0,>=0.3.53->langchain_openai) (3.10.16)\n",
            "Requirement already satisfied: requests-toolbelt<2.0.0,>=1.0.0 in /usr/local/lib/python3.11/dist-packages (from langsmith<0.4,>=0.1.125->langchain-core<1.0.0,>=0.3.53->langchain_openai) (1.0.0)\n",
            "Requirement already satisfied: zstandard<0.24.0,>=0.23.0 in /usr/local/lib/python3.11/dist-packages (from langsmith<0.4,>=0.1.125->langchain-core<1.0.0,>=0.3.53->langchain_openai) (0.23.0)\n",
            "Requirement already satisfied: annotated-types>=0.6.0 in /usr/local/lib/python3.11/dist-packages (from pydantic<3.0.0,>=2.5.2->langchain-core<1.0.0,>=0.3.53->langchain_openai) (0.7.0)\n",
            "Requirement already satisfied: pydantic-core==2.33.1 in /usr/local/lib/python3.11/dist-packages (from pydantic<3.0.0,>=2.5.2->langchain-core<1.0.0,>=0.3.53->langchain_openai) (2.33.1)\n",
            "Requirement already satisfied: typing-inspection>=0.4.0 in /usr/local/lib/python3.11/dist-packages (from pydantic<3.0.0,>=2.5.2->langchain-core<1.0.0,>=0.3.53->langchain_openai) (0.4.0)\n",
            "Requirement already satisfied: charset-normalizer<4,>=2 in /usr/local/lib/python3.11/dist-packages (from requests>=2.26.0->tiktoken<1,>=0.7->langchain_openai) (3.4.1)\n",
            "Requirement already satisfied: urllib3<3,>=1.21.1 in /usr/local/lib/python3.11/dist-packages (from requests>=2.26.0->tiktoken<1,>=0.7->langchain_openai) (2.3.0)\n",
            "Downloading langchain_openai-0.3.14-py3-none-any.whl (62 kB)\n",
            "\u001b[2K   \u001b[90m━━━━━━━━━━━━━━━━━━━━━━━━━━━━━━━━━━━━━━━━\u001b[0m \u001b[32m62.4/62.4 kB\u001b[0m \u001b[31m3.1 MB/s\u001b[0m eta \u001b[36m0:00:00\u001b[0m\n",
            "\u001b[?25hDownloading tiktoken-0.9.0-cp311-cp311-manylinux_2_17_x86_64.manylinux2014_x86_64.whl (1.2 MB)\n",
            "\u001b[2K   \u001b[90m━━━━━━━━━━━━━━━━━━━━━━━━━━━━━━━━━━━━━━━━\u001b[0m \u001b[32m1.2/1.2 MB\u001b[0m \u001b[31m23.8 MB/s\u001b[0m eta \u001b[36m0:00:00\u001b[0m\n",
            "\u001b[?25hInstalling collected packages: tiktoken, langchain_openai\n",
            "Successfully installed langchain_openai-0.3.14 tiktoken-0.9.0\n"
          ]
        }
      ]
    },
    {
      "cell_type": "code",
      "source": [
        "!pip install langchain_mongodb"
      ],
      "metadata": {
        "colab": {
          "base_uri": "https://localhost:8080/"
        },
        "id": "CPNQViDq0_vp",
        "outputId": "3dc2aaac-14a0-4aa8-ef16-bf2de8cb81f2"
      },
      "execution_count": 4,
      "outputs": [
        {
          "output_type": "stream",
          "name": "stdout",
          "text": [
            "Collecting langchain_mongodb\n",
            "  Downloading langchain_mongodb-0.6.1-py3-none-any.whl.metadata (1.7 kB)\n",
            "Requirement already satisfied: langchain-core>=0.3 in /usr/local/lib/python3.11/dist-packages (from langchain_mongodb) (0.3.55)\n",
            "Requirement already satisfied: langchain-text-splitters>=0.3 in /usr/local/lib/python3.11/dist-packages (from langchain_mongodb) (0.3.8)\n",
            "Requirement already satisfied: langchain>=0.3 in /usr/local/lib/python3.11/dist-packages (from langchain_mongodb) (0.3.24)\n",
            "Collecting lark<2.0.0,>=1.1.9 (from langchain_mongodb)\n",
            "  Downloading lark-1.2.2-py3-none-any.whl.metadata (1.8 kB)\n",
            "Requirement already satisfied: numpy>=1.26 in /usr/local/lib/python3.11/dist-packages (from langchain_mongodb) (2.0.2)\n",
            "Requirement already satisfied: pymongo>=4.6.1 in /usr/local/lib/python3.11/dist-packages (from langchain_mongodb) (4.12.0)\n",
            "Requirement already satisfied: langsmith<0.4,>=0.1.17 in /usr/local/lib/python3.11/dist-packages (from langchain>=0.3->langchain_mongodb) (0.3.31)\n",
            "Requirement already satisfied: pydantic<3.0.0,>=2.7.4 in /usr/local/lib/python3.11/dist-packages (from langchain>=0.3->langchain_mongodb) (2.11.3)\n",
            "Requirement already satisfied: SQLAlchemy<3,>=1.4 in /usr/local/lib/python3.11/dist-packages (from langchain>=0.3->langchain_mongodb) (2.0.40)\n",
            "Requirement already satisfied: requests<3,>=2 in /usr/local/lib/python3.11/dist-packages (from langchain>=0.3->langchain_mongodb) (2.32.3)\n",
            "Requirement already satisfied: PyYAML>=5.3 in /usr/local/lib/python3.11/dist-packages (from langchain>=0.3->langchain_mongodb) (6.0.2)\n",
            "Requirement already satisfied: tenacity!=8.4.0,<10.0.0,>=8.1.0 in /usr/local/lib/python3.11/dist-packages (from langchain-core>=0.3->langchain_mongodb) (9.1.2)\n",
            "Requirement already satisfied: jsonpatch<2.0,>=1.33 in /usr/local/lib/python3.11/dist-packages (from langchain-core>=0.3->langchain_mongodb) (1.33)\n",
            "Requirement already satisfied: packaging<25,>=23.2 in /usr/local/lib/python3.11/dist-packages (from langchain-core>=0.3->langchain_mongodb) (24.2)\n",
            "Requirement already satisfied: typing-extensions>=4.7 in /usr/local/lib/python3.11/dist-packages (from langchain-core>=0.3->langchain_mongodb) (4.13.2)\n",
            "Requirement already satisfied: dnspython<3.0.0,>=1.16.0 in /usr/local/lib/python3.11/dist-packages (from pymongo>=4.6.1->langchain_mongodb) (2.7.0)\n",
            "Requirement already satisfied: jsonpointer>=1.9 in /usr/local/lib/python3.11/dist-packages (from jsonpatch<2.0,>=1.33->langchain-core>=0.3->langchain_mongodb) (3.0.0)\n",
            "Requirement already satisfied: httpx<1,>=0.23.0 in /usr/local/lib/python3.11/dist-packages (from langsmith<0.4,>=0.1.17->langchain>=0.3->langchain_mongodb) (0.28.1)\n",
            "Requirement already satisfied: orjson<4.0.0,>=3.9.14 in /usr/local/lib/python3.11/dist-packages (from langsmith<0.4,>=0.1.17->langchain>=0.3->langchain_mongodb) (3.10.16)\n",
            "Requirement already satisfied: requests-toolbelt<2.0.0,>=1.0.0 in /usr/local/lib/python3.11/dist-packages (from langsmith<0.4,>=0.1.17->langchain>=0.3->langchain_mongodb) (1.0.0)\n",
            "Requirement already satisfied: zstandard<0.24.0,>=0.23.0 in /usr/local/lib/python3.11/dist-packages (from langsmith<0.4,>=0.1.17->langchain>=0.3->langchain_mongodb) (0.23.0)\n",
            "Requirement already satisfied: annotated-types>=0.6.0 in /usr/local/lib/python3.11/dist-packages (from pydantic<3.0.0,>=2.7.4->langchain>=0.3->langchain_mongodb) (0.7.0)\n",
            "Requirement already satisfied: pydantic-core==2.33.1 in /usr/local/lib/python3.11/dist-packages (from pydantic<3.0.0,>=2.7.4->langchain>=0.3->langchain_mongodb) (2.33.1)\n",
            "Requirement already satisfied: typing-inspection>=0.4.0 in /usr/local/lib/python3.11/dist-packages (from pydantic<3.0.0,>=2.7.4->langchain>=0.3->langchain_mongodb) (0.4.0)\n",
            "Requirement already satisfied: charset-normalizer<4,>=2 in /usr/local/lib/python3.11/dist-packages (from requests<3,>=2->langchain>=0.3->langchain_mongodb) (3.4.1)\n",
            "Requirement already satisfied: idna<4,>=2.5 in /usr/local/lib/python3.11/dist-packages (from requests<3,>=2->langchain>=0.3->langchain_mongodb) (3.10)\n",
            "Requirement already satisfied: urllib3<3,>=1.21.1 in /usr/local/lib/python3.11/dist-packages (from requests<3,>=2->langchain>=0.3->langchain_mongodb) (2.3.0)\n",
            "Requirement already satisfied: certifi>=2017.4.17 in /usr/local/lib/python3.11/dist-packages (from requests<3,>=2->langchain>=0.3->langchain_mongodb) (2025.1.31)\n",
            "Requirement already satisfied: greenlet>=1 in /usr/local/lib/python3.11/dist-packages (from SQLAlchemy<3,>=1.4->langchain>=0.3->langchain_mongodb) (3.2.0)\n",
            "Requirement already satisfied: anyio in /usr/local/lib/python3.11/dist-packages (from httpx<1,>=0.23.0->langsmith<0.4,>=0.1.17->langchain>=0.3->langchain_mongodb) (4.9.0)\n",
            "Requirement already satisfied: httpcore==1.* in /usr/local/lib/python3.11/dist-packages (from httpx<1,>=0.23.0->langsmith<0.4,>=0.1.17->langchain>=0.3->langchain_mongodb) (1.0.8)\n",
            "Requirement already satisfied: h11<0.15,>=0.13 in /usr/local/lib/python3.11/dist-packages (from httpcore==1.*->httpx<1,>=0.23.0->langsmith<0.4,>=0.1.17->langchain>=0.3->langchain_mongodb) (0.14.0)\n",
            "Requirement already satisfied: sniffio>=1.1 in /usr/local/lib/python3.11/dist-packages (from anyio->httpx<1,>=0.23.0->langsmith<0.4,>=0.1.17->langchain>=0.3->langchain_mongodb) (1.3.1)\n",
            "Downloading langchain_mongodb-0.6.1-py3-none-any.whl (59 kB)\n",
            "\u001b[2K   \u001b[90m━━━━━━━━━━━━━━━━━━━━━━━━━━━━━━━━━━━━━━━━\u001b[0m \u001b[32m59.1/59.1 kB\u001b[0m \u001b[31m5.0 MB/s\u001b[0m eta \u001b[36m0:00:00\u001b[0m\n",
            "\u001b[?25hDownloading lark-1.2.2-py3-none-any.whl (111 kB)\n",
            "\u001b[2K   \u001b[90m━━━━━━━━━━━━━━━━━━━━━━━━━━━━━━━━━━━━━━━━\u001b[0m \u001b[32m111.0/111.0 kB\u001b[0m \u001b[31m4.7 MB/s\u001b[0m eta \u001b[36m0:00:00\u001b[0m\n",
            "\u001b[?25hInstalling collected packages: lark, langchain_mongodb\n",
            "Successfully installed langchain_mongodb-0.6.1 lark-1.2.2\n"
          ]
        }
      ]
    },
    {
      "cell_type": "markdown",
      "source": [
        "# Proses Pengerjaan"
      ],
      "metadata": {
        "id": "edRDl_4aGfeD"
      }
    },
    {
      "cell_type": "code",
      "source": [
        "from pymongo import MongoClient\n",
        "from langchain_mongodb import MongoDBAtlasVectorSearch\n",
        "from langchain_openai import OpenAIEmbeddings, ChatOpenAI\n",
        "from langchain.chains import RetrievalQA\n",
        "from langchain.prompts import PromptTemplate\n",
        "from dotenv import load_dotenv\n",
        "import os\n",
        "import re"
      ],
      "metadata": {
        "id": "49nbVtrRPyI8"
      },
      "execution_count": 32,
      "outputs": []
    },
    {
      "cell_type": "code",
      "source": [
        "# Load Environment Variables\n",
        "load_dotenv()\n",
        "MONGODB_URI = os.getenv(\"MONGODB_URI\")\n",
        "OPENAI_KEY = os.getenv(\"OPENAI_API_KEY\")"
      ],
      "metadata": {
        "id": "hStWIhZlPyCm"
      },
      "execution_count": 33,
      "outputs": []
    },
    {
      "cell_type": "code",
      "source": [
        "# Initialize Embeddings\n",
        "embeddings = OpenAIEmbeddings(\n",
        "    model=\"text-embedding-3-small\",\n",
        "    openai_api_key=OPENAI_KEY,\n",
        "    dimensions=1536\n",
        ")"
      ],
      "metadata": {
        "id": "G6CHaKCTPx5P"
      },
      "execution_count": 34,
      "outputs": []
    },
    {
      "cell_type": "code",
      "source": [
        "# MongoDB Connection\n",
        "client = MongoClient(MONGODB_URI)\n",
        "collection = client['Astrax_db']['Astrax']"
      ],
      "metadata": {
        "id": "HrJqw0uATeee"
      },
      "execution_count": 35,
      "outputs": []
    },
    {
      "cell_type": "code",
      "source": [
        "# Vector Store Configuration\n",
        "vector_store = MongoDBAtlasVectorSearch(\n",
        "    collection=collection,\n",
        "    embedding=embeddings,\n",
        "    index_name='vector_index',\n",
        "    text_key=\"text\"\n",
        ")"
      ],
      "metadata": {
        "id": "Rvwl9QasTif_"
      },
      "execution_count": 36,
      "outputs": []
    },
    {
      "cell_type": "code",
      "source": [
        "# Optimized Professional Prompt Template\n",
        "PROFESSIONAL_PROMPT = PromptTemplate(\n",
        "    input_variables=[\"context\", \"question\"],\n",
        "    template=\"\"\"\n",
        "    Anda adalah Asisten Pajak Profesional Direktorat Jenderal Pajak Indonesia.\n",
        "    Tugas utama:\n",
        "    1. Jawab pertanyaan pajak berdasarkan FAQ resmi DJP\n",
        "    2. Berikan panduan teknis pelaporan pajak dan masalah akun DJP Online\n",
        "    3. Jelaskan konsep perpajakan dengan bahasa sederhana\n",
        "    4. Bantu masalah teknis terkait layanan digital DJP\n",
        "\n",
        "    Aturan jawaban:\n",
        "    - Hanya jawab pertanyaan terkait layanan pajak digital Indonesia\n",
        "    - Tolak tegas pertanyaan di luar lingkup pajak dengan sopan\n",
        "    - Gunakan format numerik untuk langkah prosedural\n",
        "    - Fokus pada poin penting\n",
        "    - Jangan cantumkan link/referensi apapun\n",
        "\n",
        "    Konteks resmi:\n",
        "    {context}\n",
        "\n",
        "    Pertanyaan: {question}\n",
        "\n",
        "    Jawaban profesional:\n",
        "    \"\"\"\n",
        ")"
      ],
      "metadata": {
        "id": "iUAeKROUTkDu"
      },
      "execution_count": 37,
      "outputs": []
    },
    {
      "cell_type": "code",
      "source": [
        "# Model Configuration dengan GPT-4\n",
        "llm = ChatOpenAI(\n",
        "    model_name=\"gpt-4\",\n",
        "    openai_api_key=OPENAI_KEY,\n",
        "    temperature=0,\n",
        "    max_tokens=800\n",
        ")"
      ],
      "metadata": {
        "id": "_IDJP8XmToDM"
      },
      "execution_count": 38,
      "outputs": []
    },
    {
      "cell_type": "code",
      "source": [
        "# Optimized Retrieval Chain\n",
        "qa = RetrievalQA.from_chain_type(\n",
        "    llm=llm,\n",
        "    chain_type=\"stuff\",\n",
        "    retriever=vector_store.as_retriever(\n",
        "        search_type=\"similarity\",\n",
        "        search_kwargs={\n",
        "            \"k\": 3,\n",
        "            \"score_threshold\": 0.78\n",
        "        }\n",
        "    ),\n",
        "    chain_type_kwargs={\"prompt\": PROFESSIONAL_PROMPT},\n",
        "    return_source_documents=True\n",
        ")\n",
        "\n",
        "def clean_answer(raw_answer):\n",
        "    \"\"\"Membersihkan jawaban dari referensi dan format khusus\"\"\"\n",
        "    # Format daftar bernomor\n",
        "    formatted = re.sub(r'(\\d+\\.)\\s', r'\\n\\1 ', raw_answer)\n",
        "    # Hapus karakter khusus\n",
        "    cleaned = re.sub(r'[*_]{2}', '', formatted)\n",
        "    return cleaned.strip()\n",
        "\n",
        "def ask(query):\n",
        "    try:\n",
        "        # Proses query langsung tanpa validasi awal\n",
        "        result = qa.invoke({\"query\": query})\n",
        "\n",
        "        if not result['source_documents']:\n",
        "            return \"Informasi tidak ditemukan dalam database resmi. Silakan hubungi Kring Pajak 1500200\"\n",
        "\n",
        "        # Pembersihan jawaban akhir\n",
        "        return clean_answer(result['result'])\n",
        "\n",
        "    except Exception as e:\n",
        "        return f\"Terjadi kesalahan sistem: {str(e)}\\nSilakan coba lagi atau hubungi 1500200\""
      ],
      "metadata": {
        "id": "IzzxWpoxTy-0"
      },
      "execution_count": 39,
      "outputs": []
    },
    {
      "cell_type": "markdown",
      "source": [
        "# Test Query\n",
        "\n",
        "dalam part ini model akan di evaluasi dengan melakukan query atau pertanyaan.  Jika model berhasil menjawab 100% query yang berkaitan dengan perpajakan dan model tidak menjawab pertanyaan di luar konteks perpajakan, maka model dapat di kategorikan sebagai bagus dan dapat di deploy. Jika model gagal, berarti harus kita optimasi lagi."
      ],
      "metadata": {
        "id": "7sE0iCZ8fxOq"
      }
    },
    {
      "cell_type": "code",
      "source": [
        "# Test Cases\n",
        "questions = [\n",
        "    \"Saya lupa password akun DJP Online\",\n",
        "    \"Bagaimana cara reset password?\",\n",
        "    \"kalau saya masih pelajar apakah teteap harus bayar pajak?\",\n",
        "    \"Cara membuat akun DJP Online baru\",\n",
        "    \"Kalau saya kerja freelence, masuknya kategori apa?\",\n",
        "    \"Rekomendasi restoran di Jakarta\"\n",
        "]\n",
        "\n",
        "for q in questions:\n",
        "    print(f\"\\n{'='*50}\")\n",
        "    print(f\"Pertanyaan: {q}\")\n",
        "    print(f\"Jawaban:\\n{ask(q)}\")\n",
        "    print(f\"{'='*50}\")\n"
      ],
      "metadata": {
        "colab": {
          "base_uri": "https://localhost:8080/"
        },
        "id": "uKxTW8fWPxva",
        "outputId": "2c659869-733f-4686-b694-cd450115c191"
      },
      "execution_count": 31,
      "outputs": [
        {
          "output_type": "stream",
          "name": "stdout",
          "text": [
            "\n",
            "==================================================\n",
            "Pertanyaan: Saya lupa password akun DJP Online\n",
            "Jawaban:\n",
            "Jika Anda lupa password akun DJP Online, Anda dapat melakukan reset password dengan langkah-langkah berikut:\n",
            "\n",
            "\n",
            "1. Buka laman DJP Online.\n",
            "\n",
            "2. Klik menu \"Lupa password? Reset di sini\".\n",
            "\n",
            "3. Anda akan diminta untuk mengisi beberapa data yaitu NPWP, nomor EFIN, dan kode keamanan.\n",
            "\n",
            "4. Setelah itu, klik \"Submit\".\n",
            "\n",
            "5. Akan muncul pesan pop up \"Request Succeed, link reset password telah dikirim ke email Anda\". Klik \"OK\".\n",
            "\n",
            "6. Cek email Anda, dan klik \"Link Reset Password\" yang telah dikirimkan.\n",
            "\n",
            "7. Selanjutnya, ganti password sebelumnya dengan password baru yang aman dan mudah diingat.\n",
            "\n",
            "Pastikan email yang Anda gunakan masih aktif dan dapat dibuka, karena link untuk reset password akan dikirimkan melalui email tersebut.\n",
            "==================================================\n",
            "\n",
            "==================================================\n",
            "Pertanyaan: Bagaimana cara reset password?\n",
            "Jawaban:\n",
            "Untuk mereset password Anda, ikuti langkah-langkah berikut:\n",
            "\n",
            "\n",
            "1. Buka laman DJP Online atau akun PKP Anda.\n",
            "\n",
            "2. Klik pada menu atau link \"Lupa Password?\" atau \"Reset Password\".\n",
            "\n",
            "3. Anda akan diminta untuk memasukkan beberapa data, seperti NPWP, nomor EFIN, dan kode keamanan. Pastikan Anda memasukkan data yang valid dan sesuai.\n",
            "\n",
            "4. Setelah itu, klik \"Submit\".\n",
            "\n",
            "5. Anda akan menerima pesan pop up yang menginformasikan bahwa link untuk mereset password telah dikirim ke email Anda. Klik \"OK\".\n",
            "\n",
            "6. Buka email Anda dan cari email dari DJP Online atau akun PKP Anda.\n",
            "\n",
            "7. Klik pada \"Link Reset Password\" yang ada di dalam email tersebut.\n",
            "\n",
            "8. Anda akan diarahkan ke halaman baru untuk membuat password baru. Buatlah password yang aman dan mudah diingat.\n",
            "\n",
            "9. Setelah selesai, Anda dapat mencoba untuk login kembali dengan password baru Anda.\n",
            "\n",
            "Harap pastikan bahwa email yang Anda gunakan masih aktif dan dapat dibuka, karena link untuk mereset password akan dikirim ke email tersebut.\n",
            "==================================================\n",
            "\n",
            "==================================================\n",
            "Pertanyaan: kalau saya masih pelajar apakah teteap harus bayar pajak?\n",
            "Jawaban:\n",
            "Sebagai pelajar, Anda tidak diwajibkan untuk membayar pajak kecuali jika Anda memiliki penghasilan yang melebihi batas Non-Taxable Income (PTKP). PTKP adalah batas penghasilan yang tidak dikenakan pajak. Untuk tahun 2021, batas PTKP adalah Rp 54.000.000 per tahun. Jadi, jika Anda sebagai pelajar memiliki penghasilan di bawah batas tersebut, Anda tidak perlu membayar pajak. Namun, jika penghasilan Anda melebihi batas tersebut, Anda wajib membayar pajak dan melaporkannya dalam SPT Tahunan.\n",
            "==================================================\n",
            "\n",
            "==================================================\n",
            "Pertanyaan: Cara membuat akun DJP Online baru\n",
            "Jawaban:\n",
            "Untuk membuat akun DJP Online baru, Anda dapat mengikuti langkah-langkah berikut:\n",
            "\n",
            "\n",
            "1. Kunjungi situs resmi DJP Online.\n",
            "\n",
            "2. Klik pada menu \"Daftar\" yang berada di bagian kanan atas halaman.\n",
            "\n",
            "3. Anda akan diminta untuk mengisi beberapa informasi seperti NPWP, nama, alamat email, dan nomor telepon.\n",
            "\n",
            "4. Setelah mengisi semua informasi yang dibutuhkan, klik \"Submit\".\n",
            "\n",
            "5. Anda akan menerima email konfirmasi dari DJP Online. Buka email tersebut dan klik pada link yang diberikan untuk verifikasi akun Anda.\n",
            "\n",
            "6. Setelah melakukan verifikasi, Anda akan diminta untuk membuat password untuk akun Anda. Buatlah password yang kuat dan mudah diingat.\n",
            "\n",
            "7. Setelah membuat password, akun DJP Online Anda sudah siap digunakan.\n",
            "\n",
            "Ingatlah untuk selalu menjaga kerahasiaan informasi akun Anda dan pastikan untuk selalu melakukan update informasi jika terjadi perubahan.\n",
            "==================================================\n",
            "\n",
            "==================================================\n",
            "Pertanyaan: Kalau saya kerja freelence, masuknya kategori apa?\n",
            "Jawaban:\n",
            "Jika Anda bekerja sebagai freelancer, Anda masuk dalam kategori pekerjaan bebas. Anda wajib melaporkan penghasilan Anda melalui SPT Tahunan PPh Orang Pribadi dengan menggunakan formulir 1770.\n",
            "==================================================\n",
            "\n",
            "==================================================\n",
            "Pertanyaan: Rekomendasi restoran di Jakarta\n",
            "Jawaban:\n",
            "Maaf, sebagai Asisten Pajak Profesional, saya hanya dapat membantu dengan pertanyaan yang berkaitan dengan perpajakan dan layanan digital Direktorat Jenderal Pajak Indonesia. Untuk rekomendasi restoran, mohon mencari informasi tersebut melalui sumber yang relevan. Terima kasih.\n",
            "==================================================\n"
          ]
        }
      ]
    },
    {
      "cell_type": "code",
      "source": [
        "# Test Cases\n",
        "questions = [\n",
        "    \"kenapa pajak mahal banget\",\n",
        "    \"kalau saya kerja di luar negri apa harus tetap bayar pajak?\",\n",
        "    \"gua ga punya duit buat bayar pajak\",\n",
        "    \"kalau perusahaan saya bangkrut apa harus tetap bayar pajak?\",\n",
        "    \"Ada berapa profinsi di indonesia\",\n",
        "    \"bagaimana cara saya lapor pajak\",\n",
        "    \"jam operational kantor pajak jam brapa\",\n",
        "    \"siapa nama jendral pajak sekarang\"\n",
        "]\n",
        "\n",
        "for q in questions:\n",
        "    print(f\"\\n{'='*50}\")\n",
        "    print(f\"Pertanyaan: {q}\")\n",
        "    print(f\"Jawaban:\\n{ask(q)}\")\n",
        "    print(f\"{'='*50}\")\n"
      ],
      "metadata": {
        "colab": {
          "base_uri": "https://localhost:8080/"
        },
        "id": "UGB17JQ5QF33",
        "outputId": "472e38dd-982e-4fbe-b258-23112bc5070c"
      },
      "execution_count": 40,
      "outputs": [
        {
          "output_type": "stream",
          "name": "stdout",
          "text": [
            "\n",
            "==================================================\n",
            "Pertanyaan: kenapa pajak mahal banget\n",
            "Jawaban:\n",
            "Pajak yang dikenakan oleh pemerintah sebenarnya tidak bisa dikategorikan sebagai mahal atau murah, karena besaran pajak ditentukan berdasarkan beberapa faktor. Beberapa faktor tersebut antara lain:\n",
            "\n",
            "\n",
            "1. Tarif Pajak: Tarif pajak ditentukan oleh pemerintah dan berbeda-beda untuk setiap jenis pajak. Misalnya, untuk Pajak Penghasilan (PPh) orang pribadi, tarifnya berkisar antara 5% hingga 30% tergantung pada jumlah penghasilan.\n",
            "\n",
            "\n",
            "2. Penghasilan atau Omset: Besaran pajak juga ditentukan berdasarkan penghasilan atau omset yang diterima oleh wajib pajak. Semakin besar penghasilan atau omset, maka semakin besar pula pajak yang harus dibayar.\n",
            "\n",
            "\n",
            "3. Fasilitas Pajak: Pemerintah juga memberikan beberapa fasilitas pajak seperti Pajak Penghasilan Tidak Kena Pajak (PTKP) dan pengurangan pajak untuk wajib pajak tertentu.\n",
            "\n",
            "Jadi, jika Anda merasa pajak yang Anda bayar terasa mahal, bisa jadi karena penghasilan atau omset Anda cukup besar, atau mungkin Anda belum memanfaatkan fasilitas pajak yang ada. Untuk lebih jelasnya, Anda bisa berkonsultasi dengan konsultan pajak atau petugas pajak terdekat.\n",
            "==================================================\n",
            "\n",
            "==================================================\n",
            "Pertanyaan: kalau saya kerja di luar negri apa harus tetap bayar pajak?\n",
            "Jawaban:\n",
            "Ya, sebagai Wajib Pajak yang bekerja dan memperoleh penghasilan di luar negeri, Anda tetap harus membayar pajak. Hal ini berlaku jika Anda berada di luar negeri lebih dari 183 hari dalam jangka waktu 12 bulan dan tidak bermaksud meninggalkan Indonesia untuk selama-lamanya. Penghasilan yang diperoleh di luar negeri akan dikenakan Pajak Penghasilan (PPh) sesuai dengan ketentuan peraturan perpajakan yang berlaku.\n",
            "==================================================\n",
            "\n",
            "==================================================\n",
            "Pertanyaan: gua ga punya duit buat bayar pajak\n",
            "Jawaban:\n",
            "Mohon maaf atas situasi yang Anda hadapi. Jika Anda mengalami kesulitan dalam membayar pajak, Anda dapat mengajukan permohonan penundaan atau pengurangan pajak kepada Direktorat Jenderal Pajak. Namun, permohonan ini akan ditinjau dan diputuskan oleh pihak berwenang. Saya sarankan untuk berkonsultasi dengan konsultan pajak atau hubungi kantor pajak setempat untuk mendapatkan bantuan lebih lanjut.\n",
            "==================================================\n",
            "\n",
            "==================================================\n",
            "Pertanyaan: kalau perusahaan saya bangkrut apa harus tetap bayar pajak?\n",
            "Jawaban:\n",
            "Ya, perusahaan yang bangkrut tetap memiliki kewajiban untuk membayar pajak. Meskipun perusahaan tersebut tidak beroperasi lagi, tetapi jika masih memiliki aset, aset tersebut masih dikenakan pajak. Selain itu, jika perusahaan tersebut memiliki utang pajak sebelum bangkrut, utang tersebut tetap harus dibayar. Namun, jika aset perusahaan tidak mencukupi untuk membayar utang pajak, maka bisa diajukan ke pengadilan untuk mendapatkan pengampunan utang.\n",
            "==================================================\n",
            "\n",
            "==================================================\n",
            "Pertanyaan: Ada berapa profinsi di indonesia\n",
            "Jawaban:\n",
            "Maaf, pertanyaan Anda tidak terkait dengan layanan pajak digital Indonesia. Saya hanya dapat membantu menjawab pertanyaan yang berkaitan dengan perpajakan. Silakan ajukan pertanyaan lain yang relevan dengan topik tersebut. Terima kasih.\n",
            "==================================================\n",
            "\n",
            "==================================================\n",
            "Pertanyaan: bagaimana cara saya lapor pajak\n",
            "Jawaban:\n",
            "Untuk melaporkan pajak, Anda dapat mengikuti langkah-langkah berikut:\n",
            "\n",
            "\n",
            "1. Siapkan dokumen yang diperlukan seperti NPWP, bukti potong PPh, dan lainnya.\n",
            "\n",
            "2. Kunjungi situs resmi Direktorat Jenderal Pajak dan masuk ke akun Anda. Jika Anda belum memiliki akun, Anda perlu mendaftar terlebih dahulu.\n",
            "\n",
            "3. Pilih menu e-Filing.\n",
            "\n",
            "4. Isi formulir SPT Tahunan sesuai dengan petunjuk yang ada.\n",
            "\n",
            "5. Setelah selesai mengisi, periksa kembali data yang telah Anda isi.\n",
            "\n",
            "6. Jika sudah benar, Anda dapat mengirimkan SPT Tahunan Anda.\n",
            "\n",
            "7. Anda akan menerima bukti pengiriman SPT Tahunan dalam bentuk elektronik.\n",
            "\n",
            "Ingatlah untuk selalu melaporkan pajak tepat waktu untuk menghindari sanksi.\n",
            "==================================================\n",
            "\n",
            "==================================================\n",
            "Pertanyaan: jam operational kantor pajak jam brapa\n",
            "Jawaban:\n",
            "Jam operasional Kantor Pelayanan Pajak (KPP) umumnya adalah Senin sampai Jumat, mulai pukul 08.00 hingga 16.00 WIB. Namun, untuk kepastian, disarankan untuk menghubungi KPP terdekat karena jam operasional bisa berbeda-beda di setiap kantor.\n",
            "==================================================\n",
            "\n",
            "==================================================\n",
            "Pertanyaan: siapa nama jendral pajak sekarang\n",
            "Jawaban:\n",
            "Maaf, sebagai asisten pajak profesional, saya hanya dapat membantu menjawab pertanyaan yang berkaitan dengan layanan pajak digital dan perpajakan. Untuk informasi terkait pejabat di Direktorat Jenderal Pajak, silakan mengunjungi situs resmi Direktorat Jenderal Pajak.\n",
            "==================================================\n"
          ]
        }
      ]
    },
    {
      "cell_type": "markdown",
      "source": [
        "## Model Evaluation\n",
        "\n"
      ],
      "metadata": {
        "id": "qEwoxKzR2xzR"
      }
    },
    {
      "cell_type": "markdown",
      "source": [
        "Dari pengujian dengan berbagai pertanyaan—baik terkait teknis akun pajak, prosedur pelaporan, kategori pajak, hingga pertanyaan non-pajak—chatbot mampu memberikan jawaban yang sangat relevan, terstruktur, dan mudah dipahami untuk semua pertanyaan yang memang tercakup dalam hasil scrapping atau konteks perpajakan Indonesia. Untuk pertanyaan seperti \"Saya lupa password akun DJP Online\", \"Bagaimana cara reset password?\", atau \"Cara membuat akun DJP Online baru\", sistem memberikan instruksi langkah demi langkah yang jelas, sesuai FAQ dan praktik resmi DJP. Untuk pertanyaan umum seperti \"kalau saya masih pelajar apakah tetap harus bayar pajak?\" atau \"kalau saya kerja freelance, masuknya kategori apa?\", jawaban yang diberikan juga akurat, menyesuaikan dengan ketentuan perpajakan terbaru. Sementara untuk pertanyaan di luar konteks seperti \"Apa itu Mobile Legend?\" atau \"Rekomendasi restoran di Jakarta\", chatbot secara konsisten menolak dengan sopan dan profesional, sesuai instruksi pada prompt. Secara keseluruhan, sistem mampu menjaga konsistensi, relevansi, dan profesionalisme jawaban tanpa hallucination. Overall, chat bot berjalan sesuai objective kita."
      ],
      "metadata": {
        "id": "QAqvei4I38T7"
      }
    },
    {
      "cell_type": "markdown",
      "source": [
        "## Conclusion\n",
        "\n",
        "Implementasi RAG dengan GPT-4 dan prompt engineering khusus berhasil menciptakan asisten pajak yang responsif dan terpercaya. Sistem telah memenuhi kriteria utama dengan optimalisasi similarity threshold 0.78 dan integrasi database MongoDB. Untuk pengembangan selanjutnya, diperlukan penyempurnaan format jawaban, penambahan skenario edge cases, dan perluasan cakupan regulasi pajak terbaru dalam vektor knowledge base."
      ],
      "metadata": {
        "id": "7WF77XYh3Brm"
      }
    },
    {
      "cell_type": "code",
      "source": [],
      "metadata": {
        "id": "_jJjITUs3DtV"
      },
      "execution_count": null,
      "outputs": []
    }
  ]
}
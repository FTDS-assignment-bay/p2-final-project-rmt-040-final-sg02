{
  "cells": [
    {
      "cell_type": "markdown",
      "metadata": {
        "id": "vMRL2lixvsig"
      },
      "source": [
        "## Author: Juan Nembaopit"
      ]
    },
    {
      "cell_type": "markdown",
      "metadata": {
        "id": "og7uNBoHZ4et"
      },
      "source": [
        "# (RAG) - Vector Database"
      ]
    },
    {
      "cell_type": "markdown",
      "metadata": {
        "id": "UbgEVjkBulTE"
      },
      "source": [
        "## Objective"
      ]
    },
    {
      "cell_type": "markdown",
      "metadata": {
        "id": "sD9ljXUwu4zB"
      },
      "source": [
        "Tujuan dari kode ini adalah untuk memproses data FAQ yang disimpan dalam file CSV, memecah jawabannya menjadi potongan-potongan teks kecil, mengubah setiap potongan menjadi vektor embedding menggunakan model OpenAI terbaru, lalu menyimpan hasil embedding beserta metadata ke dalam database MongoDB Atlas agar data tersebut dapat dicari secara semantik dengan cepat dan efisien, misalnya untuk membangun chatbot FAQ yang cerdas seperti ASTRAX."
      ]
    },
    {
      "cell_type": "markdown",
      "metadata": {
        "id": "RrfRTixw0uwo"
      },
      "source": [
        "## Import Library\n"
      ]
    },
    {
      "cell_type": "code",
      "execution_count": 6,
      "metadata": {
        "id": "5RQ6uKjGNvBe"
      },
      "outputs": [],
      "source": [
        "import requests\n",
        "from pypdf import PdfReader\n",
        "from langchain.text_splitter import RecursiveCharacterTextSplitter\n",
        "from langchain_openai import OpenAIEmbeddings\n",
        "from pymongo import MongoClient\n",
        "from langchain.vectorstores import MongoDBAtlasVectorSearch\n",
        "import os\n",
        "from dotenv import load_dotenv\n",
        "from langchain_community.document_loaders import CSVLoader"
      ]
    },
    {
      "cell_type": "markdown",
      "metadata": {
        "id": "dwhHTpYe04tl"
      },
      "source": [
        "## Loading env dan Data"
      ]
    },
    {
      "cell_type": "code",
      "execution_count": 7,
      "metadata": {
        "id": "4tCOwbVGI-O-"
      },
      "outputs": [],
      "source": [
        "# Load Environment Variables\n",
        "load_dotenv(override=True)\n",
        "MONGODB_URI = os.getenv(\"MONGO_URI\")\n",
        "OPENAI_API_KEY = os.getenv(\"OPENAI_API_KEY\")"
      ]
    },
    {
      "cell_type": "markdown",
      "metadata": {
        "id": "WdXJUSffs5wW"
      },
      "source": [
        "insight: Mengambil kredensial dari file .env untuk keamanan"
      ]
    },
    {
      "cell_type": "code",
      "execution_count": 10,
      "metadata": {
        "id": "cPgzjD7nJJGo"
      },
      "outputs": [],
      "source": [
        "# Load CSV Dataset\n",
        "loader = CSVLoader(\n",
        "    file_path=\"../../data/faq_combined.csv\",\n",
        "    content_columns=[\"Answer\"],\n",
        "    metadata_columns=[\"Question\"],\n",
        "    csv_args={'delimiter': ','}\n",
        ")\n",
        "documents = loader.load()"
      ]
    },
    {
      "cell_type": "markdown",
      "metadata": {
        "id": "L13nd6uztEZK"
      },
      "source": [
        "insight:\n",
        "- Memuat file CSV menggunakan CSVLoader\n",
        "\n",
        "- Kolom \"Answer\" sebagai konten utama\n",
        "\n",
        "- Kolom \"Question\" sebagai metadata\n",
        "\n",
        "- Menggunakan delimiter koma"
      ]
    },
    {
      "cell_type": "markdown",
      "metadata": {
        "id": "_nqcYlHVaTIA"
      },
      "source": [
        "## Splitting (chunking)"
      ]
    },
    {
      "cell_type": "code",
      "execution_count": 11,
      "metadata": {
        "id": "nQ8SRkslJ3Sn"
      },
      "outputs": [],
      "source": [
        "# Optimized Text Splitting\n",
        "text_splitter = RecursiveCharacterTextSplitter(\n",
        "    chunk_size=500,  # Ukuran chunk lebih kecil untuk presisi\n",
        "    chunk_overlap=100,  # Overlap untuk menjaga konteks\n",
        "    separators=[\"\\n\\n\", \"\\n\", \"(?<=\\. )\", \" \"],\n",
        "    length_function=len\n",
        ")\n",
        "chunks = text_splitter.split_documents(documents)"
      ]
    },
    {
      "cell_type": "markdown",
      "metadata": {
        "id": "eDjM84oGteY3"
      },
      "source": [
        "insight:\n",
        "- Memecah dokumen menjadi chunk 500 karakter dengan overlap 100 karakter\n",
        "\n",
        "- Menggunakan separators hierarkis untuk mempertahankan konteks"
      ]
    },
    {
      "cell_type": "markdown",
      "metadata": {
        "id": "BSWparHRaZeQ"
      },
      "source": [
        "## Embedding"
      ]
    },
    {
      "cell_type": "code",
      "execution_count": 12,
      "metadata": {
        "id": "Z52E3Xg-J9YQ"
      },
      "outputs": [],
      "source": [
        "# Initialize Embeddings dengan model terbaru\n",
        "embeddings = OpenAIEmbeddings(\n",
        "    model=\"text-embedding-3-small\",\n",
        "    openai_api_key=OPENAI_API_KEY\n",
        ")"
      ]
    },
    {
      "cell_type": "markdown",
      "metadata": {
        "id": "7hlEb4aatwm5"
      },
      "source": [
        "Insight:\n",
        "- Menggunakan model embedding terbaru OpenAI (text-embedding-3-small)\n",
        "\n",
        "- Menghasilkan vektor 1536 dimensi untuk representasi semantik\n",
        "\n",
        "- Model yang cost-effective dengan performa tinggi"
      ]
    },
    {
      "cell_type": "markdown",
      "metadata": {
        "id": "IVkluvjWacmZ"
      },
      "source": [
        "## Load to MongoDB"
      ]
    },
    {
      "cell_type": "code",
      "execution_count": 13,
      "metadata": {
        "id": "9FmKAswaKIT8"
      },
      "outputs": [],
      "source": [
        "# MongoDB Connection\n",
        "client = MongoClient(MONGODB_URI)\n",
        "collection = client['Astrax_db']['Astrax']"
      ]
    },
    {
      "cell_type": "markdown",
      "metadata": {
        "id": "AAjuNGSIuCq1"
      },
      "source": [
        "inisight:\n",
        "- Membuat koneksi ke cluster MongoDB Atlas\n",
        "\n",
        "- Mengakses database Astrax_db dan koleksi Astrax"
      ]
    },
    {
      "cell_type": "code",
      "execution_count": 14,
      "metadata": {
        "colab": {
          "base_uri": "https://localhost:8080/"
        },
        "id": "P3SugPNlKOSe",
        "outputId": "651af18a-ef1e-499d-8330-cca902a9a0d9"
      },
      "outputs": [
        {
          "name": "stdout",
          "output_type": "stream",
          "text": [
            "Data berhasil diunggah ke MongoDB Atlas!\n",
            "Jumlah dokumen: 209\n",
            "Jumlah chunks: 296\n"
          ]
        }
      ],
      "source": [
        "collection.delete_many({})\n",
        "\n",
        "# Vector Store Setup\n",
        "vector_store = MongoDBAtlasVectorSearch.from_documents(\n",
        "    documents=chunks,\n",
        "    embedding=embeddings,\n",
        "    collection=collection,\n",
        "    index_name=\"vector_index\"\n",
        ")\n",
        "\n",
        "print(\"Data berhasil diunggah ke MongoDB Atlas!\")\n",
        "print(f\"Jumlah dokumen: {len(documents)}\")\n",
        "print(f\"Jumlah chunks: {len(chunks)}\")"
      ]
    },
    {
      "cell_type": "markdown",
      "metadata": {
        "id": "Y2z_4hW6uUd0"
      },
      "source": [
        "insight:\n",
        "- Menyimpan chunk dokumen + embedding ke MongoDB Atlas\n",
        "\n",
        "- Menggunakan index vector_index untuk pencarian vektor\n",
        "\n",
        "- Mengimplementasikan HNSW algorithm untuk ANN search"
      ]
    }
  ],
  "metadata": {
    "colab": {
      "provenance": []
    },
    "kernelspec": {
      "display_name": "py10",
      "language": "python",
      "name": "python3"
    },
    "language_info": {
      "codemirror_mode": {
        "name": "ipython",
        "version": 3
      },
      "file_extension": ".py",
      "mimetype": "text/x-python",
      "name": "python",
      "nbconvert_exporter": "python",
      "pygments_lexer": "ipython3",
      "version": "3.10.16"
    }
  },
  "nbformat": 4,
  "nbformat_minor": 0
}

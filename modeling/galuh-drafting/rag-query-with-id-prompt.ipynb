{
  "cells": [
    {
      "cell_type": "markdown",
      "metadata": {
        "id": "jz_XsMI-RFjD"
      },
      "source": [
        "## Objective"
      ]
    },
    {
      "cell_type": "markdown",
      "metadata": {
        "id": "xgp12ZPHRJVq"
      },
      "source": [
        "Part pengerjaan ini bertujuan membangun sistem chatbot pajak profesional berbasis RAG (Retrieval-Augmented Generation) yang mengintegrasikan data FAQ.csv dari Direktorat Jenderal Pajak Indonesia dengan teknologi AI, untuk memberikan jawaban akurat terkait peraturan perpajakan dalam bahasa Indonesia. Sistem ini dirancang untuk: Memfilter pertanyaan non-pajak secara ketat menggunakan daftar keyword spesifik seperti PPh, PPN, NPWP; Mengambil informasi relevan dari database MongoDB dengan similarity search menggunakan embedding OpenAI; Menghasilkan respons terstruktur berformat profesional."
      ]
    },
    {
      "cell_type": "markdown",
      "metadata": {
        "id": "1TCFq0irRihF"
      },
      "source": [
        "## Pengerjaan"
      ]
    },
    {
      "cell_type": "markdown",
      "metadata": {
        "id": "VcFreAH99qYv"
      },
      "source": [
        "## Import Libraries"
      ]
    },
    {
      "cell_type": "code",
      "execution_count": 2,
      "metadata": {},
      "outputs": [
        {
          "name": "stdout",
          "output_type": "stream",
          "text": [
            "Requirement already satisfied: langchain_mongodb in c:\\users\\galuh\\miniconda\\envs\\py10\\lib\\site-packages (0.6.1)\n",
            "Requirement already satisfied: langchain-core>=0.3 in c:\\users\\galuh\\miniconda\\envs\\py10\\lib\\site-packages (from langchain_mongodb) (0.3.55)\n",
            "Requirement already satisfied: langchain-text-splitters>=0.3 in c:\\users\\galuh\\miniconda\\envs\\py10\\lib\\site-packages (from langchain_mongodb) (0.3.8)\n",
            "Requirement already satisfied: langchain>=0.3 in c:\\users\\galuh\\miniconda\\envs\\py10\\lib\\site-packages (from langchain_mongodb) (0.3.24)\n",
            "Requirement already satisfied: lark<2.0.0,>=1.1.9 in c:\\users\\galuh\\miniconda\\envs\\py10\\lib\\site-packages (from langchain_mongodb) (1.2.2)\n",
            "Requirement already satisfied: numpy>=1.26 in c:\\users\\galuh\\miniconda\\envs\\py10\\lib\\site-packages (from langchain_mongodb) (2.2.5)\n",
            "Requirement already satisfied: pymongo>=4.6.1 in c:\\users\\galuh\\miniconda\\envs\\py10\\lib\\site-packages (from langchain_mongodb) (4.12.0)\n",
            "Requirement already satisfied: langsmith<0.4,>=0.1.17 in c:\\users\\galuh\\miniconda\\envs\\py10\\lib\\site-packages (from langchain>=0.3->langchain_mongodb) (0.3.33)\n",
            "Requirement already satisfied: pydantic<3.0.0,>=2.7.4 in c:\\users\\galuh\\miniconda\\envs\\py10\\lib\\site-packages (from langchain>=0.3->langchain_mongodb) (2.11.3)\n",
            "Requirement already satisfied: SQLAlchemy<3,>=1.4 in c:\\users\\galuh\\miniconda\\envs\\py10\\lib\\site-packages (from langchain>=0.3->langchain_mongodb) (1.4.27)\n",
            "Requirement already satisfied: requests<3,>=2 in c:\\users\\galuh\\miniconda\\envs\\py10\\lib\\site-packages (from langchain>=0.3->langchain_mongodb) (2.32.3)\n",
            "Requirement already satisfied: PyYAML>=5.3 in c:\\users\\galuh\\miniconda\\envs\\py10\\lib\\site-packages (from langchain>=0.3->langchain_mongodb) (6.0)\n",
            "Requirement already satisfied: async-timeout<5.0.0,>=4.0.0 in c:\\users\\galuh\\miniconda\\envs\\py10\\lib\\site-packages (from langchain>=0.3->langchain_mongodb) (4.0.3)\n",
            "Requirement already satisfied: tenacity!=8.4.0,<10.0.0,>=8.1.0 in c:\\users\\galuh\\miniconda\\envs\\py10\\lib\\site-packages (from langchain-core>=0.3->langchain_mongodb) (8.1.0)\n",
            "Requirement already satisfied: jsonpatch<2.0,>=1.33 in c:\\users\\galuh\\miniconda\\envs\\py10\\lib\\site-packages (from langchain-core>=0.3->langchain_mongodb) (1.33)\n",
            "Requirement already satisfied: packaging<25,>=23.2 in c:\\users\\galuh\\miniconda\\envs\\py10\\lib\\site-packages (from langchain-core>=0.3->langchain_mongodb) (24.2)\n",
            "Requirement already satisfied: typing-extensions>=4.7 in c:\\users\\galuh\\miniconda\\envs\\py10\\lib\\site-packages (from langchain-core>=0.3->langchain_mongodb) (4.13.0)\n",
            "Requirement already satisfied: dnspython<3.0.0,>=1.16.0 in c:\\users\\galuh\\miniconda\\envs\\py10\\lib\\site-packages (from pymongo>=4.6.1->langchain_mongodb) (2.2.1)\n",
            "Requirement already satisfied: jsonpointer>=1.9 in c:\\users\\galuh\\miniconda\\envs\\py10\\lib\\site-packages (from jsonpatch<2.0,>=1.33->langchain-core>=0.3->langchain_mongodb) (3.0.0)\n",
            "Requirement already satisfied: httpx<1,>=0.23.0 in c:\\users\\galuh\\miniconda\\envs\\py10\\lib\\site-packages (from langsmith<0.4,>=0.1.17->langchain>=0.3->langchain_mongodb) (0.28.1)\n",
            "Requirement already satisfied: orjson<4.0.0,>=3.9.14 in c:\\users\\galuh\\miniconda\\envs\\py10\\lib\\site-packages (from langsmith<0.4,>=0.1.17->langchain>=0.3->langchain_mongodb) (3.10.16)\n",
            "Requirement already satisfied: requests-toolbelt<2.0.0,>=1.0.0 in c:\\users\\galuh\\miniconda\\envs\\py10\\lib\\site-packages (from langsmith<0.4,>=0.1.17->langchain>=0.3->langchain_mongodb) (1.0.0)\n",
            "Requirement already satisfied: zstandard<0.24.0,>=0.23.0 in c:\\users\\galuh\\miniconda\\envs\\py10\\lib\\site-packages (from langsmith<0.4,>=0.1.17->langchain>=0.3->langchain_mongodb) (0.23.0)\n",
            "Requirement already satisfied: annotated-types>=0.6.0 in c:\\users\\galuh\\miniconda\\envs\\py10\\lib\\site-packages (from pydantic<3.0.0,>=2.7.4->langchain>=0.3->langchain_mongodb) (0.7.0)\n",
            "Requirement already satisfied: pydantic-core==2.33.1 in c:\\users\\galuh\\miniconda\\envs\\py10\\lib\\site-packages (from pydantic<3.0.0,>=2.7.4->langchain>=0.3->langchain_mongodb) (2.33.1)\n",
            "Requirement already satisfied: typing-inspection>=0.4.0 in c:\\users\\galuh\\miniconda\\envs\\py10\\lib\\site-packages (from pydantic<3.0.0,>=2.7.4->langchain>=0.3->langchain_mongodb) (0.4.0)\n",
            "Requirement already satisfied: charset-normalizer<4,>=2 in c:\\users\\galuh\\miniconda\\envs\\py10\\lib\\site-packages (from requests<3,>=2->langchain>=0.3->langchain_mongodb) (2.0.12)\n",
            "Requirement already satisfied: idna<4,>=2.5 in c:\\users\\galuh\\miniconda\\envs\\py10\\lib\\site-packages (from requests<3,>=2->langchain>=0.3->langchain_mongodb) (3.3)\n",
            "Requirement already satisfied: urllib3<3,>=1.21.1 in c:\\users\\galuh\\miniconda\\envs\\py10\\lib\\site-packages (from requests<3,>=2->langchain>=0.3->langchain_mongodb) (1.26.11)\n",
            "Requirement already satisfied: certifi>=2017.4.17 in c:\\users\\galuh\\miniconda\\envs\\py10\\lib\\site-packages (from requests<3,>=2->langchain>=0.3->langchain_mongodb) (2022.6.15)\n",
            "Requirement already satisfied: greenlet!=0.4.17 in c:\\users\\galuh\\miniconda\\envs\\py10\\lib\\site-packages (from SQLAlchemy<3,>=1.4->langchain>=0.3->langchain_mongodb) (1.1.2)\n",
            "Requirement already satisfied: anyio in c:\\users\\galuh\\miniconda\\envs\\py10\\lib\\site-packages (from httpx<1,>=0.23.0->langsmith<0.4,>=0.1.17->langchain>=0.3->langchain_mongodb) (3.6.1)\n",
            "Requirement already satisfied: httpcore==1.* in c:\\users\\galuh\\miniconda\\envs\\py10\\lib\\site-packages (from httpx<1,>=0.23.0->langsmith<0.4,>=0.1.17->langchain>=0.3->langchain_mongodb) (1.0.8)\n",
            "Requirement already satisfied: h11<0.15,>=0.13 in c:\\users\\galuh\\miniconda\\envs\\py10\\lib\\site-packages (from httpcore==1.*->httpx<1,>=0.23.0->langsmith<0.4,>=0.1.17->langchain>=0.3->langchain_mongodb) (0.14.0)\n",
            "Requirement already satisfied: sniffio>=1.1 in c:\\users\\galuh\\miniconda\\envs\\py10\\lib\\site-packages (from anyio->httpx<1,>=0.23.0->langsmith<0.4,>=0.1.17->langchain>=0.3->langchain_mongodb) (1.2.0)\n"
          ]
        }
      ],
      "source": [
        "!pip install langchain_mongodb"
      ]
    },
    {
      "cell_type": "code",
      "execution_count": 3,
      "metadata": {
        "id": "Ux5gp8qV9iX5"
      },
      "outputs": [],
      "source": [
        "from pymongo import MongoClient\n",
        "from langchain_mongodb import MongoDBAtlasVectorSearch\n",
        "from langchain_openai import OpenAIEmbeddings, ChatOpenAI\n",
        "from langchain.chains import RetrievalQA\n",
        "from dotenv import load_dotenv\n",
        "import os\n",
        "import re\n",
        "import pymongo\n",
        "from langchain.prompts import PromptTemplate"
      ]
    },
    {
      "cell_type": "code",
      "execution_count": 4,
      "metadata": {
        "id": "50qRco719ndv"
      },
      "outputs": [],
      "source": [
        "# Load Environment Variables\n",
        "load_dotenv(override=True)\n",
        "MONGODB_URI = os.getenv(\"MONGO_URI\")\n",
        "OPENAI_KEY = os.getenv(\"OPENAI_API_KEY\")"
      ]
    },
    {
      "cell_type": "markdown",
      "metadata": {
        "id": "cYQiCcoGVnyH"
      },
      "source": [
        "insight: Membaca kredensial dari file .env"
      ]
    },
    {
      "cell_type": "code",
      "execution_count": 5,
      "metadata": {
        "id": "N3YMZIrB9zli"
      },
      "outputs": [],
      "source": [
        "# Initialize Embeddings\n",
        "embeddings = OpenAIEmbeddings(\n",
        "    model=\"text-embedding-3-small\",\n",
        "    openai_api_key=OPENAI_KEY,\n",
        "    dimensions=1536\n",
        ")"
      ]
    },
    {
      "cell_type": "markdown",
      "metadata": {
        "id": "drfdyTudVr3V"
      },
      "source": [
        "insight: Mengonversi teks FAQ menjadi vektor numerik; Model embedding khusus untuk teks pendek (ukuran 1536 dimensi)"
      ]
    },
    {
      "cell_type": "code",
      "execution_count": 6,
      "metadata": {
        "id": "_hNIB8rm92rp"
      },
      "outputs": [],
      "source": [
        "# MongoDB Connection\n",
        "client = MongoClient(MONGODB_URI)\n",
        "collection = client['Astrax_db']['Astrax']"
      ]
    },
    {
      "cell_type": "markdown",
      "metadata": {
        "id": "fAo_WXlLWF8Y"
      },
      "source": [
        "insight: Menghubungkan ke koleksi Astrax di database Astrax_db; Menggunakan index vector_index untuk pencarian vektor."
      ]
    },
    {
      "cell_type": "code",
      "execution_count": 7,
      "metadata": {
        "id": "CcN1bh-o96l4"
      },
      "outputs": [],
      "source": [
        "# Vector Store Configuration\n",
        "vector_store = MongoDBAtlasVectorSearch(\n",
        "    collection=collection,\n",
        "    embedding=embeddings,\n",
        "    index_name='vector_index',\n",
        "    text_key=\"text\"\n",
        ")"
      ]
    },
    {
      "cell_type": "markdown",
      "metadata": {
        "id": "jNv5AvDPWk9j"
      },
      "source": [
        "insight: Menyimpan dan mencari dokumen FAQ dalam format vektor; set Kolom text digunakan sebagai konten utama."
      ]
    },
    {
      "cell_type": "code",
      "execution_count": 8,
      "metadata": {
        "id": "g7ML-8UT99tE"
      },
      "outputs": [],
      "source": [
        "# Model Configuration\n",
        "llm = ChatOpenAI(\n",
        "    model_name=\"gpt-3.5-turbo\",\n",
        "    openai_api_key=OPENAI_KEY,\n",
        "    temperature=0\n",
        ")"
      ]
    },
    {
      "cell_type": "markdown",
      "metadata": {
        "id": "8IswwICrWTqP"
      },
      "source": [
        "insight:\n",
        "Menggunakan Model GPT-3.5-turbo untuk generasi jawaban; SetTemperature 0 untuk konsistensi jawaban."
      ]
    },
    {
      "cell_type": "code",
      "execution_count": 9,
      "metadata": {},
      "outputs": [],
      "source": [
        "template=\"\"\"\n",
        "Anda adalah asisten pajak digital Direktorat Jenderal Pajak (DJP) Indonesia yang bertugas membantu wajib pajak memahami informasi terkait pajak.\n",
        "\n",
        "Berikut ini adalah kumpulan informasi yang relevan dari basis data DJP yang dapat digunakan untuk menjawab pertanyaan:\n",
        "\n",
        "{context}\n",
        "\n",
        "**Instruksi Penting:**\n",
        "- Jawablah hanya berdasarkan informasi yang tersedia dalam konteks di atas.\n",
        "- Jangan menambahkan informasi baru yang tidak tersedia dalam konteks.\n",
        "- Jangan menjawab pertanyaan yang berada di luar topik perpajakan Indonesia, pelaporan pajak, atau akun pajak digital.\n",
        "- Jawablah **dalam Bahasa Indonesia yang formal namun mudah dipahami**.\n",
        "- Jika konteks tidak memuat informasi yang cukup, jawab dengan: `\"Maaf, saya tidak memiliki informasi yang cukup untuk menjawab pertanyaan tersebut.\"`\n",
        "\n",
        "**Pertanyaan dari pengguna:**\n",
        "{question}\n",
        "\n",
        "**Jawaban HARUS dalam Bahasa Indonesia:**\n",
        "\"\"\"\n",
        "\n",
        "prompt = PromptTemplate(\n",
        "    template=template, \n",
        "    input_variables=[\n",
        "        'context', \n",
        "        'question',\n",
        "    ]\n",
        ")"
      ]
    },
    {
      "cell_type": "code",
      "execution_count": 10,
      "metadata": {
        "id": "7S0VlNYK-Akm"
      },
      "outputs": [],
      "source": [
        "# Retrieval Chain\n",
        "qa = RetrievalQA.from_chain_type(\n",
        "    llm=llm,\n",
        "    chain_type=\"stuff\",\n",
        "    retriever=vector_store.as_retriever(\n",
        "        search_type=\"similarity\",\n",
        "        search_kwargs={\"k\": 3} # Mengambil 3 dokumen terdekat secara semantik\n",
        "    ),\n",
        "    chain_type_kwargs={\"prompt\": prompt}\n",
        ")"
      ]
    },
    {
      "cell_type": "markdown",
      "metadata": {
        "id": "yQG6Vybx-Jg2"
      },
      "source": [
        "## Test Query"
      ]
    },
    {
      "cell_type": "markdown",
      "metadata": {
        "id": "cSBuq2TMa0rz"
      },
      "source": [
        "### Test Query (10 Pertanyaan Seputar Pajak)"
      ]
    },
    {
      "cell_type": "code",
      "execution_count": 11,
      "metadata": {
        "colab": {
          "base_uri": "https://localhost:8080/"
        },
        "id": "arEvTxl4-Fop",
        "outputId": "bc83d71b-2163-4505-df5f-d5110271ccc8"
      },
      "outputs": [
        {
          "name": "stdout",
          "output_type": "stream",
          "text": [
            "\n",
            "==================================================\n",
            "Pertanyaan: Apakah ada sanksi apabila saya tidak lapor pajak?\n"
          ]
        },
        {
          "name": "stderr",
          "output_type": "stream",
          "text": [
            "C:\\Users\\galuh\\AppData\\Local\\Temp\\ipykernel_15212\\3866588145.py:18: LangChainDeprecationWarning: The method `Chain.__call__` was deprecated in langchain 0.1.0 and will be removed in 1.0. Use :meth:`~invoke` instead.\n",
            "  result = qa({\"query\": q})\n"
          ]
        },
        {
          "name": "stdout",
          "output_type": "stream",
          "text": [
            "Jawaban:\n",
            "Apabila Anda tidak melaporkan atau terlambat melaporkan pajak, terdapat sanksi yang akan dikenakan berdasarkan Undang-undang Ketentuan Umum dan Tata Cara Perpajakan. Sanksi tersebut berupa denda administrasi dan sanksi pidana. Denda administrasi untuk SPT Tahunan Wajib Pajak Orang Pribadi adalah Rp. 100.000, sedangkan untuk Wajib Pajak Badan adalah Rp. 1.000.000. Sanksi pidana dapat berupa denda sebesar 100% sampai 400% dari pajak terhutang.\n",
            "==================================================\n",
            "\n",
            "==================================================\n",
            "Pertanyaan: Dalam hal Wajib Pajak melakukan kesalahan berulang, bagaimana interpretasi khilaf, padahal diketahui bahwa Wajib Pajak sudah pernah diperiksa?\n",
            "Jawaban:\n",
            "Atas kesalahan yang dilakukan secara berulang, Wajib Pajak masih dinterpretasikan khilaf sepanjang memenuhi ketentuan dan persyaratan yang diatur dalam PMK-91/PMK.03/2015. Wajib Pajak tidak dapat dianggap khilaf atas suatu masa pajak atau tahun pajak apabila untuk masa pajak dan tahun pajak tersebut telah dilakukan pemeriksaan.\n",
            "==================================================\n",
            "\n",
            "==================================================\n",
            "Pertanyaan: Apakah Wajib Pajak dapat diperiksa setelah melakukan permohonan pembetulan atau penghapusan?\n",
            "Jawaban:\n",
            "Ya. Wajib Pajak dapat diperiksa sesuai dengan prosedur dan ketentuan pemeriksaan yang berlaku, meskipun telah melakukan permohonan pembetulan atau penghapusan.\n",
            "==================================================\n",
            "\n",
            "==================================================\n",
            "Pertanyaan: Apakah Boleh Wajib Pajak Menyampaikan Pemberitahuan Perpanjangan Lebih dari 1 Kali?\n",
            "Jawaban:\n",
            "Wajib Pajak dapat mengajukan Pemberitahuan Perpanjangan SPT Tahunan lebih dari 1 kali, asalkan tidak melebihi batas waktu 2 bulan sejak batas waktu penyampaian SPT Tahunan sesuai dengan ketentuan yang berlaku.\n",
            "==================================================\n",
            "\n",
            "==================================================\n",
            "Pertanyaan: Bagaimana cara masyarakat/pembeli mengecek e-Faktur merupakan Faktur Pajak yang valid?\n",
            "Jawaban:\n",
            "Masyarakat dapat mengecek kebenaran e-Faktur melalui cara-cara berikut ini:\n",
            "1. Periksa cetakan e-Faktur yang dilengkapi dengan QR code sebagai pengaman e-Faktur.\n",
            "2. Gunakan aplikasi pembaca QR code (QR code scanner) pada smartphone atau gadget untuk melihat informasi terkait transaksi penyerahan seperti nilai DPP dan PPN.\n",
            "3. Pastikan keterangan fisik yang ada di cetakan e-Faktur sama dengan QR Code yang ada pada e-Faktur.\n",
            "\n",
            "Dengan melakukan langkah-langkah tersebut, pembeli dapat memastikan bahwa e-Faktur yang diterima merupakan Faktur Pajak yang valid.\n",
            "==================================================\n",
            "\n",
            "==================================================\n",
            "Pertanyaan: Dokumen apa saja yang harus disiapkan untuk lapor SPT Tahunan?\n",
            "Jawaban:\n",
            "Dokumen yang harus disiapkan untuk melaporkan SPT Tahunan adalah formulir bukti potong 1721 A1/1721 A2, tergantung pada jenis pekerjaan (Pegawai Swasta atau Pegawai Negeri), serta print out SPT (induk beserta lampirannya) apabila melaporkan SPT dengan e-SPT.\n",
            "==================================================\n",
            "\n",
            "==================================================\n",
            "Pertanyaan: Bagaimana tata cara pelaporan SPT Tahunan melalui eFiling?\n",
            "Jawaban:\n",
            "Tata cara pelaporan SPT Tahunan melalui e-Filing adalah dengan login ke akun DJP Online, kemudian buat SPT baru, pilih e-Filing atau e-Form, dan isi detail SPT Tahunan sesuai petunjuk yang ada.\n",
            "==================================================\n",
            "\n",
            "==================================================\n",
            "Pertanyaan: Bagaimana cara memberitahukan perpanjangan penyampaian SPT Tahunan?\n",
            "Jawaban:\n",
            "Anda dapat memberitahukan perpanjangan penyampaian SPT Tahunan dengan cara membuat pemberitahuan secara tertulis dan disampaikan ke Kantor Pelayanan Pajak sebelum batas waktu penyampaian SPT Tahunan berakhir. Pemberitahuan tersebut harus dilampiri dengan perhitungan sementara, laporan keuangan sementara, dan SSP sebagai bukti pelunasan. Pemberitahuan harus ditandatangani oleh Wajib Pajak atau Kuasa Wajib Pajak, dan jika ditandatangani oleh Kuasa Wajib Pajak, harus dilampiri dengan Surat Kuasa Khusus. Pemberitahuan dapat disampaikan secara langsung, melalui pos dengan bukti pengiriman surat, melalui jasa ekspedisi atau jasa kurir dengan bukti pengiriman surat, atau melalui e-Filling melalui ASP.\n",
            "==================================================\n",
            "\n",
            "==================================================\n",
            "Pertanyaan: Apakah upload e-Faktur hanya dilakukan pada jam kerja kantor dan harus terkoneksi dengan internet setiap saat?\n",
            "Jawaban:\n",
            "Upload e-Faktur dapat dilakukan 24 jam dan tidak terbatas pada jam kerja kantor. Jaringan internet diperlukan hanya pada saat registrasi aplikasi e-Faktur, autoupdate aplikasi e-Faktur, upload data e-Faktur, dan sinkronisasi data profil Pengusaha Kena Pajak (PKP) jika terdapat perubahan data PKP Penjual.\n",
            "==================================================\n",
            "\n",
            "==================================================\n",
            "Pertanyaan: Bagaimana cara mengisi detail data formulir yang digunakan untuk template SPT yang akan dibuat dan dilaporkan pada e-Form?\n",
            "Jawaban:\n",
            "Untuk mengisi detail data formulir yang digunakan untuk template SPT yang akan dibuat dan dilaporkan pada e-Form, Anda dapat mengikuti langkah-langkah berikut:\n",
            "1. Pilih Tahun Pajak.\n",
            "2. Pilih status SPT apakah normal atau pembetulan.\n",
            "3. Jika status SPT pembetulan, ketik nomor pembetulan SPT yang akan dibuat.\n",
            "4. Jika diperlukan, centang opsi \"Hanya kirim token\" untuk verifikasi saat upload SPT/e-Form.\n",
            "5. Klik \"Kirim Permintaan\".\n",
            "6. Isi data formulir SPT sesuai petunjuk yang diberikan.\n",
            "7. Isi lampiran II SPT sampai selesai.\n",
            "\n",
            "Dengan mengikuti langkah-langkah di atas, Anda dapat mengisi detail data formulir yang diperlukan untuk template SPT yang akan dilaporkan melalui e-Form.\n",
            "==================================================\n"
          ]
        }
      ],
      "source": [
        "# Test Query (10 Pertanyaan Seputar Pajak)\n",
        "questions = [\n",
        "    \"Apakah ada sanksi apabila saya tidak lapor pajak?\",\n",
        "    \"Dalam hal Wajib Pajak melakukan kesalahan berulang, bagaimana interpretasi khilaf, padahal diketahui bahwa Wajib Pajak sudah pernah diperiksa?\",\n",
        "    \"Apakah Wajib Pajak dapat diperiksa setelah melakukan permohonan pembetulan atau penghapusan?\",\n",
        "    \"Apakah Boleh Wajib Pajak Menyampaikan Pemberitahuan Perpanjangan Lebih dari 1 Kali?\",\n",
        "    \"Bagaimana cara masyarakat/pembeli mengecek e-Faktur merupakan Faktur Pajak yang valid?\",\n",
        "    \"Dokumen apa saja yang harus disiapkan untuk lapor SPT Tahunan?\",\n",
        "    \"Bagaimana tata cara pelaporan SPT Tahunan melalui eFiling?\",\n",
        "    \"Bagaimana cara memberitahukan perpanjangan penyampaian SPT Tahunan?\",\n",
        "    \"Apakah upload e-Faktur hanya dilakukan pada jam kerja kantor dan harus terkoneksi dengan internet setiap saat?\",\n",
        "    \"Bagaimana cara mengisi detail data formulir yang digunakan untuk template SPT yang akan dibuat dan dilaporkan pada e-Form?\"\n",
        "]\n",
        "\n",
        "for q in questions:\n",
        "    print(f\"\\n{'='*50}\")\n",
        "    print(f\"Pertanyaan: {q}\")\n",
        "    result = qa({\"query\": q})\n",
        "    print(f\"Jawaban:\\n{result['result']}\")\n",
        "    print(f\"{'='*50}\")"
      ]
    },
    {
      "cell_type": "markdown",
      "metadata": {
        "id": "1W13h8B0aset"
      },
      "source": [
        "Insight: Chatbot berhasil menjawab semua pertanyaan yang berkaitan dengan Pajak sesuai dengan jawaban hasil scraping."
      ]
    },
    {
      "cell_type": "markdown",
      "metadata": {},
      "source": [
        "### Test Query (10 Pertanyaan Seputar Pajak Tanpa Keyword Perpajakan)"
      ]
    },
    {
      "cell_type": "code",
      "execution_count": 13,
      "metadata": {},
      "outputs": [
        {
          "name": "stdout",
          "output_type": "stream",
          "text": [
            "\n",
            "==================================================\n",
            "Pertanyaan: Saya lupa password, bagaimana cara reset password\n",
            "Jawaban:\n",
            "Apabila Anda lupa password, Anda dapat melakukan reset password melalui Akun PKP atau DJP Online. Untuk Akun PKP, Anda dapat membuka akun melalui web https://efaktur.pajak.go.id/login, kemudian klik link \"lupa Password?\" pada halaman login dan ikuti langkah-langkah yang disediakan. Sedangkan untuk DJP Online, Anda dapat masuk ke laman DJP Online, klik menu \"lupa password?reset di sini?\", dan ikuti instruksi yang diberikan. Jika Anda memiliki masalah dalam melakukan reset password, silakan hubungi pihak terkait.\n",
            "==================================================\n",
            "\n",
            "==================================================\n",
            "Pertanyaan: Bagaimana cara buat akun?\n",
            "Jawaban:\n",
            "Untuk membuat akun, PKP yang memenuhi syarat akan dibuatkan Akun PKP oleh DJP. PKP harus mengaktifkan Akun tersebut dengan mengikuti langkah-langkah yang tertera, seperti mengisi identitas sesuai status perkawinan, mengisi kolom-kolom dengan benar, dan memasukkan kode keamanan sebelum mengklik \"submit\". Jika terdapat kolom baru \"Langkah Berikutnya\", PKP harus mengikuti petunjuk tersebut untuk melanjutkan proses pembuatan akun.\n",
            "==================================================\n",
            "\n",
            "==================================================\n",
            "Pertanyaan: Kalau saya bekerja freelance, masuk kategori apa dan alur pelaporan bagaimana?\n",
            "Jawaban:\n",
            "Anda akan masuk ke kategori penghasilan non-Pegawai Negeri Sipil (PNS) atau non-karyawan. Untuk melaporkan pajak, Anda perlu mengisi Surat Pemberitahuan (SPT) sesuai dengan penghasilan yang Anda peroleh dari pekerjaan freelance tersebut. Pastikan untuk mengikuti langkah-langkah yang telah disediakan dalam aplikasi pajak digital DJP untuk melaporkan penghasilan Anda dengan benar.\n",
            "==================================================\n",
            "\n",
            "==================================================\n",
            "Pertanyaan: Apakah saya boleh tidak lapor?\n",
            "Jawaban:\n",
            "Tidak, Anda tidak diperbolehkan untuk tidak melaporkan pajak. Jika tidak melaporkan atau terlambat melaporkan pajak, akan dikenakan sanksi sesuai dengan Undang-undang Perpajakan.\n",
            "==================================================\n",
            "\n",
            "==================================================\n",
            "Pertanyaan: Bagaimana kalau saya pisah harta dengan suami\n",
            "Jawaban:\n",
            "Anda dapat memilih status PH (Pisah Harta dan Penghasilan) pada kolom status kewajiban perpajakan suami-istri dalam Induk SPT. Jika Anda dan suami pisah harta, pilih status tersebut sesuai dengan kondisi Anda.\n",
            "==================================================\n",
            "\n",
            "==================================================\n",
            "Pertanyaan: Dokumen apa saja yang diperlukan untuk registrasi akun?\n",
            "Jawaban:\n",
            "Dokumen yang diperlukan untuk registrasi akun DJP Online adalah kode EFIN yang diajukan ke kantor pajak dan registrasi yang dilakukan melalui https://djponline.pajak.go.id.\n",
            "==================================================\n",
            "\n",
            "==================================================\n",
            "Pertanyaan: Kapan deadline pelaporan?\n",
            "Jawaban:\n",
            "Maaf, saya tidak memiliki informasi yang cukup untuk menjawab pertanyaan tersebut.\n",
            "==================================================\n"
          ]
        }
      ],
      "source": [
        "# Test Query (10 Pertanyaan Seputar Pajak Tanpa Keyword Perpajakan)\n",
        "questions = [\n",
        "    \"Saya lupa password, bagaimana cara reset password\",\n",
        "    \"Bagaimana cara buat akun?\",\n",
        "    \"Kalau saya bekerja freelance, masuk kategori apa dan alur pelaporan bagaimana?\",\n",
        "    \"Apakah saya boleh tidak lapor?\",\n",
        "    \"Bagaimana kalau saya pisah harta dengan suami\",\n",
        "    \"Dokumen apa saja yang diperlukan untuk registrasi akun?\",\n",
        "    \"Kapan deadline pelaporan?\"\n",
        "]\n",
        "\n",
        "for q in questions:\n",
        "    print(f\"\\n{'='*50}\")\n",
        "    print(f\"Pertanyaan: {q}\")\n",
        "    result = qa({\"query\": q})\n",
        "    print(f\"Jawaban:\\n{result['result']}\")\n",
        "    print(f\"{'='*50}\")"
      ]
    },
    {
      "cell_type": "code",
      "execution_count": 15,
      "metadata": {},
      "outputs": [
        {
          "name": "stdout",
          "output_type": "stream",
          "text": [
            "\n",
            "==================================================\n",
            "Pertanyaan: Kapan batas waktu pelaporan?\n",
            "Jawaban:\n",
            "Batas waktu pelaporan pajak tidak diatur dalam PER-16/PJ/2014. Namun disarankan untuk melaporkan/upload e-Faktur sesegera mungkin untuk menghindari sanksi perpajakan yang berlaku.\n",
            "==================================================\n"
          ]
        }
      ],
      "source": [
        "# Test Query (10 Pertanyaan Seputar Pajak Tanpa Keyword Perpajakan)\n",
        "questions = [\n",
        "    \"Kapan batas waktu pelaporan?\"\n",
        "]\n",
        "\n",
        "for q in questions:\n",
        "    print(f\"\\n{'='*50}\")\n",
        "    print(f\"Pertanyaan: {q}\")\n",
        "    result = qa({\"query\": q})\n",
        "    print(f\"Jawaban:\\n{result['result']}\")\n",
        "    print(f\"{'='*50}\")"
      ]
    },
    {
      "cell_type": "markdown",
      "metadata": {},
      "source": [
        "Pertanyaan terakhir \"Kapan deadline pelaporan\" tidak dapat dijawab, padahal terkait perpajakan. Hal ini dikarenakan lingkup pertanyaannya yang luas / ambigu, dan juga dengan mix bahasa inggris. Jika pertanyaannya diganti menggunakan bahasa indonesia, bot berhasil menjawab meskipun tidak detail mengenai pelaporan pajak apa."
      ]
    },
    {
      "cell_type": "markdown",
      "metadata": {
        "id": "So1NYxlyat0s"
      },
      "source": [
        "### Test Query (10 Pertanyaan ambigu diluar Pajak)"
      ]
    },
    {
      "cell_type": "code",
      "execution_count": 14,
      "metadata": {
        "colab": {
          "base_uri": "https://localhost:8080/"
        },
        "id": "y7wcIqv8_F3M",
        "outputId": "ee68c272-0c45-4ff4-ee6f-1f7c48a0aa03"
      },
      "outputs": [
        {
          "name": "stdout",
          "output_type": "stream",
          "text": [
            "\n",
            "==================================================\n",
            "Pertanyaan: Kapan terakhir kali saya lapor pajak?\n",
            "Jawaban:\n",
            "Maaf, saya tidak memiliki informasi yang cukup untuk menjawab pertanyaan tersebut.\n",
            "==================================================\n",
            "\n",
            "==================================================\n",
            "Pertanyaan: Siapa nama direktur kantor pajak sekarang ini?\n",
            "Jawaban:\n",
            "Maaf, saya tidak memiliki informasi yang cukup untuk menjawab pertanyaan tersebut.\n",
            "==================================================\n",
            "\n",
            "==================================================\n",
            "Pertanyaan: Berapa jumlah jendela di kantor pajak?\n",
            "Jawaban:\n",
            "Maaf, saya tidak memiliki informasi yang cukup untuk menjawab pertanyaan tersebut.\n",
            "==================================================\n",
            "\n",
            "==================================================\n",
            "Pertanyaan: kapan pajak pertama kali di temukan?\n",
            "Jawaban:\n",
            "Maaf, saya tidak memiliki informasi yang cukup untuk menjawab pertanyaan tersebut.\n",
            "==================================================\n",
            "\n",
            "==================================================\n",
            "Pertanyaan: Siapa teman baik Kodomo?\n",
            "Jawaban:\n",
            "Maaf, saya tidak memiliki informasi yang cukup untuk menjawab pertanyaan tersebut.\n",
            "==================================================\n",
            "\n",
            "==================================================\n",
            "Pertanyaan: Jam brapa kantor pajak buka?\n",
            "Jawaban:\n",
            "Maaf, saya tidak memiliki informasi yang cukup untuk menjawab pertanyaan tersebut.\n",
            "==================================================\n",
            "\n",
            "==================================================\n",
            "Pertanyaan: Berapa orang yang kerja di perpajakan?\n",
            "Jawaban:\n",
            "Maaf, saya tidak memiliki informasi yang cukup untuk menjawab pertanyaan tersebut.\n",
            "==================================================\n",
            "\n",
            "==================================================\n",
            "Pertanyaan: Apa itu Mobile legend?\n",
            "Jawaban:\n",
            "Maaf, saya tidak memiliki informasi yang cukup untuk menjawab pertanyaan tersebut.\n",
            "==================================================\n",
            "\n",
            "==================================================\n",
            "Pertanyaan: Kapan terakir kali kamu bersyukur?\n",
            "Jawaban:\n",
            "Maaf, saya tidak memiliki informasi yang cukup untuk menjawab pertanyaan tersebut.\n",
            "==================================================\n",
            "\n",
            "==================================================\n",
            "Pertanyaan: Ada berapa kantor pajak di Jakarta?\n",
            "Jawaban:\n",
            "Maaf, saya tidak memiliki informasi yang cukup untuk menjawab pertanyaan tersebut.\n",
            "==================================================\n"
          ]
        }
      ],
      "source": [
        "# Test Query (10 Pertanyaan ambigu diluar Pajak)\n",
        "questions = [\n",
        "    \"Kapan terakhir kali saya lapor pajak?\",\n",
        "    \"Siapa nama direktur kantor pajak sekarang ini?\",\n",
        "    \"Berapa jumlah jendela di kantor pajak?\",\n",
        "    \"kapan pajak pertama kali di temukan?\",\n",
        "    \"Siapa teman baik Kodomo?\",\n",
        "    \"Jam brapa kantor pajak buka?\",\n",
        "    \"Berapa orang yang kerja di perpajakan?\",\n",
        "    \"Apa itu Mobile legend?\",\n",
        "    \"Kapan terakir kali kamu bersyukur?\",\n",
        "    \"Ada berapa kantor pajak di Jakarta?\"\n",
        "]\n",
        "\n",
        "for q in questions:\n",
        "    print(f\"\\n{'='*50}\")\n",
        "    print(f\"Pertanyaan: {q}\")\n",
        "    result = qa({\"query\": q})\n",
        "    print(f\"Jawaban:\\n{result['result']}\")\n",
        "    print(f\"{'='*50}\")"
      ]
    },
    {
      "cell_type": "markdown",
      "metadata": {
        "id": "FrDzX4UjX5cK"
      },
      "source": [
        "Insight: Semua query non-contextual tidak dijawab oleh chatbot"
      ]
    },
    {
      "cell_type": "markdown",
      "metadata": {
        "id": "zju9_zlBY4Os"
      },
      "source": [
        "## Conclusion"
      ]
    },
    {
      "cell_type": "markdown",
      "metadata": {
        "id": "E-Rc8gscY9Rg"
      },
      "source": [
        "xxxx"
      ]
    }
  ],
  "metadata": {
    "colab": {
      "provenance": []
    },
    "kernelspec": {
      "display_name": "py10",
      "language": "python",
      "name": "python3"
    },
    "language_info": {
      "codemirror_mode": {
        "name": "ipython",
        "version": 3
      },
      "file_extension": ".py",
      "mimetype": "text/x-python",
      "name": "python",
      "nbconvert_exporter": "python",
      "pygments_lexer": "ipython3",
      "version": "3.10.16"
    }
  },
  "nbformat": 4,
  "nbformat_minor": 0
}

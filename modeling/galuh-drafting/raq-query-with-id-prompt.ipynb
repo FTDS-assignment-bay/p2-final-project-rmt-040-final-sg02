{
  "cells": [
    {
      "cell_type": "markdown",
      "metadata": {
        "id": "jz_XsMI-RFjD"
      },
      "source": [
        "## Objective"
      ]
    },
    {
      "cell_type": "markdown",
      "metadata": {
        "id": "xgp12ZPHRJVq"
      },
      "source": [
        "Part pengerjaan ini bertujuan membangun sistem chatbot pajak profesional berbasis RAG (Retrieval-Augmented Generation) yang mengintegrasikan data FAQ.csv dari Direktorat Jenderal Pajak Indonesia dengan teknologi AI, untuk memberikan jawaban akurat terkait peraturan perpajakan dalam bahasa Indonesia. Sistem ini dirancang untuk: Memfilter pertanyaan non-pajak secara ketat menggunakan daftar keyword spesifik seperti PPh, PPN, NPWP; Mengambil informasi relevan dari database MongoDB dengan similarity search menggunakan embedding OpenAI; Menghasilkan respons terstruktur berformat profesional."
      ]
    },
    {
      "cell_type": "markdown",
      "metadata": {
        "id": "1TCFq0irRihF"
      },
      "source": [
        "## Pengerjaan"
      ]
    },
    {
      "cell_type": "markdown",
      "metadata": {
        "id": "VcFreAH99qYv"
      },
      "source": [
        "## Import Libraries"
      ]
    },
    {
      "cell_type": "code",
      "execution_count": null,
      "metadata": {},
      "outputs": [],
      "source": [
        "!pip install langchain_mongodb"
      ]
    },
    {
      "cell_type": "code",
      "execution_count": 15,
      "metadata": {
        "id": "Ux5gp8qV9iX5"
      },
      "outputs": [],
      "source": [
        "from pymongo import MongoClient\n",
        "from langchain_mongodb import MongoDBAtlasVectorSearch\n",
        "from langchain_openai import OpenAIEmbeddings, ChatOpenAI\n",
        "from langchain.chains import RetrievalQA\n",
        "from dotenv import load_dotenv\n",
        "import os\n",
        "import re\n",
        "import pymongo\n",
        "from langchain.prompts import PromptTemplate"
      ]
    },
    {
      "cell_type": "code",
      "execution_count": 10,
      "metadata": {
        "id": "50qRco719ndv"
      },
      "outputs": [],
      "source": [
        "# Load Environment Variables\n",
        "load_dotenv(override=True)\n",
        "MONGODB_URI = os.getenv(\"MONGO_URI\")\n",
        "OPENAI_KEY = os.getenv(\"OPENAI_API_KEY\")"
      ]
    },
    {
      "cell_type": "markdown",
      "metadata": {
        "id": "cYQiCcoGVnyH"
      },
      "source": [
        "insight: Membaca kredensial dari file .env"
      ]
    },
    {
      "cell_type": "code",
      "execution_count": 11,
      "metadata": {
        "id": "N3YMZIrB9zli"
      },
      "outputs": [],
      "source": [
        "# Initialize Embeddings\n",
        "embeddings = OpenAIEmbeddings(\n",
        "    model=\"text-embedding-3-small\",\n",
        "    openai_api_key=OPENAI_KEY,\n",
        "    dimensions=1536\n",
        ")"
      ]
    },
    {
      "cell_type": "markdown",
      "metadata": {
        "id": "drfdyTudVr3V"
      },
      "source": [
        "insight: Mengonversi teks FAQ menjadi vektor numerik; Model embedding khusus untuk teks pendek (ukuran 1536 dimensi)"
      ]
    },
    {
      "cell_type": "code",
      "execution_count": 12,
      "metadata": {
        "id": "_hNIB8rm92rp"
      },
      "outputs": [],
      "source": [
        "# MongoDB Connection\n",
        "client = MongoClient(MONGODB_URI)\n",
        "collection = client['Astrax_db']['Astrax']"
      ]
    },
    {
      "cell_type": "markdown",
      "metadata": {
        "id": "fAo_WXlLWF8Y"
      },
      "source": [
        "insight: Menghubungkan ke koleksi Astrax di database Astrax_db; Menggunakan index vector_index untuk pencarian vektor."
      ]
    },
    {
      "cell_type": "code",
      "execution_count": 16,
      "metadata": {
        "id": "CcN1bh-o96l4"
      },
      "outputs": [],
      "source": [
        "# Vector Store Configuration\n",
        "vector_store = MongoDBAtlasVectorSearch(\n",
        "    collection=collection,\n",
        "    embedding=embeddings,\n",
        "    index_name='vector_index',\n",
        "    text_key=\"text\"\n",
        ")"
      ]
    },
    {
      "cell_type": "markdown",
      "metadata": {
        "id": "jNv5AvDPWk9j"
      },
      "source": [
        "insight: Menyimpan dan mencari dokumen FAQ dalam format vektor; set Kolom text digunakan sebagai konten utama."
      ]
    },
    {
      "cell_type": "code",
      "execution_count": 17,
      "metadata": {
        "id": "g7ML-8UT99tE"
      },
      "outputs": [],
      "source": [
        "# Model Configuration\n",
        "llm = ChatOpenAI(\n",
        "    model_name=\"gpt-3.5-turbo\",\n",
        "    openai_api_key=OPENAI_KEY,\n",
        "    temperature=0\n",
        ")"
      ]
    },
    {
      "cell_type": "markdown",
      "metadata": {
        "id": "8IswwICrWTqP"
      },
      "source": [
        "insight:\n",
        "Menggunakan Model GPT-3.5-turbo untuk generasi jawaban; SetTemperature 0 untuk konsistensi jawaban."
      ]
    },
    {
      "cell_type": "code",
      "execution_count": 18,
      "metadata": {},
      "outputs": [],
      "source": [
        "template=\"\"\"\n",
        "Anda adalah asisten pajak digital Direktorat Jenderal Pajak (DJP) Indonesia yang bertugas membantu wajib pajak memahami informasi terkait pajak.\n",
        "\n",
        "Berikut ini adalah kumpulan informasi yang relevan dari basis data DJP yang dapat digunakan untuk menjawab pertanyaan:\n",
        "\n",
        "{context}\n",
        "\n",
        "**Instruksi Penting:**\n",
        "- Jawablah hanya berdasarkan informasi yang tersedia dalam konteks di atas.\n",
        "- Jangan menambahkan informasi baru yang tidak tersedia dalam konteks.\n",
        "- Jangan menjawab pertanyaan yang berada di luar topik perpajakan Indonesia, pelaporan pajak, atau akun pajak digital.\n",
        "- Jawablah **dalam Bahasa Indonesia yang formal namun mudah dipahami**.\n",
        "- Jika konteks tidak memuat informasi yang cukup, jawab dengan: `\"Maaf, saya tidak memiliki informasi yang cukup untuk menjawab pertanyaan tersebut.\"`\n",
        "\n",
        "**Pertanyaan dari pengguna:**\n",
        "{question}\n",
        "\n",
        "**Jawaban HARUS dalam Bahasa Indonesia:**\n",
        "\"\"\"\n",
        "\n",
        "prompt = PromptTemplate(\n",
        "    template=template, \n",
        "    input_variables=[\n",
        "        'context', \n",
        "        'question',\n",
        "    ]\n",
        ")"
      ]
    },
    {
      "cell_type": "code",
      "execution_count": 19,
      "metadata": {
        "id": "7S0VlNYK-Akm"
      },
      "outputs": [],
      "source": [
        "# Retrieval Chain\n",
        "qa = RetrievalQA.from_chain_type(\n",
        "    llm=llm,\n",
        "    chain_type=\"stuff\",\n",
        "    retriever=vector_store.as_retriever(\n",
        "        search_type=\"similarity\",\n",
        "        search_kwargs={\"k\": 3} # Mengambil 3 dokumen terdekat secara semantik\n",
        "    ),\n",
        "    chain_type_kwargs={\"prompt\": prompt}\n",
        ")\n",
        "\n",
        "# def validate_tax_question(query):\n",
        "#     tax_keywords = [\"pajak\", \"ppn\", \"pph\", \"npwp\", \"djp\", \"spt\", \"pmk\", \"e-faktur\"]\n",
        "#     return any(kw in query.lower() for kw in tax_keywords)\n",
        "\n",
        "# def format_answer(answer):\n",
        "#     pdf_links = re.findall(r'https?://\\S+\\.pdf', answer)\n",
        "#     if pdf_links:\n",
        "#         return f\"{answer.split('Link PDF:')[0].strip()}\\n\\nReferensi PDF:\\n\" + \"\\n\".join([f\"- {link}\" for link in pdf_links[:2]])\n",
        "#     return answer.split(\"Link PDF:\")[0].strip()\n",
        "\n",
        "# def ask(query):\n",
        "#     if not validate_tax_question(query):\n",
        "#         return \"Maaf, saya hanya membantu pertanyaan seputar perpajakan Indonesia\"\n",
        "\n",
        "#     try:\n",
        "#         result = qa.invoke({\"query\": query})\n",
        "#         return format_answer(result['result'])\n",
        "#     except Exception as e:\n",
        "#         return f\"⚠️ Error: {str(e)}\""
      ]
    },
    {
      "cell_type": "markdown",
      "metadata": {
        "id": "XHdVZcR4W48W"
      },
      "source": [
        "insight: Mengunakan sistem RAG (Retrieval-Augmented Generation)\n",
        "\n",
        "Workflow:\n",
        "\n",
        "sequenceDiagram\n",
        "\n",
        "    participant User\n",
        "    participant System\n",
        "    participant MongoDB\n",
        "    participant OpenAI\n",
        "\n",
        "    User->>System: Pertanyaan pajak\n",
        "    System->>System: Validasi keyword pajak\n",
        "    alt Non-pajak\n",
        "        System-->>User: \"Maaf, saya hanya membantu pajak\"\n",
        "    else Pajak\n",
        "        System->>MongoDB: Cari 3 dokumen relevan\n",
        "        MongoDB-->>System: Dokumen FAQ\n",
        "        System->>OpenAI: Generate jawaban\n",
        "        OpenAI-->>System: Jawaban mentah\n",
        "        System->>System: Format jawaban + ekstrak PDF\n",
        "        System-->>User: Jawaban terstruktur\n",
        "    end\n"
      ]
    },
    {
      "cell_type": "markdown",
      "metadata": {
        "id": "yQG6Vybx-Jg2"
      },
      "source": [
        "## Test Query"
      ]
    },
    {
      "cell_type": "markdown",
      "metadata": {
        "id": "cSBuq2TMa0rz"
      },
      "source": [
        "### Test Query (10 Pertanyaan Seputar Pajak)"
      ]
    },
    {
      "cell_type": "code",
      "execution_count": 20,
      "metadata": {
        "colab": {
          "base_uri": "https://localhost:8080/"
        },
        "id": "arEvTxl4-Fop",
        "outputId": "bc83d71b-2163-4505-df5f-d5110271ccc8"
      },
      "outputs": [
        {
          "name": "stdout",
          "output_type": "stream",
          "text": [
            "\n",
            "==================================================\n",
            "Pertanyaan: Apakah ada sanksi apabila saya tidak lapor pajak?\n"
          ]
        },
        {
          "name": "stderr",
          "output_type": "stream",
          "text": [
            "C:\\Users\\galuh\\AppData\\Local\\Temp\\ipykernel_38672\\3866588145.py:18: LangChainDeprecationWarning: The method `Chain.__call__` was deprecated in langchain 0.1.0 and will be removed in 1.0. Use :meth:`~invoke` instead.\n",
            "  result = qa({\"query\": q})\n"
          ]
        },
        {
          "name": "stdout",
          "output_type": "stream",
          "text": [
            "Jawaban:\n",
            "Apabila Anda tidak melaporkan atau terlambat melaporkan pajak, terdapat sanksi yang akan dikenakan berdasarkan Undang-undang Ketentuan Umum dan Tata Cara Perpajakan. Sanksi tersebut berupa denda administrasi dan sanksi pidana. Denda administrasi untuk SPT Tahunan Wajib Pajak Orang Pribadi adalah Rp. 100.000, sedangkan untuk Wajib Pajak Badan adalah Rp. 1.000.000. Sanksi pidana dapat berupa denda sebesar 100% sampai 400% dari pajak terhutang.\n",
            "==================================================\n",
            "\n",
            "==================================================\n",
            "Pertanyaan: Dalam hal Wajib Pajak melakukan kesalahan berulang, bagaimana interpretasi khilaf, padahal diketahui bahwa Wajib Pajak sudah pernah diperiksa?\n",
            "Jawaban:\n",
            "Atas kesalahan yang dilakukan secara berulang, Wajib Pajak masih dinterpretasikan khilaf sepanjang memenuhi ketentuan dan persyaratan yang diatur dalam PMK-91/PMK.03/2015. Wajib Pajak tidak dapat dianggap khilaf atas suatu masa pajak atau tahun pajak apabila untuk masa pajak dan tahun pajak tersebut telah dilakukan pemeriksaan.\n",
            "==================================================\n",
            "\n",
            "==================================================\n",
            "Pertanyaan: Apakah Wajib Pajak dapat diperiksa setelah melakukan permohonan pembetulan atau penghapusan?\n",
            "Jawaban:\n",
            "Ya. Wajib Pajak dapat diperiksa sesuai dengan prosedur dan ketentuan pemeriksaan yang berlaku, meskipun telah melakukan permohonan pembetulan atau penghapusan.\n",
            "==================================================\n",
            "\n",
            "==================================================\n",
            "Pertanyaan: Apakah Boleh Wajib Pajak Menyampaikan Pemberitahuan Perpanjangan Lebih dari 1 Kali?\n",
            "Jawaban:\n",
            "Wajib Pajak dapat menyampaikan Pemberitahuan Perpanjangan SPT Tahunan lagi sepanjang tidak melampaui batas waktu 2 (dua) bulan sejak batas waktu penyampaian SPT Tahunan.\n",
            "==================================================\n",
            "\n",
            "==================================================\n",
            "Pertanyaan: Bagaimana cara masyarakat/pembeli mengecek e-Faktur merupakan Faktur Pajak yang valid?\n",
            "Jawaban:\n",
            "Masyarakat dapat mengecek kebenaran e-Faktur melalui cara-cara berikut ini:\n",
            "1. Cek cetakan e-Faktur yang dilengkapi dengan QR code sebagai pengaman e-Faktur.\n",
            "2. Gunakan aplikasi pembaca QR code (QR code scanner) pada smartphone atau gadget untuk melihat informasi terkait transaksi penyerahan seperti nilai DPP dan PPN.\n",
            "3. Pastikan keterangan fisik yang ada di cetakan e-Faktur sama dengan QR Code yang ada pada e-Faktur.\n",
            "\n",
            "Dengan melakukan langkah-langkah tersebut, pembeli dapat memastikan bahwa e-Faktur yang diterima merupakan Faktur Pajak yang valid.\n",
            "==================================================\n",
            "\n",
            "==================================================\n",
            "Pertanyaan: Dokumen apa saja yang harus disiapkan untuk lapor SPT Tahunan?\n",
            "Jawaban:\n",
            "Dokumen yang harus disiapkan untuk melaporkan SPT Tahunan adalah formulir bukti potong 1721 A1 (untuk Pegawai Swasta) atau 1721 A2 (untuk Pegawai Negeri), tergantung pada formulir SPT yang digunakan. Jika melaporkan SPT dengan e-SPT, print out SPT (induk beserta lampirannya) juga harus dilampirkan sebagai persyaratan permohonan. Fotokopi dokumen yang dilampirkan dalam Lampiran SPT tidak perlu dilampirkan dalam permohonan penghapusan.\n",
            "==================================================\n",
            "\n",
            "==================================================\n",
            "Pertanyaan: Bagaimana tata cara pelaporan SPT Tahunan melalui eFiling?\n",
            "Jawaban:\n",
            "Untuk melakukan pelaporan SPT Tahunan melalui eFiling, langkah-langkahnya adalah sebagai berikut:\n",
            "1. Login ke akun DJP Online melalui https://djponline.pajak.go.id\n",
            "2. Isi kolom dengan Nomor NPWP, Password, dan kode captcha untuk masuk.\n",
            "3. Pilih menu e-Filing atau e-Form sesuai kebutuhan.\n",
            "4. Pilih tahun pajak dan status SPT apakah normal atau pembetulan.\n",
            "5. Jika SPT merupakan pembetulan, masukkan informasi mengenai SPT pembetulan ke berapa.\n",
            "6. Jika diperlukan, kirim permintaan untuk mendapatkan kode token verifikasi.\n",
            "7. Ikuti langkah-langkah selanjutnya sesuai petunjuk yang ada pada aplikasi eFiling.\n",
            "==================================================\n",
            "\n",
            "==================================================\n",
            "Pertanyaan: Bagaimana cara memberitahukan perpanjangan penyampaian SPT Tahunan?\n",
            "Jawaban:\n",
            "Anda dapat memberitahukan perpanjangan penyampaian SPT Tahunan dengan cara membuat pemberitahuan secara tertulis dan disampaikan ke Kantor Pelayanan Pajak sebelum batas waktu penyampaian SPT Tahunan berakhir. Pemberitahuan tersebut harus dilampiri dengan perhitungan sementara, laporan keuangan sementara, dan SSP sebagai bukti pelunasan. Pemberitahuan harus ditandatangani oleh Wajib Pajak atau Kuasa Wajib Pajak, dan jika ditandatangani oleh Kuasa Wajib Pajak, harus dilampiri dengan Surat Kuasa Khusus. Pemberitahuan dapat disampaikan secara langsung, melalui pos dengan bukti pengiriman surat, melalui jasa ekspedisi atau jasa kurir dengan bukti pengiriman surat, atau melalui e-Filling melalui ASP.\n",
            "==================================================\n",
            "\n",
            "==================================================\n",
            "Pertanyaan: Apakah upload e-Faktur hanya dilakukan pada jam kerja kantor dan harus terkoneksi dengan internet setiap saat?\n",
            "Jawaban:\n",
            "Upload e-Faktur dapat dilakukan 24 jam dan tidak terbatas pada jam kerja kantor. Jaringan internet diperlukan hanya pada saat tertentu, seperti saat registrasi aplikasi e-Faktur, autoupdate aplikasi e-Faktur, upload data e-Faktur, dan sinkronisasi data profil Pengusaha Kena Pajak (PKP) jika terdapat perubahan data.\n",
            "==================================================\n",
            "\n",
            "==================================================\n",
            "Pertanyaan: Bagaimana cara mengisi detail data formulir yang digunakan untuk template SPT yang akan dibuat dan dilaporkan pada e-Form?\n",
            "Jawaban:\n",
            "Untuk mengisi detail data formulir yang digunakan untuk template SPT yang akan dibuat dan dilaporkan pada e-Form, Anda dapat mengikuti langkah-langkah berikut:\n",
            "1. Pilih Tahun Pajak.\n",
            "2. Pilih status SPT normal/pembetulan.\n",
            "3. Jika status SPT pembetulan, ketik nomor pembetulan yang akan dibuat.\n",
            "4. Jika perlu, centang opsi \"Hanya kirim token\" untuk verifikasi saat upload SPT/e-Form.\n",
            "5. Klik \"Kirim Permintaan\".\n",
            "6. Isi data formulir SPT sesuai petunjuk yang diberikan.\n",
            "7. Isi lampiran II SPT sampai selesai.\n",
            "\n",
            "Dengan mengikuti langkah-langkah tersebut, Anda dapat mengisi detail data formulir yang diperlukan untuk template SPT yang akan dilaporkan melalui e-Form.\n",
            "==================================================\n"
          ]
        }
      ],
      "source": [
        "# Test Query (10 Pertanyaan Seputar Pajak)\n",
        "questions = [\n",
        "    \"Apakah ada sanksi apabila saya tidak lapor pajak?\",\n",
        "    \"Dalam hal Wajib Pajak melakukan kesalahan berulang, bagaimana interpretasi khilaf, padahal diketahui bahwa Wajib Pajak sudah pernah diperiksa?\",\n",
        "    \"Apakah Wajib Pajak dapat diperiksa setelah melakukan permohonan pembetulan atau penghapusan?\",\n",
        "    \"Apakah Boleh Wajib Pajak Menyampaikan Pemberitahuan Perpanjangan Lebih dari 1 Kali?\",\n",
        "    \"Bagaimana cara masyarakat/pembeli mengecek e-Faktur merupakan Faktur Pajak yang valid?\",\n",
        "    \"Dokumen apa saja yang harus disiapkan untuk lapor SPT Tahunan?\",\n",
        "    \"Bagaimana tata cara pelaporan SPT Tahunan melalui eFiling?\",\n",
        "    \"Bagaimana cara memberitahukan perpanjangan penyampaian SPT Tahunan?\",\n",
        "    \"Apakah upload e-Faktur hanya dilakukan pada jam kerja kantor dan harus terkoneksi dengan internet setiap saat?\",\n",
        "    \"Bagaimana cara mengisi detail data formulir yang digunakan untuk template SPT yang akan dibuat dan dilaporkan pada e-Form?\"\n",
        "]\n",
        "\n",
        "for q in questions:\n",
        "    print(f\"\\n{'='*50}\")\n",
        "    print(f\"Pertanyaan: {q}\")\n",
        "    result = qa({\"query\": q})\n",
        "    print(f\"Jawaban:\\n{result['result']}\")\n",
        "    print(f\"{'='*50}\")"
      ]
    },
    {
      "cell_type": "markdown",
      "metadata": {
        "id": "1W13h8B0aset"
      },
      "source": [
        "Insight: Chatbot berhasil menjawab semua pertanyaan yang berkaitan dengan Pajak sesuai dengan jawaban hasil scraping."
      ]
    },
    {
      "cell_type": "markdown",
      "metadata": {},
      "source": [
        "### Test Query (10 Pertanyaan Seputar Pajak Tanpa Keyword Perpajakan)"
      ]
    },
    {
      "cell_type": "code",
      "execution_count": 21,
      "metadata": {},
      "outputs": [
        {
          "name": "stdout",
          "output_type": "stream",
          "text": [
            "\n",
            "==================================================\n",
            "Pertanyaan: Saya lupa password, bagaimana cara reset password\n",
            "Jawaban:\n",
            "Apabila Anda lupa password, Anda dapat melakukan reset password melalui Akun PKP dengan cara membuka akun PKP melalui web: https://efaktur.pajak.go.id/login, kemudian klik link \"lupa Password?\" pada halaman login. Selanjutnya, masukkan username berupa NPWP 15 digit dan email utama, lalu klik tombol \"Reset Password\". Jika NPWP 15 dan email utama tidak valid, sistem akan menampilkan informasi kesalahan.\n",
            "==================================================\n",
            "\n",
            "==================================================\n",
            "Pertanyaan: Bagaimana cara buat akun?\n",
            "Jawaban:\n",
            "Untuk membuat akun, PKP yang memenuhi syarat akan dibuatkan Akun PKP oleh DJP. PKP harus mengaktifkan Akun tersebut dengan mengikuti langkah-langkah yang tertera, seperti mengisi identitas sesuai status, mengisi kolom-kolom dengan benar, dan memasukkan kode keamanan sebelum mengklik \"submit\". Langkah selanjutnya akan sama dengan pertanyaan lupa password.\n",
            "==================================================\n",
            "\n",
            "==================================================\n",
            "Pertanyaan: Kalau saya bekerja freelance, masuk kategori apa dan alur pelaporan bagaimana?\n",
            "Jawaban:\n",
            "Jika Anda bekerja freelance, Anda termasuk dalam kategori wajib pajak yang harus melaporkan penghasilan Anda. Anda dapat melaporkan penghasilan tersebut melalui SPT (Surat Pemberitahuan) dengan mengikuti alur pelaporan yang telah disediakan oleh Direktorat Jenderal Pajak (DJP). Pastikan untuk mengisi setiap kolom dengan benar sesuai dengan kondisi Anda, termasuk pengisian netto dan penghasilan kena pajak. Jika pengisian menunjukkan SPT nihil, Anda dapat memasukkan kode verifikasi dan mengirimkan SPT dengan mengklik \"Kirim SPT\" dan terakhir \"Selesai\".\n",
            "==================================================\n",
            "\n",
            "==================================================\n",
            "Pertanyaan: Apakah saya boleh tidak lapor?\n",
            "Jawaban:\n",
            "Tidak, Anda tidak diperbolehkan untuk tidak melaporkan pajak. Jika tidak melaporkan atau terlambat melaporkan pajak, akan dikenakan sanksi sesuai dengan Undang-undang Ketentuan Umum dan Tata Cara Perpajakan.\n",
            "==================================================\n",
            "\n",
            "==================================================\n",
            "Pertanyaan: Bagaimana kalau saya pisah harta dengan suami\n",
            "Jawaban:\n",
            "Anda dapat memilih status PH (Pisah Harta dan Penghasilan) pada kolom status kewajiban perpajakan suami-istri pada Induk SPT. Jika Anda dan suami pisah harta, pilih status tersebut untuk melaporkan kondisi tersebut dalam pengisian SPT Anda.\n",
            "==================================================\n",
            "\n",
            "==================================================\n",
            "Pertanyaan: Dokumen apa saja yang diperlukan untuk registrasi akun?\n",
            "Jawaban:\n",
            "Dokumen yang diperlukan untuk registrasi akun DJP Online adalah kode EFIN yang diajukan ke kantor pajak dan registrasi yang dilakukan melalui https://djponline.pajak.go.id.\n",
            "==================================================\n",
            "\n",
            "==================================================\n",
            "Pertanyaan: Kapan deadline pelaporan?\n",
            "Jawaban:\n",
            "Maaf, saya tidak memiliki informasi yang cukup untuk menjawab pertanyaan tersebut.\n",
            "==================================================\n"
          ]
        }
      ],
      "source": [
        "# Test Query (10 Pertanyaan Seputar Pajak Tanpa Keyword Perpajakan)\n",
        "questions = [\n",
        "    \"Saya lupa password, bagaimana cara reset password\",\n",
        "    \"Bagaimana cara buat akun?\",\n",
        "    \"Kalau saya bekerja freelance, masuk kategori apa dan alur pelaporan bagaimana?\",\n",
        "    \"Apakah saya boleh tidak lapor?\",\n",
        "    \"Bagaimana kalau saya pisah harta dengan suami\",\n",
        "    \"Dokumen apa saja yang diperlukan untuk registrasi akun?\",\n",
        "    \"Kapan deadline pelaporan?\"\n",
        "]\n",
        "\n",
        "for q in questions:\n",
        "    print(f\"\\n{'='*50}\")\n",
        "    print(f\"Pertanyaan: {q}\")\n",
        "    result = qa({\"query\": q})\n",
        "    print(f\"Jawaban:\\n{result['result']}\")\n",
        "    print(f\"{'='*50}\")"
      ]
    },
    {
      "cell_type": "markdown",
      "metadata": {
        "id": "So1NYxlyat0s"
      },
      "source": [
        "### Test Query (10 Pertanyaan ambigu diluar Pajak)"
      ]
    },
    {
      "cell_type": "code",
      "execution_count": 22,
      "metadata": {
        "colab": {
          "base_uri": "https://localhost:8080/"
        },
        "id": "y7wcIqv8_F3M",
        "outputId": "ee68c272-0c45-4ff4-ee6f-1f7c48a0aa03"
      },
      "outputs": [
        {
          "name": "stdout",
          "output_type": "stream",
          "text": [
            "\n",
            "==================================================\n",
            "Pertanyaan: Kapan terakhir kali saya lapor pajak?\n",
            "Jawaban:\n",
            "Maaf, saya tidak memiliki informasi yang cukup untuk menjawab pertanyaan tersebut.\n",
            "==================================================\n",
            "\n",
            "==================================================\n",
            "Pertanyaan: Siapa nama direktur kantor pajak sekarang ini?\n",
            "Jawaban:\n",
            "Maaf, saya tidak memiliki informasi yang cukup untuk menjawab pertanyaan tersebut.\n",
            "==================================================\n",
            "\n",
            "==================================================\n",
            "Pertanyaan: Berapa jumlah jendela di kantor pajak?\n",
            "Jawaban:\n",
            "Maaf, saya tidak memiliki informasi yang cukup untuk menjawab pertanyaan tersebut.\n",
            "==================================================\n",
            "\n",
            "==================================================\n",
            "Pertanyaan: kapan pajak pertama kali di temukan?\n",
            "Jawaban:\n",
            "Maaf, saya tidak memiliki informasi yang cukup untuk menjawab pertanyaan tersebut.\n",
            "==================================================\n",
            "\n",
            "==================================================\n",
            "Pertanyaan: Siapa teman baik Kodomo?\n",
            "Jawaban:\n",
            "Maaf, saya tidak memiliki informasi yang cukup untuk menjawab pertanyaan tersebut.\n",
            "==================================================\n",
            "\n",
            "==================================================\n",
            "Pertanyaan: Jam brapa kantor pajak buka?\n",
            "Jawaban:\n",
            "Maaf, saya tidak memiliki informasi yang cukup untuk menjawab pertanyaan tersebut.\n",
            "==================================================\n",
            "\n",
            "==================================================\n",
            "Pertanyaan: Berapa orang yang kerja di perpajakan?\n",
            "Jawaban:\n",
            "Maaf, saya tidak memiliki informasi yang cukup untuk menjawab pertanyaan tersebut.\n",
            "==================================================\n",
            "\n",
            "==================================================\n",
            "Pertanyaan: Apa itu Mobile legend?\n",
            "Jawaban:\n",
            "Maaf, saya tidak memiliki informasi yang cukup untuk menjawab pertanyaan tersebut.\n",
            "==================================================\n",
            "\n",
            "==================================================\n",
            "Pertanyaan: Kapan terakir kali kamu bersyukur?\n",
            "Jawaban:\n",
            "Maaf, saya tidak memiliki informasi yang cukup untuk menjawab pertanyaan tersebut.\n",
            "==================================================\n",
            "\n",
            "==================================================\n",
            "Pertanyaan: Ada berapa kantor pajak di Jakarta?\n",
            "Jawaban:\n",
            "Maaf, saya tidak memiliki informasi yang cukup untuk menjawab pertanyaan tersebut.\n",
            "==================================================\n"
          ]
        }
      ],
      "source": [
        "# Test Query (10 Pertanyaan ambigu diluar Pajak)\n",
        "questions = [\n",
        "    \"Kapan terakhir kali saya lapor pajak?\",\n",
        "    \"Siapa nama direktur kantor pajak sekarang ini?\",\n",
        "    \"Berapa jumlah jendela di kantor pajak?\",\n",
        "    \"kapan pajak pertama kali di temukan?\",\n",
        "    \"Siapa teman baik Kodomo?\",\n",
        "    \"Jam brapa kantor pajak buka?\",\n",
        "    \"Berapa orang yang kerja di perpajakan?\",\n",
        "    \"Apa itu Mobile legend?\",\n",
        "    \"Kapan terakir kali kamu bersyukur?\",\n",
        "    \"Ada berapa kantor pajak di Jakarta?\"\n",
        "]\n",
        "\n",
        "for q in questions:\n",
        "    print(f\"\\n{'='*50}\")\n",
        "    print(f\"Pertanyaan: {q}\")\n",
        "    result = qa({\"query\": q})\n",
        "    print(f\"Jawaban:\\n{result['result']}\")\n",
        "    print(f\"{'='*50}\")"
      ]
    },
    {
      "cell_type": "markdown",
      "metadata": {
        "id": "FrDzX4UjX5cK"
      },
      "source": [
        "Insight: Semua query non-contextual tidak dijawab oleh chatbot"
      ]
    },
    {
      "cell_type": "markdown",
      "metadata": {
        "id": "zju9_zlBY4Os"
      },
      "source": [
        "## Conclusion"
      ]
    },
    {
      "cell_type": "markdown",
      "metadata": {
        "id": "E-Rc8gscY9Rg"
      },
      "source": [
        "xxxx"
      ]
    }
  ],
  "metadata": {
    "colab": {
      "provenance": []
    },
    "kernelspec": {
      "display_name": "py10",
      "language": "python",
      "name": "python3"
    },
    "language_info": {
      "codemirror_mode": {
        "name": "ipython",
        "version": 3
      },
      "file_extension": ".py",
      "mimetype": "text/x-python",
      "name": "python",
      "nbconvert_exporter": "python",
      "pygments_lexer": "ipython3",
      "version": "3.10.16"
    }
  },
  "nbformat": 4,
  "nbformat_minor": 0
}
